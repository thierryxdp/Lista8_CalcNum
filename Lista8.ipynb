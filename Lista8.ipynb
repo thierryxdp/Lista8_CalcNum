{
 "cells": [
  {
   "cell_type": "markdown",
   "id": "7e16d89b",
   "metadata": {},
   "source": [
    "# Lista 8 de Cálculo Numérico"
   ]
  },
  {
   "cell_type": "code",
   "execution_count": 3,
   "id": "0ad7675f",
   "metadata": {},
   "outputs": [],
   "source": [
    "using LinearAlgebra\n",
    "using Plots"
   ]
  },
  {
   "cell_type": "markdown",
   "id": "9ecd80e0",
   "metadata": {},
   "source": [
    "## Questão 1."
   ]
  },
  {
   "cell_type": "markdown",
   "id": "e1b457dd",
   "metadata": {},
   "source": [
    "### a. Compressão"
   ]
  },
  {
   "cell_type": "markdown",
   "id": "028ac0b3",
   "metadata": {},
   "source": [
    "### Compressão de Dados em Matrizes"
   ]
  },
  {
   "cell_type": "markdown",
   "id": "b70b331f",
   "metadata": {},
   "source": [
    "A ideia da compressão de dados é encontrarmos vetores base dentro da matriz tal que forneçam uma base para a composição de todos os dados. Porém, na vida real precisamos encontrar aproximações, visto que o uso de números reais acabam dificultando uma base L.I de poucos vetores representarem muitos dados.\n",
    "\n",
    "Na ideia simples, transformamos a matriz em uma multiplicação de duas matrizes, tal que a primeira seja os vetores base e a segunda os coeficientes das combinações lineares.\n",
    "\n",
    "Com a preocupação de se adequar aos números reais, começamos a analisar isso pelo erro da matriz original com a nova multiplicação das duas matrizes. Para quantificar o erro, usamos a ideia de norma de matriz, que é dada pela soma das normas de cada vetor (colunas) da matriz.\n",
    "\n",
    "Então, temos que dado a matriz A e o vetor b, precisamos determinar c tal que \n",
    "\n",
    "$$min ||A - [b][c^T]|| \\longrightarrow min ||[(a_1)(a_2)...(a_n)] - [c_1(b) c_2(b) ... c_n(b)]|| \\longrightarrow ||(a_1 - c_1b)(a_2-c_2b)...(a_n-c_nb)||$$\n",
    "\n",
    "Visto que $e_n = a_n - c_nb \\space \\bot \\space c_nb$, pelo produto interno temos que $e_n^Tc_nb = 0 \\longrightarrow (a_n - c_nb)^Tc_nb = 0$. Aplicando a transposta tal que $(M.Q)^T = Q^T.M^T$ e $(M - Q)^T = M^T - Q^T$ obtemos:\n",
    "\n",
    "$$(a_n - c_nb)^Tc_nb = 0 \\longrightarrow (a_n^T - (c_nb)^T)c_nb = 0 \\longrightarrow a_n^Tc_nb - c_n^2b^Tb = 0 \\longrightarrow a_n^Tc_nb = c_n^2b^Tb $$\n",
    "\n",
    "Desconsiderando o caso em que $c_n = 0$ pois é um caso muito trivial, podemos dividir a equação em ambos os lados por $c_n$, resultando em:\n",
    "\n",
    "$$a_n^Tb = c_nb^Tb \\longrightarrow c_n = \\frac{a_n^Tb}{b^Tb}$$\n",
    "\n",
    "A partir da análise feita acima podemos escrever um código em Julia para achar o vetor c:"
   ]
  },
  {
   "cell_type": "code",
   "execution_count": 244,
   "id": "9e878289",
   "metadata": {},
   "outputs": [
    {
     "data": {
      "text/plain": [
       "melhores_coords (generic function with 1 method)"
      ]
     },
     "execution_count": 244,
     "metadata": {},
     "output_type": "execute_result"
    }
   ],
   "source": [
    "function melhores_coords(A,b) #retorna c tal que norm(A-b*c') é mínima\n",
    "    m, n = size(A)\n",
    "    A = 1.0 * A # multiplica-se por 1.0 para evitar erros de operações matriciais entre inteiros e float's.\n",
    "    c = zeros(n)    \n",
    "    c = A'*(b/(b'*b)) # Operação para achar o vetor c que minimiza a distância perpendicular à reta.\n",
    "    return c\n",
    "end"
   ]
  },
  {
   "cell_type": "code",
   "execution_count": 245,
   "id": "6687850c",
   "metadata": {},
   "outputs": [
    {
     "data": {
      "text/plain": [
       "3×3 Array{Float64,2}:\n",
       " 1.0001  10.001  3.0\n",
       " 2.01    20.3    6.0\n",
       " 3.003   30.0    9.0"
      ]
     },
     "execution_count": 245,
     "metadata": {},
     "output_type": "execute_result"
    }
   ],
   "source": [
    "A=[1.0001 10.001 3;2.01 20.3 6;3.003 30 9]"
   ]
  },
  {
   "cell_type": "code",
   "execution_count": 246,
   "id": "252be936",
   "metadata": {},
   "outputs": [
    {
     "data": {
      "text/plain": [
       "3-element Array{Int64,1}:\n",
       " 1\n",
       " 2\n",
       " 3"
      ]
     },
     "execution_count": 246,
     "metadata": {},
     "output_type": "execute_result"
    }
   ],
   "source": [
    "b=[1;2;3]"
   ]
  },
  {
   "cell_type": "code",
   "execution_count": 247,
   "id": "2ae0544e",
   "metadata": {},
   "outputs": [
    {
     "data": {
      "text/plain": [
       "3-element Array{Float64,1}:\n",
       "  1.0020785714285714\n",
       " 10.04292857142857\n",
       "  3.0"
      ]
     },
     "execution_count": 247,
     "metadata": {},
     "output_type": "execute_result"
    }
   ],
   "source": [
    "c=melhores_coords(A,b)"
   ]
  },
  {
   "cell_type": "code",
   "execution_count": 248,
   "id": "34712f06",
   "metadata": {},
   "outputs": [
    {
     "data": {
      "text/plain": [
       "0.2534747564213406"
      ]
     },
     "execution_count": 248,
     "metadata": {},
     "output_type": "execute_result"
    }
   ],
   "source": [
    "norm(A-b*c') # O erro ainda é bem grande"
   ]
  },
  {
   "cell_type": "markdown",
   "id": "3c7ca729",
   "metadata": {},
   "source": [
    "Podemos aplicar o método de melhores coordenadas mais vezes, até convergir e encontrarmos a melhor coordenada possível para a base dada. Para aplicar mais de uma vez, alteramos entre bases que são equivalentes como o algoritmo abaixo denota:"
   ]
  },
  {
   "cell_type": "code",
   "execution_count": 249,
   "id": "f41cc325",
   "metadata": {},
   "outputs": [
    {
     "data": {
      "text/plain": [
       "acha_melhor_minimizacao (generic function with 1 method)"
      ]
     },
     "execution_count": 249,
     "metadata": {},
     "output_type": "execute_result"
    }
   ],
   "source": [
    "function acha_melhor_minimizacao(A)\n",
    "    # Pega o tamanho da matriz A\n",
    "    n,m = size(A)\n",
    "    \n",
    "    # Inicializa os vetores que serão usados: b para as bases e para os coeficientes.\n",
    "    bv = randn(n)\n",
    "    cv = randn(m)\n",
    "    \n",
    "    bw = zeros(m)\n",
    "    cw = zeros(n)\n",
    "    \n",
    "    # Aplicamos o método de melhores_coords 100 vezes para maior garantia que o método convergiu\n",
    "    for i in 1:50\n",
    "        cv=melhores_coords(A, bv) \n",
    "        bw=cv\n",
    "        cw=melhores_coords(A', bw)\n",
    "        bv=cw\n",
    "    end\n",
    "    \n",
    "    return bv,cv\n",
    "end"
   ]
  },
  {
   "cell_type": "markdown",
   "id": "0b9c827f",
   "metadata": {},
   "source": [
    "Como o método mais acima é usado somente com uma base e queremos usar um número qualquer, precisamos generalizar. Chamamos a generalização de método da compressão:"
   ]
  },
  {
   "cell_type": "code",
   "execution_count": 250,
   "id": "3c243e47",
   "metadata": {},
   "outputs": [
    {
     "data": {
      "text/plain": [
       "compressao (generic function with 1 method)"
      ]
     },
     "execution_count": 250,
     "metadata": {},
     "output_type": "execute_result"
    }
   ],
   "source": [
    "function compressao(A,nível)\n",
    "    # Pega tamanho e inicializa os vetores\n",
    "    m,n=size(A)\n",
    "    B=zeros(m,nível)\n",
    "    C=zeros(n,nível)\n",
    "    \n",
    "    for i=1:nível\n",
    "        B[:,i], C[:,i] = acha_melhor_minimizacao(A) # aplica melhor minimizacao para cada base e coeficiente\n",
    "        A = A - B[:,i]*C[:,i]' # Vai reduzindo o erro\n",
    "    end\n",
    "    return B,C\n",
    "end"
   ]
  },
  {
   "cell_type": "code",
   "execution_count": 251,
   "id": "22cf4065",
   "metadata": {},
   "outputs": [
    {
     "data": {
      "text/plain": [
       "3×4 Array{Float64,2}:\n",
       "  2.36425    0.918871  -0.764153  -2.08212\n",
       " -0.511204  -1.7871    -1.50781   -0.631609\n",
       "  0.187884   0.425158   0.983586  -0.209389"
      ]
     },
     "execution_count": 251,
     "metadata": {},
     "output_type": "execute_result"
    }
   ],
   "source": [
    "A = randn(3,4)"
   ]
  },
  {
   "cell_type": "code",
   "execution_count": 252,
   "id": "1cefee1a",
   "metadata": {},
   "outputs": [
    {
     "data": {
      "text/plain": [
       "([-1.813319628444808 0.23119806481861876 0.08014695743508177; 0.18627773229753664 1.774985708500137 -0.8986964897893819; -0.13256554274559934 -0.6683160227493781 -2.359128841037154], [-1.3193836560391228 -0.13321813217061 0.03223775480243875; -0.6153348051660495 -0.8885437904892883 0.10607387106105673; 0.2916991808189086 -0.9615661031042078 -0.16091734890446352; 1.1033575135737663 -0.4006223698660768 0.1402486216186313])"
      ]
     },
     "execution_count": 252,
     "metadata": {},
     "output_type": "execute_result"
    }
   ],
   "source": [
    "B,C = compressao(A,3)"
   ]
  },
  {
   "cell_type": "code",
   "execution_count": 253,
   "id": "0f5446ed",
   "metadata": {},
   "outputs": [
    {
     "data": {
      "text/plain": [
       "3.387999773988765e-16"
      ]
     },
     "execution_count": 253,
     "metadata": {},
     "output_type": "execute_result"
    }
   ],
   "source": [
    "norm(A-B*C')"
   ]
  },
  {
   "cell_type": "code",
   "execution_count": 254,
   "id": "d25c5cf9",
   "metadata": {},
   "outputs": [
    {
     "name": "stdout",
     "output_type": "stream",
     "text": [
      "1: 18.56562762673462\n",
      "2: 16.80517787086695\n",
      "3: 15.182149914255637\n",
      "4: 13.666536452384204\n",
      "5: 12.176748226636187\n",
      "6: 10.735360880285674\n",
      "7: 9.630533886275304\n",
      "8: 8.538848333825037\n",
      "9: 7.411864169338849\n",
      "10: 6.498741397442475\n",
      "11: 5.639794154100951\n",
      "12: 4.834557879288218\n",
      "13: 4.055416711403662\n",
      "14: 3.2545422898955056\n",
      "15: 2.574505462786986\n",
      "16: 2.0052135216102194\n",
      "17: 1.3482578050968284\n",
      "18: 0.5713853921096133\n",
      "19: 0.021357152686520005\n",
      "20: 5.093497972679533e-15\n"
     ]
    }
   ],
   "source": [
    "# Chance pequena de existirem colunas Linearmente Dependentes\n",
    "N = 20\n",
    "A = randn(N, N)\n",
    "for i in 1:N\n",
    "    B,C = compressao(A, i)\n",
    "    print(i, \": \", norm(A-B*C'), \"\\n\")\n",
    "end"
   ]
  },
  {
   "cell_type": "code",
   "execution_count": 255,
   "id": "801e6d16",
   "metadata": {},
   "outputs": [
    {
     "name": "stdout",
     "output_type": "stream",
     "text": [
      "1.831026719408895e-14\n",
      "0.0\n",
      "0.0\n",
      "NaN\n",
      "NaN\n",
      "NaN\n",
      "NaN\n",
      "NaN\n",
      "NaN\n",
      "NaN\n"
     ]
    }
   ],
   "source": [
    "N = 20\n",
    "A = zeros(N, N)\n",
    "for i in 1:N\n",
    "    A[:, i] .= i\n",
    "end\n",
    "for i in 1:10\n",
    "    B,C = compressao(A, i)\n",
    "    print(norm(A-B*C'), \"\\n\")\n",
    "end"
   ]
  },
  {
   "cell_type": "markdown",
   "id": "f93085aa",
   "metadata": {},
   "source": [
    "### b. Gauss-Jacobi"
   ]
  },
  {
   "cell_type": "markdown",
   "id": "5958c121",
   "metadata": {},
   "source": [
    "O método utilizado será o do ponto fixo, em que iniciamos com o sistema linear:\n",
    "\n",
    "$$A.x=b$$\n",
    "\n",
    "Chamaremos $A=M-K$ para um $M$ facilmente invertível e um $K$ resto da matriz.\n",
    "\n",
    "$$M.x-K.x=b \\\\\n",
    "M.x=b+K.x \\\\\n",
    "x=M^{-1}.b+M^{-1}.K.x$$\n",
    "\n",
    "Chamaremos $M^{-1}.b$ de $c$ e o $M^{-1}.K$ de $R$:\n",
    "\n",
    "$$x=R.x+c$$\n",
    "\n",
    "Nosso método numérico a ser implementado em cima dessa equação é dar um chute inicial e ir substituindo nela:\n",
    "\n",
    "$$x^{(0)}=chute_{inicial}$$\n",
    "\n",
    "$$x^{(k+1)}=R.x^{(k)}+c$$\n",
    "\n",
    "No caso específico do **Gauss-Jacobi**, a **matriz $M$ facilmente inversível é uma diagonal.**"
   ]
  },
  {
   "cell_type": "code",
   "execution_count": 256,
   "id": "9e16372f",
   "metadata": {},
   "outputs": [
    {
     "data": {
      "text/plain": [
       "gauss_jacobi (generic function with 1 method)"
      ]
     },
     "execution_count": 256,
     "metadata": {},
     "output_type": "execute_result"
    }
   ],
   "source": [
    "function gauss_jacobi(A,b,iteracoes)\n",
    "    M = Diagonal(A)\n",
    "    K = M-A\n",
    "    R = inv(M)*K\n",
    "    c = inv(M)*b\n",
    "    \n",
    "    lin = length(b)\n",
    "    x = zeros(lin,1)\n",
    "    for i = 1:iteracoes\n",
    "        x = R*x + c\n",
    "    end\n",
    "    \n",
    "    return x\n",
    "end"
   ]
  },
  {
   "cell_type": "code",
   "execution_count": 257,
   "id": "151ac73c",
   "metadata": {},
   "outputs": [
    {
     "name": "stdout",
     "output_type": "stream",
     "text": [
      "Norma: 8.881784197001252e-16\n"
     ]
    }
   ],
   "source": [
    "A = [4 2 1 ; 1 5 1 ; 3 4 10]\n",
    "b = [7 ; 7 ; 17]\n",
    "\n",
    "x = gauss_jacobi(A,b,300)\n",
    "println(\"Norma: \", norm(A*x-b))"
   ]
  },
  {
   "cell_type": "code",
   "execution_count": 258,
   "id": "6288816d",
   "metadata": {},
   "outputs": [
    {
     "name": "stdout",
     "output_type": "stream",
     "text": [
      "Norma: 1.1102230246251565e-16\n"
     ]
    }
   ],
   "source": [
    "A = [5 2 1 -1 ; 1 3 -1 1 ; 2 0 4 1 ; 1 1 1 8]\n",
    "b = [1 ; -1 ; 1 ; -3]\n",
    "\n",
    "x = gauss_jacobi(A,b,300)\n",
    "println(\"Norma: \", norm(A*x-b))"
   ]
  },
  {
   "cell_type": "markdown",
   "id": "2fa84618",
   "metadata": {},
   "source": [
    "### c. Gauss-Seidel"
   ]
  },
  {
   "cell_type": "markdown",
   "id": "6cdd1fd2",
   "metadata": {},
   "source": [
    "O método de Gauss-Seidel é semelhante ao anterior, a diferença está no M, que ao invés de utilizar a matriz diagonal que é fácil de inverter, utiliza a triangular superior, que também possui uma inversão fácil."
   ]
  },
  {
   "cell_type": "code",
   "execution_count": 259,
   "id": "d1a8f981",
   "metadata": {},
   "outputs": [
    {
     "data": {
      "text/plain": [
       "gauss_seidel (generic function with 1 method)"
      ]
     },
     "execution_count": 259,
     "metadata": {},
     "output_type": "execute_result"
    }
   ],
   "source": [
    "function gauss_seidel(A,b,iteracoes)\n",
    "    M = UpperTriangular(A)\n",
    "    K = M-A\n",
    "    R = inv(M)*K\n",
    "    c = inv(M)*b\n",
    "    \n",
    "    lin = length(b)\n",
    "    x = zeros(lin,1)\n",
    "    for i = 1:iteracoes\n",
    "        x = R*x + c\n",
    "    end\n",
    "    \n",
    "    return x\n",
    "end"
   ]
  },
  {
   "cell_type": "code",
   "execution_count": 260,
   "id": "d1e3fe12",
   "metadata": {},
   "outputs": [
    {
     "name": "stdout",
     "output_type": "stream",
     "text": [
      "Norma: 8.881784197001252e-16\n"
     ]
    }
   ],
   "source": [
    "A = [4 2 1 ; 1 5 1 ; 3 4 10]\n",
    "b = [7 ; 7 ; 17]\n",
    "\n",
    "x = gauss_seidel(A,b,300)\n",
    "println(\"Norma: \", norm(A*x-b))"
   ]
  },
  {
   "cell_type": "code",
   "execution_count": 261,
   "id": "82946056",
   "metadata": {},
   "outputs": [
    {
     "name": "stdout",
     "output_type": "stream",
     "text": [
      "Norma: 2.220446049250313e-16\n"
     ]
    }
   ],
   "source": [
    "A = [5 2 1 -1 ; 1 3 -1 1 ; 2 0 4 1 ; 1 1 1 8]\n",
    "b = [1 ; -1 ; 1 ; -3]\n",
    "\n",
    "x = gauss_seidel(A,b,300)\n",
    "println(\"Norma: \", norm(A*x-b))"
   ]
  },
  {
   "cell_type": "markdown",
   "id": "05098490",
   "metadata": {},
   "source": [
    "## Questão 2."
   ]
  },
  {
   "cell_type": "markdown",
   "id": "17d1a049",
   "metadata": {},
   "source": [
    "Faça o gráfico do sistema linear\n",
    "\n",
    "$$\n",
    "\\begin{equation}\n",
    "    \\begin{cases}\n",
    "      2x_1 + x_2 = 2\\\\\n",
    "      -x_1 + 2x_2 = 2\n",
    "    \\end{cases}\n",
    "\\end{equation}\n",
    "$$\n",
    "\n",
    "e resolva-os pelo método de Gauss-Jacobi e Gauss-Seidel com n passos\n",
    "tal que a **tolerância**=$||x^{(n)} − x^{(n-1)}||$ seja menor que $10^{-3}$. Marque as iterações no gráfico.\n"
   ]
  },
  {
   "cell_type": "markdown",
   "id": "1e5855f1",
   "metadata": {},
   "source": [
    "Temos o sistema de equações:\n",
    "\n",
    "$$\n",
    "\\begin{equation}\n",
    "    \\begin{cases}\n",
    "      2x_1 + x_2 = 2\\\\\n",
    "      -x_1 + 2x_2 = 2\n",
    "    \\end{cases}\n",
    "\\end{equation}\n",
    "$$\n",
    "\n",
    "que pode ser simplificado deixando x_1 em evidência:\n",
    "\n",
    "$$\n",
    "\\begin{equation}\n",
    "    \\begin{cases}\n",
    "      x_1 = 1 - \\frac{x_2}{2}\\\\\n",
    "      x_1 = 2x_2 - 2\n",
    "    \\end{cases}\n",
    "\\end{equation}\n",
    "$$\n",
    "\n",
    "E então, mudando apenas os nomes das variáveis para ficar mais explícito $(x_1 = y$ e $x_2 = x)$:\n",
    "\n",
    "$$\n",
    "\\begin{equation}\n",
    "    \\begin{cases}\n",
    "      y = 1 - \\frac{x}{2}\\\\\n",
    "      y = 2x - 2\n",
    "    \\end{cases}\n",
    "\\end{equation}\n",
    "$$\n",
    "\n",
    "Temos duas retas e queremos encontrar para qual valor de x e y elas se interceptam. Fazendo o gráfico do sistema podemos observar melhor:"
   ]
  },
  {
   "cell_type": "code",
   "execution_count": 262,
   "id": "0dadd164",
   "metadata": {},
   "outputs": [
    {
     "data": {
      "image/svg+xml": [
       "<?xml version=\"1.0\" encoding=\"utf-8\"?>\n",
       "<svg xmlns=\"http://www.w3.org/2000/svg\" xmlns:xlink=\"http://www.w3.org/1999/xlink\" width=\"600\" height=\"400\" viewBox=\"0 0 2400 1600\">\n",
       "<defs>\n",
       "  <clipPath id=\"clip580\">\n",
       "    <rect x=\"0\" y=\"0\" width=\"2400\" height=\"1600\"/>\n",
       "  </clipPath>\n",
       "</defs>\n",
       "<path clip-path=\"url(#clip580)\" d=\"\n",
       "M0 1600 L2400 1600 L2400 0 L0 0  Z\n",
       "  \" fill=\"#ffffff\" fill-rule=\"evenodd\" fill-opacity=\"1\"/>\n",
       "<defs>\n",
       "  <clipPath id=\"clip581\">\n",
       "    <rect x=\"480\" y=\"0\" width=\"1681\" height=\"1600\"/>\n",
       "  </clipPath>\n",
       "</defs>\n",
       "<path clip-path=\"url(#clip580)\" d=\"\n",
       "M174.862 1486.45 L2352.76 1486.45 L2352.76 47.2441 L174.862 47.2441  Z\n",
       "  \" fill=\"#ffffff\" fill-rule=\"evenodd\" fill-opacity=\"1\"/>\n",
       "<defs>\n",
       "  <clipPath id=\"clip582\">\n",
       "    <rect x=\"174\" y=\"47\" width=\"2179\" height=\"1440\"/>\n",
       "  </clipPath>\n",
       "</defs>\n",
       "<polyline clip-path=\"url(#clip582)\" style=\"stroke:#000000; stroke-width:2; stroke-opacity:0.1; fill:none\" points=\"\n",
       "  236.501,1486.45 236.501,47.2441 \n",
       "  \"/>\n",
       "<polyline clip-path=\"url(#clip582)\" style=\"stroke:#000000; stroke-width:2; stroke-opacity:0.1; fill:none\" points=\"\n",
       "  647.424,1486.45 647.424,47.2441 \n",
       "  \"/>\n",
       "<polyline clip-path=\"url(#clip582)\" style=\"stroke:#000000; stroke-width:2; stroke-opacity:0.1; fill:none\" points=\"\n",
       "  1058.35,1486.45 1058.35,47.2441 \n",
       "  \"/>\n",
       "<polyline clip-path=\"url(#clip582)\" style=\"stroke:#000000; stroke-width:2; stroke-opacity:0.1; fill:none\" points=\"\n",
       "  1469.27,1486.45 1469.27,47.2441 \n",
       "  \"/>\n",
       "<polyline clip-path=\"url(#clip582)\" style=\"stroke:#000000; stroke-width:2; stroke-opacity:0.1; fill:none\" points=\"\n",
       "  1880.19,1486.45 1880.19,47.2441 \n",
       "  \"/>\n",
       "<polyline clip-path=\"url(#clip582)\" style=\"stroke:#000000; stroke-width:2; stroke-opacity:0.1; fill:none\" points=\"\n",
       "  2291.12,1486.45 2291.12,47.2441 \n",
       "  \"/>\n",
       "<polyline clip-path=\"url(#clip580)\" style=\"stroke:#000000; stroke-width:4; stroke-opacity:1; fill:none\" points=\"\n",
       "  174.862,1486.45 2352.76,1486.45 \n",
       "  \"/>\n",
       "<polyline clip-path=\"url(#clip580)\" style=\"stroke:#000000; stroke-width:4; stroke-opacity:1; fill:none\" points=\"\n",
       "  236.501,1486.45 236.501,1469.18 \n",
       "  \"/>\n",
       "<polyline clip-path=\"url(#clip580)\" style=\"stroke:#000000; stroke-width:4; stroke-opacity:1; fill:none\" points=\"\n",
       "  647.424,1486.45 647.424,1469.18 \n",
       "  \"/>\n",
       "<polyline clip-path=\"url(#clip580)\" style=\"stroke:#000000; stroke-width:4; stroke-opacity:1; fill:none\" points=\"\n",
       "  1058.35,1486.45 1058.35,1469.18 \n",
       "  \"/>\n",
       "<polyline clip-path=\"url(#clip580)\" style=\"stroke:#000000; stroke-width:4; stroke-opacity:1; fill:none\" points=\"\n",
       "  1469.27,1486.45 1469.27,1469.18 \n",
       "  \"/>\n",
       "<polyline clip-path=\"url(#clip580)\" style=\"stroke:#000000; stroke-width:4; stroke-opacity:1; fill:none\" points=\"\n",
       "  1880.19,1486.45 1880.19,1469.18 \n",
       "  \"/>\n",
       "<polyline clip-path=\"url(#clip580)\" style=\"stroke:#000000; stroke-width:4; stroke-opacity:1; fill:none\" points=\"\n",
       "  2291.12,1486.45 2291.12,1469.18 \n",
       "  \"/>\n",
       "<path clip-path=\"url(#clip580)\" d=\"M 0 0 M208.399 1543.18 L216.038 1543.18 L216.038 1516.82 L207.728 1518.49 L207.728 1514.23 L215.991 1512.56 L220.667 1512.56 L220.667 1543.18 L228.306 1543.18 L228.306 1547.12 L208.399 1547.12 L208.399 1543.18 Z\" fill=\"#000000\" fill-rule=\"evenodd\" fill-opacity=\"1\" /><path clip-path=\"url(#clip580)\" d=\"M 0 0 M233.376 1541.24 L238.26 1541.24 L238.26 1547.12 L233.376 1547.12 L233.376 1541.24 Z\" fill=\"#000000\" fill-rule=\"evenodd\" fill-opacity=\"1\" /><path clip-path=\"url(#clip580)\" d=\"M 0 0 M253.329 1515.64 Q249.718 1515.64 247.889 1519.2 Q246.084 1522.75 246.084 1529.87 Q246.084 1536.98 247.889 1540.55 Q249.718 1544.09 253.329 1544.09 Q256.963 1544.09 258.769 1540.55 Q260.598 1536.98 260.598 1529.87 Q260.598 1522.75 258.769 1519.2 Q256.963 1515.64 253.329 1515.64 M253.329 1511.93 Q259.139 1511.93 262.195 1516.54 Q265.274 1521.12 265.274 1529.87 Q265.274 1538.6 262.195 1543.21 Q259.139 1547.79 253.329 1547.79 Q247.519 1547.79 244.44 1543.21 Q241.385 1538.6 241.385 1529.87 Q241.385 1521.12 244.44 1516.54 Q247.519 1511.93 253.329 1511.93 Z\" fill=\"#000000\" fill-rule=\"evenodd\" fill-opacity=\"1\" /><path clip-path=\"url(#clip580)\" d=\"M 0 0 M619.936 1543.18 L627.574 1543.18 L627.574 1516.82 L619.264 1518.49 L619.264 1514.23 L627.528 1512.56 L632.204 1512.56 L632.204 1543.18 L639.843 1543.18 L639.843 1547.12 L619.936 1547.12 L619.936 1543.18 Z\" fill=\"#000000\" fill-rule=\"evenodd\" fill-opacity=\"1\" /><path clip-path=\"url(#clip580)\" d=\"M 0 0 M644.912 1541.24 L649.797 1541.24 L649.797 1547.12 L644.912 1547.12 L644.912 1541.24 Z\" fill=\"#000000\" fill-rule=\"evenodd\" fill-opacity=\"1\" /><path clip-path=\"url(#clip580)\" d=\"M 0 0 M655.676 1543.18 L663.315 1543.18 L663.315 1516.82 L655.005 1518.49 L655.005 1514.23 L663.269 1512.56 L667.945 1512.56 L667.945 1543.18 L675.583 1543.18 L675.583 1547.12 L655.676 1547.12 L655.676 1543.18 Z\" fill=\"#000000\" fill-rule=\"evenodd\" fill-opacity=\"1\" /><path clip-path=\"url(#clip580)\" d=\"M 0 0 M1031.04 1543.18 L1038.68 1543.18 L1038.68 1516.82 L1030.37 1518.49 L1030.37 1514.23 L1038.64 1512.56 L1043.31 1512.56 L1043.31 1543.18 L1050.95 1543.18 L1050.95 1547.12 L1031.04 1547.12 L1031.04 1543.18 Z\" fill=\"#000000\" fill-rule=\"evenodd\" fill-opacity=\"1\" /><path clip-path=\"url(#clip580)\" d=\"M 0 0 M1056.02 1541.24 L1060.91 1541.24 L1060.91 1547.12 L1056.02 1547.12 L1056.02 1541.24 Z\" fill=\"#000000\" fill-rule=\"evenodd\" fill-opacity=\"1\" /><path clip-path=\"url(#clip580)\" d=\"M 0 0 M1070 1543.18 L1086.32 1543.18 L1086.32 1547.12 L1064.38 1547.12 L1064.38 1543.18 Q1067.04 1540.43 1071.62 1535.8 Q1076.23 1531.15 1077.41 1529.81 Q1079.66 1527.28 1080.53 1525.55 Q1081.44 1523.79 1081.44 1522.1 Q1081.44 1519.34 1079.49 1517.61 Q1077.57 1515.87 1074.47 1515.87 Q1072.27 1515.87 1069.82 1516.63 Q1067.39 1517.4 1064.61 1518.95 L1064.61 1514.23 Q1067.43 1513.09 1069.89 1512.51 Q1072.34 1511.93 1074.38 1511.93 Q1079.75 1511.93 1082.94 1514.62 Q1086.14 1517.31 1086.14 1521.8 Q1086.14 1523.93 1085.33 1525.85 Q1084.54 1527.74 1082.43 1530.34 Q1081.85 1531.01 1078.75 1534.23 Q1075.65 1537.42 1070 1543.18 Z\" fill=\"#000000\" fill-rule=\"evenodd\" fill-opacity=\"1\" /><path clip-path=\"url(#clip580)\" d=\"M 0 0 M1441.49 1543.18 L1449.13 1543.18 L1449.13 1516.82 L1440.82 1518.49 L1440.82 1514.23 L1449.09 1512.56 L1453.76 1512.56 L1453.76 1543.18 L1461.4 1543.18 L1461.4 1547.12 L1441.49 1547.12 L1441.49 1543.18 Z\" fill=\"#000000\" fill-rule=\"evenodd\" fill-opacity=\"1\" /><path clip-path=\"url(#clip580)\" d=\"M 0 0 M1466.47 1541.24 L1471.35 1541.24 L1471.35 1547.12 L1466.47 1547.12 L1466.47 1541.24 Z\" fill=\"#000000\" fill-rule=\"evenodd\" fill-opacity=\"1\" /><path clip-path=\"url(#clip580)\" d=\"M 0 0 M1490.59 1528.49 Q1493.95 1529.2 1495.82 1531.47 Q1497.72 1533.74 1497.72 1537.07 Q1497.72 1542.19 1494.2 1544.99 Q1490.68 1547.79 1484.2 1547.79 Q1482.03 1547.79 1479.71 1547.35 Q1477.42 1546.93 1474.97 1546.08 L1474.97 1541.56 Q1476.91 1542.7 1479.22 1543.28 Q1481.54 1543.86 1484.06 1543.86 Q1488.46 1543.86 1490.75 1542.12 Q1493.07 1540.38 1493.07 1537.07 Q1493.07 1534.02 1490.91 1532.31 Q1488.78 1530.57 1484.97 1530.57 L1480.94 1530.57 L1480.94 1526.73 L1485.15 1526.73 Q1488.6 1526.73 1490.43 1525.36 Q1492.26 1523.97 1492.26 1521.38 Q1492.26 1518.72 1490.36 1517.31 Q1488.48 1515.87 1484.97 1515.87 Q1483.04 1515.87 1480.84 1516.29 Q1478.65 1516.7 1476.01 1517.58 L1476.01 1513.42 Q1478.67 1512.68 1480.98 1512.31 Q1483.32 1511.93 1485.38 1511.93 Q1490.71 1511.93 1493.81 1514.37 Q1496.91 1516.77 1496.91 1520.89 Q1496.91 1523.76 1495.27 1525.75 Q1493.62 1527.72 1490.59 1528.49 Z\" fill=\"#000000\" fill-rule=\"evenodd\" fill-opacity=\"1\" /><path clip-path=\"url(#clip580)\" d=\"M 0 0 M1851.85 1543.18 L1859.49 1543.18 L1859.49 1516.82 L1851.18 1518.49 L1851.18 1514.23 L1859.44 1512.56 L1864.12 1512.56 L1864.12 1543.18 L1871.76 1543.18 L1871.76 1547.12 L1851.85 1547.12 L1851.85 1543.18 Z\" fill=\"#000000\" fill-rule=\"evenodd\" fill-opacity=\"1\" /><path clip-path=\"url(#clip580)\" d=\"M 0 0 M1876.83 1541.24 L1881.71 1541.24 L1881.71 1547.12 L1876.83 1547.12 L1876.83 1541.24 Z\" fill=\"#000000\" fill-rule=\"evenodd\" fill-opacity=\"1\" /><path clip-path=\"url(#clip580)\" d=\"M 0 0 M1899.63 1516.63 L1887.82 1535.08 L1899.63 1535.08 L1899.63 1516.63 M1898.4 1512.56 L1904.28 1512.56 L1904.28 1535.08 L1909.21 1535.08 L1909.21 1538.97 L1904.28 1538.97 L1904.28 1547.12 L1899.63 1547.12 L1899.63 1538.97 L1884.03 1538.97 L1884.03 1534.46 L1898.4 1512.56 Z\" fill=\"#000000\" fill-rule=\"evenodd\" fill-opacity=\"1\" /><path clip-path=\"url(#clip580)\" d=\"M 0 0 M2263.51 1543.18 L2271.15 1543.18 L2271.15 1516.82 L2262.84 1518.49 L2262.84 1514.23 L2271.11 1512.56 L2275.78 1512.56 L2275.78 1543.18 L2283.42 1543.18 L2283.42 1547.12 L2263.51 1547.12 L2263.51 1543.18 Z\" fill=\"#000000\" fill-rule=\"evenodd\" fill-opacity=\"1\" /><path clip-path=\"url(#clip580)\" d=\"M 0 0 M2288.49 1541.24 L2293.37 1541.24 L2293.37 1547.12 L2288.49 1547.12 L2288.49 1541.24 Z\" fill=\"#000000\" fill-rule=\"evenodd\" fill-opacity=\"1\" /><path clip-path=\"url(#clip580)\" d=\"M 0 0 M2298.49 1512.56 L2316.85 1512.56 L2316.85 1516.5 L2302.77 1516.5 L2302.77 1524.97 Q2303.79 1524.62 2304.81 1524.46 Q2305.83 1524.27 2306.85 1524.27 Q2312.63 1524.27 2316.01 1527.44 Q2319.39 1530.62 2319.39 1536.03 Q2319.39 1541.61 2315.92 1544.71 Q2312.45 1547.79 2306.13 1547.79 Q2303.95 1547.79 2301.68 1547.42 Q2299.44 1547.05 2297.03 1546.31 L2297.03 1541.61 Q2299.12 1542.74 2301.34 1543.3 Q2303.56 1543.86 2306.04 1543.86 Q2310.04 1543.86 2312.38 1541.75 Q2314.72 1539.64 2314.72 1536.03 Q2314.72 1532.42 2312.38 1530.31 Q2310.04 1528.21 2306.04 1528.21 Q2304.16 1528.21 2302.29 1528.62 Q2300.43 1529.04 2298.49 1529.92 L2298.49 1512.56 Z\" fill=\"#000000\" fill-rule=\"evenodd\" fill-opacity=\"1\" /><polyline clip-path=\"url(#clip582)\" style=\"stroke:#000000; stroke-width:2; stroke-opacity:0.1; fill:none\" points=\"\n",
       "  174.862,1445.72 2352.76,1445.72 \n",
       "  \"/>\n",
       "<polyline clip-path=\"url(#clip582)\" style=\"stroke:#000000; stroke-width:2; stroke-opacity:0.1; fill:none\" points=\"\n",
       "  174.862,1106.28 2352.76,1106.28 \n",
       "  \"/>\n",
       "<polyline clip-path=\"url(#clip582)\" style=\"stroke:#000000; stroke-width:2; stroke-opacity:0.1; fill:none\" points=\"\n",
       "  174.862,766.846 2352.76,766.846 \n",
       "  \"/>\n",
       "<polyline clip-path=\"url(#clip582)\" style=\"stroke:#000000; stroke-width:2; stroke-opacity:0.1; fill:none\" points=\"\n",
       "  174.862,427.411 2352.76,427.411 \n",
       "  \"/>\n",
       "<polyline clip-path=\"url(#clip582)\" style=\"stroke:#000000; stroke-width:2; stroke-opacity:0.1; fill:none\" points=\"\n",
       "  174.862,87.9763 2352.76,87.9763 \n",
       "  \"/>\n",
       "<polyline clip-path=\"url(#clip580)\" style=\"stroke:#000000; stroke-width:4; stroke-opacity:1; fill:none\" points=\"\n",
       "  174.862,1486.45 174.862,47.2441 \n",
       "  \"/>\n",
       "<polyline clip-path=\"url(#clip580)\" style=\"stroke:#000000; stroke-width:4; stroke-opacity:1; fill:none\" points=\"\n",
       "  174.862,1445.72 200.997,1445.72 \n",
       "  \"/>\n",
       "<polyline clip-path=\"url(#clip580)\" style=\"stroke:#000000; stroke-width:4; stroke-opacity:1; fill:none\" points=\"\n",
       "  174.862,1106.28 200.997,1106.28 \n",
       "  \"/>\n",
       "<polyline clip-path=\"url(#clip580)\" style=\"stroke:#000000; stroke-width:4; stroke-opacity:1; fill:none\" points=\"\n",
       "  174.862,766.846 200.997,766.846 \n",
       "  \"/>\n",
       "<polyline clip-path=\"url(#clip580)\" style=\"stroke:#000000; stroke-width:4; stroke-opacity:1; fill:none\" points=\"\n",
       "  174.862,427.411 200.997,427.411 \n",
       "  \"/>\n",
       "<polyline clip-path=\"url(#clip580)\" style=\"stroke:#000000; stroke-width:4; stroke-opacity:1; fill:none\" points=\"\n",
       "  174.862,87.9763 200.997,87.9763 \n",
       "  \"/>\n",
       "<path clip-path=\"url(#clip580)\" d=\"M 0 0 M62.9365 1431.51 Q59.3254 1431.51 57.4967 1435.08 Q55.6912 1438.62 55.6912 1445.75 Q55.6912 1452.86 57.4967 1456.42 Q59.3254 1459.96 62.9365 1459.96 Q66.5707 1459.96 68.3763 1456.42 Q70.205 1452.86 70.205 1445.75 Q70.205 1438.62 68.3763 1435.08 Q66.5707 1431.51 62.9365 1431.51 M62.9365 1427.81 Q68.7467 1427.81 71.8022 1432.42 Q74.8809 1437 74.8809 1445.75 Q74.8809 1454.48 71.8022 1459.08 Q68.7467 1463.67 62.9365 1463.67 Q57.1264 1463.67 54.0477 1459.08 Q50.9921 1454.48 50.9921 1445.75 Q50.9921 1437 54.0477 1432.42 Q57.1264 1427.81 62.9365 1427.81 Z\" fill=\"#000000\" fill-rule=\"evenodd\" fill-opacity=\"1\" /><path clip-path=\"url(#clip580)\" d=\"M 0 0 M79.9503 1457.12 L84.8345 1457.12 L84.8345 1463 L79.9503 1463 L79.9503 1457.12 Z\" fill=\"#000000\" fill-rule=\"evenodd\" fill-opacity=\"1\" /><path clip-path=\"url(#clip580)\" d=\"M 0 0 M99.9039 1431.51 Q96.2928 1431.51 94.4641 1435.08 Q92.6586 1438.62 92.6586 1445.75 Q92.6586 1452.86 94.4641 1456.42 Q96.2928 1459.96 99.9039 1459.96 Q103.538 1459.96 105.344 1456.42 Q107.172 1452.86 107.172 1445.75 Q107.172 1438.62 105.344 1435.08 Q103.538 1431.51 99.9039 1431.51 M99.9039 1427.81 Q105.714 1427.81 108.77 1432.42 Q111.848 1437 111.848 1445.75 Q111.848 1454.48 108.77 1459.08 Q105.714 1463.67 99.9039 1463.67 Q94.0937 1463.67 91.0151 1459.08 Q87.9595 1454.48 87.9595 1445.75 Q87.9595 1437 91.0151 1432.42 Q94.0937 1427.81 99.9039 1427.81 Z\" fill=\"#000000\" fill-rule=\"evenodd\" fill-opacity=\"1\" /><path clip-path=\"url(#clip580)\" d=\"M 0 0 M126.918 1431.51 Q123.307 1431.51 121.478 1435.08 Q119.672 1438.62 119.672 1445.75 Q119.672 1452.86 121.478 1456.42 Q123.307 1459.96 126.918 1459.96 Q130.552 1459.96 132.357 1456.42 Q134.186 1452.86 134.186 1445.75 Q134.186 1438.62 132.357 1435.08 Q130.552 1431.51 126.918 1431.51 M126.918 1427.81 Q132.728 1427.81 135.783 1432.42 Q138.862 1437 138.862 1445.75 Q138.862 1454.48 135.783 1459.08 Q132.728 1463.67 126.918 1463.67 Q121.107 1463.67 118.029 1459.08 Q114.973 1454.48 114.973 1445.75 Q114.973 1437 118.029 1432.42 Q121.107 1427.81 126.918 1427.81 Z\" fill=\"#000000\" fill-rule=\"evenodd\" fill-opacity=\"1\" /><path clip-path=\"url(#clip580)\" d=\"M 0 0 M65.5291 1092.08 Q61.918 1092.08 60.0893 1095.64 Q58.2838 1099.19 58.2838 1106.32 Q58.2838 1113.42 60.0893 1116.99 Q61.918 1120.53 65.5291 1120.53 Q69.1633 1120.53 70.9689 1116.99 Q72.7976 1113.42 72.7976 1106.32 Q72.7976 1099.19 70.9689 1095.64 Q69.1633 1092.08 65.5291 1092.08 M65.5291 1088.38 Q71.3392 1088.38 74.3948 1092.98 Q77.4735 1097.57 77.4735 1106.32 Q77.4735 1115.04 74.3948 1119.65 Q71.3392 1124.23 65.5291 1124.23 Q59.7189 1124.23 56.6402 1119.65 Q53.5847 1115.04 53.5847 1106.32 Q53.5847 1097.57 56.6402 1092.98 Q59.7189 1088.38 65.5291 1088.38 Z\" fill=\"#000000\" fill-rule=\"evenodd\" fill-opacity=\"1\" /><path clip-path=\"url(#clip580)\" d=\"M 0 0 M82.5429 1117.68 L87.4271 1117.68 L87.4271 1123.56 L82.5429 1123.56 L82.5429 1117.68 Z\" fill=\"#000000\" fill-rule=\"evenodd\" fill-opacity=\"1\" /><path clip-path=\"url(#clip580)\" d=\"M 0 0 M96.5243 1119.63 L112.844 1119.63 L112.844 1123.56 L90.8993 1123.56 L90.8993 1119.63 Q93.5613 1116.87 98.1447 1112.24 Q102.751 1107.59 103.932 1106.25 Q106.177 1103.72 107.057 1101.99 Q107.959 1100.23 107.959 1098.54 Q107.959 1095.78 106.015 1094.05 Q104.094 1092.31 100.992 1092.31 Q98.7928 1092.31 96.3391 1093.07 Q93.9086 1093.84 91.1308 1095.39 L91.1308 1090.67 Q93.9549 1089.53 96.4085 1088.95 Q98.8622 1088.38 100.899 1088.38 Q106.27 1088.38 109.464 1091.06 Q112.658 1093.75 112.658 1098.24 Q112.658 1100.37 111.848 1102.29 Q111.061 1104.19 108.955 1106.78 Q108.376 1107.45 105.274 1110.67 Q102.172 1113.86 96.5243 1119.63 Z\" fill=\"#000000\" fill-rule=\"evenodd\" fill-opacity=\"1\" /><path clip-path=\"url(#clip580)\" d=\"M 0 0 M117.959 1089 L136.316 1089 L136.316 1092.94 L122.242 1092.94 L122.242 1101.41 Q123.26 1101.06 124.279 1100.9 Q125.297 1100.71 126.316 1100.71 Q132.103 1100.71 135.482 1103.89 Q138.862 1107.06 138.862 1112.47 Q138.862 1118.05 135.39 1121.15 Q131.918 1124.23 125.598 1124.23 Q123.422 1124.23 121.154 1123.86 Q118.908 1123.49 116.501 1122.75 L116.501 1118.05 Q118.584 1119.19 120.807 1119.74 Q123.029 1120.3 125.506 1120.3 Q129.51 1120.3 131.848 1118.19 Q134.186 1116.08 134.186 1112.47 Q134.186 1108.86 131.848 1106.76 Q129.51 1104.65 125.506 1104.65 Q123.631 1104.65 121.756 1105.07 Q119.904 1105.48 117.959 1106.36 L117.959 1089 Z\" fill=\"#000000\" fill-rule=\"evenodd\" fill-opacity=\"1\" /><path clip-path=\"url(#clip580)\" d=\"M 0 0 M63.9319 752.645 Q60.3208 752.645 58.4921 756.209 Q56.6865 759.751 56.6865 766.881 Q56.6865 773.987 58.4921 777.552 Q60.3208 781.094 63.9319 781.094 Q67.5661 781.094 69.3717 777.552 Q71.2004 773.987 71.2004 766.881 Q71.2004 759.751 69.3717 756.209 Q67.5661 752.645 63.9319 752.645 M63.9319 748.941 Q69.742 748.941 72.7976 753.547 Q75.8763 758.131 75.8763 766.881 Q75.8763 775.608 72.7976 780.214 Q69.742 784.797 63.9319 784.797 Q58.1217 784.797 55.043 780.214 Q51.9875 775.608 51.9875 766.881 Q51.9875 758.131 55.043 753.547 Q58.1217 748.941 63.9319 748.941 Z\" fill=\"#000000\" fill-rule=\"evenodd\" fill-opacity=\"1\" /><path clip-path=\"url(#clip580)\" d=\"M 0 0 M80.9457 778.246 L85.8299 778.246 L85.8299 784.126 L80.9457 784.126 L80.9457 778.246 Z\" fill=\"#000000\" fill-rule=\"evenodd\" fill-opacity=\"1\" /><path clip-path=\"url(#clip580)\" d=\"M 0 0 M90.9456 749.566 L109.302 749.566 L109.302 753.501 L95.228 753.501 L95.228 761.973 Q96.2465 761.626 97.265 761.464 Q98.2835 761.279 99.3021 761.279 Q105.089 761.279 108.469 764.45 Q111.848 767.621 111.848 773.038 Q111.848 778.617 108.376 781.719 Q104.904 784.797 98.5845 784.797 Q96.4085 784.797 94.14 784.427 Q91.8947 784.057 89.4873 783.316 L89.4873 778.617 Q91.5706 779.751 93.7928 780.307 Q96.015 780.862 98.4919 780.862 Q102.496 780.862 104.834 778.756 Q107.172 776.649 107.172 773.038 Q107.172 769.427 104.834 767.321 Q102.496 765.214 98.4919 765.214 Q96.6169 765.214 94.7419 765.631 Q92.89 766.047 90.9456 766.927 L90.9456 749.566 Z\" fill=\"#000000\" fill-rule=\"evenodd\" fill-opacity=\"1\" /><path clip-path=\"url(#clip580)\" d=\"M 0 0 M126.918 752.645 Q123.307 752.645 121.478 756.209 Q119.672 759.751 119.672 766.881 Q119.672 773.987 121.478 777.552 Q123.307 781.094 126.918 781.094 Q130.552 781.094 132.357 777.552 Q134.186 773.987 134.186 766.881 Q134.186 759.751 132.357 756.209 Q130.552 752.645 126.918 752.645 M126.918 748.941 Q132.728 748.941 135.783 753.547 Q138.862 758.131 138.862 766.881 Q138.862 775.608 135.783 780.214 Q132.728 784.797 126.918 784.797 Q121.107 784.797 118.029 780.214 Q114.973 775.608 114.973 766.881 Q114.973 758.131 118.029 753.547 Q121.107 748.941 126.918 748.941 Z\" fill=\"#000000\" fill-rule=\"evenodd\" fill-opacity=\"1\" /><path clip-path=\"url(#clip580)\" d=\"M 0 0 M64.8346 413.21 Q61.2236 413.21 59.3949 416.775 Q57.5893 420.316 57.5893 427.446 Q57.5893 434.552 59.3949 438.117 Q61.2236 441.659 64.8346 441.659 Q68.4689 441.659 70.2744 438.117 Q72.1031 434.552 72.1031 427.446 Q72.1031 420.316 70.2744 416.775 Q68.4689 413.21 64.8346 413.21 M64.8346 409.506 Q70.6448 409.506 73.7003 414.113 Q76.779 418.696 76.779 427.446 Q76.779 436.173 73.7003 440.779 Q70.6448 445.362 64.8346 445.362 Q59.0245 445.362 55.9458 440.779 Q52.8903 436.173 52.8903 427.446 Q52.8903 418.696 55.9458 414.113 Q59.0245 409.506 64.8346 409.506 Z\" fill=\"#000000\" fill-rule=\"evenodd\" fill-opacity=\"1\" /><path clip-path=\"url(#clip580)\" d=\"M 0 0 M81.8484 438.812 L86.7327 438.812 L86.7327 444.691 L81.8484 444.691 L81.8484 438.812 Z\" fill=\"#000000\" fill-rule=\"evenodd\" fill-opacity=\"1\" /><path clip-path=\"url(#clip580)\" d=\"M 0 0 M90.6215 410.131 L112.844 410.131 L112.844 412.122 L100.297 444.691 L95.4132 444.691 L107.219 414.066 L90.6215 414.066 L90.6215 410.131 Z\" fill=\"#000000\" fill-rule=\"evenodd\" fill-opacity=\"1\" /><path clip-path=\"url(#clip580)\" d=\"M 0 0 M117.959 410.131 L136.316 410.131 L136.316 414.066 L122.242 414.066 L122.242 422.538 Q123.26 422.191 124.279 422.029 Q125.297 421.844 126.316 421.844 Q132.103 421.844 135.482 425.015 Q138.862 428.187 138.862 433.603 Q138.862 439.182 135.39 442.284 Q131.918 445.362 125.598 445.362 Q123.422 445.362 121.154 444.992 Q118.908 444.622 116.501 443.881 L116.501 439.182 Q118.584 440.316 120.807 440.872 Q123.029 441.427 125.506 441.427 Q129.51 441.427 131.848 439.321 Q134.186 437.214 134.186 433.603 Q134.186 429.992 131.848 427.886 Q129.51 425.779 125.506 425.779 Q123.631 425.779 121.756 426.196 Q119.904 426.613 117.959 427.492 L117.959 410.131 Z\" fill=\"#000000\" fill-rule=\"evenodd\" fill-opacity=\"1\" /><path clip-path=\"url(#clip580)\" d=\"M 0 0 M54.9736 101.321 L62.6124 101.321 L62.6124 74.9555 L54.3023 76.6222 L54.3023 72.3629 L62.5661 70.6963 L67.242 70.6963 L67.242 101.321 L74.8809 101.321 L74.8809 105.256 L54.9736 105.256 L54.9736 101.321 Z\" fill=\"#000000\" fill-rule=\"evenodd\" fill-opacity=\"1\" /><path clip-path=\"url(#clip580)\" d=\"M 0 0 M79.9503 99.3767 L84.8345 99.3767 L84.8345 105.256 L79.9503 105.256 L79.9503 99.3767 Z\" fill=\"#000000\" fill-rule=\"evenodd\" fill-opacity=\"1\" /><path clip-path=\"url(#clip580)\" d=\"M 0 0 M99.9039 73.775 Q96.2928 73.775 94.4641 77.3398 Q92.6586 80.8814 92.6586 88.011 Q92.6586 95.1174 94.4641 98.6822 Q96.2928 102.224 99.9039 102.224 Q103.538 102.224 105.344 98.6822 Q107.172 95.1174 107.172 88.011 Q107.172 80.8814 105.344 77.3398 Q103.538 73.775 99.9039 73.775 M99.9039 70.0713 Q105.714 70.0713 108.77 74.6777 Q111.848 79.261 111.848 88.011 Q111.848 96.7378 108.77 101.344 Q105.714 105.928 99.9039 105.928 Q94.0937 105.928 91.0151 101.344 Q87.9595 96.7378 87.9595 88.011 Q87.9595 79.261 91.0151 74.6777 Q94.0937 70.0713 99.9039 70.0713 Z\" fill=\"#000000\" fill-rule=\"evenodd\" fill-opacity=\"1\" /><path clip-path=\"url(#clip580)\" d=\"M 0 0 M126.918 73.775 Q123.307 73.775 121.478 77.3398 Q119.672 80.8814 119.672 88.011 Q119.672 95.1174 121.478 98.6822 Q123.307 102.224 126.918 102.224 Q130.552 102.224 132.357 98.6822 Q134.186 95.1174 134.186 88.011 Q134.186 80.8814 132.357 77.3398 Q130.552 73.775 126.918 73.775 M126.918 70.0713 Q132.728 70.0713 135.783 74.6777 Q138.862 79.261 138.862 88.011 Q138.862 96.7378 135.783 101.344 Q132.728 105.928 126.918 105.928 Q121.107 105.928 118.029 101.344 Q114.973 96.7378 114.973 88.011 Q114.973 79.261 118.029 74.6777 Q121.107 70.0713 126.918 70.0713 Z\" fill=\"#000000\" fill-rule=\"evenodd\" fill-opacity=\"1\" /><polyline clip-path=\"url(#clip582)\" style=\"stroke:#009af9; stroke-width:4; stroke-opacity:1; fill:none\" points=\"\n",
       "  236.501,766.846 256.566,770.161 442.096,800.812 553.591,819.231 647.86,834.805 750.262,851.722 844.667,867.319 945.879,884.04 1063.14,903.412 1167.36,920.629 \n",
       "  1258.74,935.726 1358.37,952.186 1458.6,968.743 1569.41,987.05 1674.84,1004.47 1784.47,1022.58 1876.75,1037.83 1989.42,1056.44 2095.33,1073.94 2265,1101.97 \n",
       "  2291.12,1106.28 \n",
       "  \"/>\n",
       "<polyline clip-path=\"url(#clip582)\" style=\"stroke:#e26f46; stroke-width:4; stroke-opacity:1; fill:none\" points=\"\n",
       "  236.501,1445.72 256.566,1432.46 442.096,1309.85 553.591,1236.17 647.86,1173.88 750.262,1106.21 844.667,1043.82 945.879,976.941 1063.14,899.45 1167.36,830.585 \n",
       "  1258.74,770.196 1358.37,704.357 1458.6,638.126 1569.41,564.899 1674.84,495.226 1784.47,422.781 1876.75,361.799 1989.42,287.346 2095.33,217.358 2265,105.232 \n",
       "  2291.12,87.9763 \n",
       "  \"/>\n",
       "<path clip-path=\"url(#clip580)\" d=\"\n",
       "M1987.15 276.658 L2280.16 276.658 L2280.16 95.2176 L1987.15 95.2176  Z\n",
       "  \" fill=\"#ffffff\" fill-rule=\"evenodd\" fill-opacity=\"1\"/>\n",
       "<polyline clip-path=\"url(#clip580)\" style=\"stroke:#000000; stroke-width:4; stroke-opacity:1; fill:none\" points=\"\n",
       "  1987.15,276.658 2280.16,276.658 2280.16,95.2176 1987.15,95.2176 1987.15,276.658 \n",
       "  \"/>\n",
       "<polyline clip-path=\"url(#clip580)\" style=\"stroke:#009af9; stroke-width:4; stroke-opacity:1; fill:none\" points=\"\n",
       "  2011.35,155.698 2156.54,155.698 \n",
       "  \"/>\n",
       "<path clip-path=\"url(#clip580)\" d=\"M 0 0 M2194.59 175.385 Q2192.78 180.015 2191.07 181.427 Q2189.35 182.839 2186.48 182.839 L2183.08 182.839 L2183.08 179.274 L2185.58 179.274 Q2187.34 179.274 2188.31 178.44 Q2189.29 177.607 2190.47 174.505 L2191.23 172.561 L2180.74 147.052 L2185.26 147.052 L2193.36 167.329 L2201.46 147.052 L2205.97 147.052 L2194.59 175.385 Z\" fill=\"#000000\" fill-rule=\"evenodd\" fill-opacity=\"1\" /><path clip-path=\"url(#clip580)\" d=\"M 0 0 M2211.85 169.042 L2219.49 169.042 L2219.49 142.677 L2211.18 144.343 L2211.18 140.084 L2219.45 138.418 L2224.12 138.418 L2224.12 169.042 L2231.76 169.042 L2231.76 172.978 L2211.85 172.978 L2211.85 169.042 Z\" fill=\"#000000\" fill-rule=\"evenodd\" fill-opacity=\"1\" /><polyline clip-path=\"url(#clip580)\" style=\"stroke:#e26f46; stroke-width:4; stroke-opacity:1; fill:none\" points=\"\n",
       "  2011.35,216.178 2156.54,216.178 \n",
       "  \"/>\n",
       "<path clip-path=\"url(#clip580)\" d=\"M 0 0 M2194.59 235.865 Q2192.78 240.495 2191.07 241.907 Q2189.35 243.319 2186.48 243.319 L2183.08 243.319 L2183.08 239.754 L2185.58 239.754 Q2187.34 239.754 2188.31 238.92 Q2189.29 238.087 2190.47 234.985 L2191.23 233.041 L2180.74 207.532 L2185.26 207.532 L2193.36 227.809 L2201.46 207.532 L2205.97 207.532 L2194.59 235.865 Z\" fill=\"#000000\" fill-rule=\"evenodd\" fill-opacity=\"1\" /><path clip-path=\"url(#clip580)\" d=\"M 0 0 M2215.07 229.522 L2231.39 229.522 L2231.39 233.458 L2209.45 233.458 L2209.45 229.522 Q2212.11 226.768 2216.69 222.138 Q2221.3 217.485 2222.48 216.143 Q2224.72 213.62 2225.6 211.884 Q2226.51 210.124 2226.51 208.435 Q2226.51 205.68 2224.56 203.944 Q2222.64 202.208 2219.54 202.208 Q2217.34 202.208 2214.89 202.972 Q2212.46 203.735 2209.68 205.286 L2209.68 200.564 Q2212.5 199.43 2214.96 198.851 Q2217.41 198.273 2219.45 198.273 Q2224.82 198.273 2228.01 200.958 Q2231.21 203.643 2231.21 208.134 Q2231.21 210.263 2230.4 212.185 Q2229.61 214.083 2227.5 216.675 Q2226.92 217.347 2223.82 220.564 Q2220.72 223.759 2215.07 229.522 Z\" fill=\"#000000\" fill-rule=\"evenodd\" fill-opacity=\"1\" /></svg>\n"
      ]
     },
     "execution_count": 262,
     "metadata": {},
     "output_type": "execute_result"
    }
   ],
   "source": [
    "f(x) = 1 - x/2 # primeira equação\n",
    "g(x) = 2x - 2 # segunda equação\n",
    "\n",
    "P = plot([f,g], 1, 1.5) # intervalo arbitrário que contenha o ponto de interseção"
   ]
  },
  {
   "cell_type": "markdown",
   "id": "f38823eb",
   "metadata": {},
   "source": [
    "Para resolver o sistema pelos métodos de Gauss-Jacobi e Gauss-Seidel precisamos montar a equação com matrizes $Ax=b$. Logo, a partir do sistema linear\n",
    "\n",
    "$$\n",
    "\\begin{equation}\n",
    "    \\begin{cases}\n",
    "      2x_1 + x_2 = 2\\\\\n",
    "      -x_1 + 2x_2 = 2\n",
    "    \\end{cases}\n",
    "\\end{equation}\n",
    "$$\n",
    "\n",
    "Temos:\n",
    "\n",
    "$$\n",
    "\\begin{bmatrix} \n",
    "    2 & 1 \\\\\n",
    "    -1 & 2 \\\\\n",
    "\\end{bmatrix}\n",
    "\\begin{bmatrix} \n",
    "    x_1 \\\\\n",
    "    x_2 \\\\\n",
    "\\end{bmatrix}\n",
    "=\n",
    "\\begin{bmatrix} \n",
    "    2 \\\\\n",
    "    2 \\\\\n",
    "\\end{bmatrix}\n",
    "$$\n",
    "\n",
    "Ou seja,\n",
    "\n",
    "$$A = \\begin{bmatrix} \n",
    "    2 & 1 \\\\\n",
    "    -1 & 2 \\\\\n",
    "\\end{bmatrix}\n",
    "\\space e \\space b = \\begin{bmatrix} \n",
    "    2 \\\\\n",
    "    2 \\\\\n",
    "\\end{bmatrix}$$\n",
    "\n",
    "Agora podemos aplicar os dois métodos, pois já temos a Matriz A e o vetor B, a fim de encontrar uma aproximação do vetor x:"
   ]
  },
  {
   "cell_type": "code",
   "execution_count": 263,
   "id": "06d493a9",
   "metadata": {},
   "outputs": [
    {
     "name": "stdout",
     "output_type": "stream",
     "text": [
      "[1.0; 1.0]\n",
      "[0.5; 1.5]\n",
      "[0.25; 1.25]\n",
      "[0.375; 1.125]\n",
      "[0.4375; 1.1875]\n",
      "[0.40625; 1.21875]\n",
      "[0.390625; 1.203125]\n",
      "[0.3984375; 1.1953125]\n",
      "[0.40234375; 1.19921875]\n",
      "[0.400390625; 1.201171875]\n",
      "[0.3994140625; 1.2001953125]\n",
      "[0.39990234375; 1.19970703125]\n",
      "\n",
      "Iterações: 13\n",
      "Tolerância do Sistema: 0.0006905339660024879\n",
      "Tolerância do passo: 0.0006905339660024879"
     ]
    }
   ],
   "source": [
    "\"\"\" Aplicando o método de Gauss-Jacobi primeiro\"\"\"\n",
    "A = [2 1; -1 2]\n",
    "b = [2; 2]\n",
    "\n",
    "# Para printar as iterações no gráfico\n",
    "array_x = []\n",
    "array_y = []\n",
    "\n",
    "iterador = 1 # número de passos até ecnontrar erro menor que 10^(-3)\n",
    "x_anterior = randn(2) # chute inicial qualquer do vetor x_0\n",
    "x_atual = randn(2)  # chute inicial qualquer do vetor x_1\n",
    "while (norm(x_atual - x_anterior) >= 1e-3) # enquanto || x^(n) - x^(n-1) || menor que 10^(-3)\n",
    "    x_anterior = x_atual # atualiza x^(n-1)\n",
    "    x_atual = gauss_jacobi(A, b, iterador) # atualiza x^n\n",
    "    push!(array_x, x_atual[2]) # array_x armazena o valor de x\n",
    "    push!(array_y, x_atual[1]) # array_y armazena o valor de y\n",
    "    print(x_atual, \"\\n\") # printa x^n\n",
    "    iterador += 1 # número de passos aumenta em 1\n",
    "end\n",
    "print(\"\\n\", \"Iterações: \", iterador, \"\\n\") # número de passos total\n",
    "print(\"Tolerância do Sistema: \", norm(A*x_atual - b), \"\\n\") # tolerância de acordo com o sistema\n",
    "print(\"Tolerância do passo: \", norm(x_atual - x_anterior)) # tolerância de acordo com o passo seguinte e o passo anterior"
   ]
  },
  {
   "cell_type": "code",
   "execution_count": 264,
   "id": "57077072",
   "metadata": {},
   "outputs": [
    {
     "data": {
      "image/svg+xml": [
       "<?xml version=\"1.0\" encoding=\"utf-8\"?>\n",
       "<svg xmlns=\"http://www.w3.org/2000/svg\" xmlns:xlink=\"http://www.w3.org/1999/xlink\" width=\"600\" height=\"400\" viewBox=\"0 0 2400 1600\">\n",
       "<defs>\n",
       "  <clipPath id=\"clip620\">\n",
       "    <rect x=\"0\" y=\"0\" width=\"2400\" height=\"1600\"/>\n",
       "  </clipPath>\n",
       "</defs>\n",
       "<path clip-path=\"url(#clip620)\" d=\"\n",
       "M0 1600 L2400 1600 L2400 0 L0 0  Z\n",
       "  \" fill=\"#ffffff\" fill-rule=\"evenodd\" fill-opacity=\"1\"/>\n",
       "<defs>\n",
       "  <clipPath id=\"clip621\">\n",
       "    <rect x=\"480\" y=\"0\" width=\"1681\" height=\"1600\"/>\n",
       "  </clipPath>\n",
       "</defs>\n",
       "<path clip-path=\"url(#clip620)\" d=\"\n",
       "M174.862 1486.45 L2352.76 1486.45 L2352.76 47.2441 L174.862 47.2441  Z\n",
       "  \" fill=\"#ffffff\" fill-rule=\"evenodd\" fill-opacity=\"1\"/>\n",
       "<defs>\n",
       "  <clipPath id=\"clip622\">\n",
       "    <rect x=\"174\" y=\"47\" width=\"2179\" height=\"1440\"/>\n",
       "  </clipPath>\n",
       "</defs>\n",
       "<polyline clip-path=\"url(#clip622)\" style=\"stroke:#000000; stroke-width:2; stroke-opacity:0.1; fill:none\" points=\"\n",
       "  236.501,1486.45 236.501,47.2441 \n",
       "  \"/>\n",
       "<polyline clip-path=\"url(#clip622)\" style=\"stroke:#000000; stroke-width:2; stroke-opacity:0.1; fill:none\" points=\"\n",
       "  647.424,1486.45 647.424,47.2441 \n",
       "  \"/>\n",
       "<polyline clip-path=\"url(#clip622)\" style=\"stroke:#000000; stroke-width:2; stroke-opacity:0.1; fill:none\" points=\"\n",
       "  1058.35,1486.45 1058.35,47.2441 \n",
       "  \"/>\n",
       "<polyline clip-path=\"url(#clip622)\" style=\"stroke:#000000; stroke-width:2; stroke-opacity:0.1; fill:none\" points=\"\n",
       "  1469.27,1486.45 1469.27,47.2441 \n",
       "  \"/>\n",
       "<polyline clip-path=\"url(#clip622)\" style=\"stroke:#000000; stroke-width:2; stroke-opacity:0.1; fill:none\" points=\"\n",
       "  1880.19,1486.45 1880.19,47.2441 \n",
       "  \"/>\n",
       "<polyline clip-path=\"url(#clip622)\" style=\"stroke:#000000; stroke-width:2; stroke-opacity:0.1; fill:none\" points=\"\n",
       "  2291.12,1486.45 2291.12,47.2441 \n",
       "  \"/>\n",
       "<polyline clip-path=\"url(#clip620)\" style=\"stroke:#000000; stroke-width:4; stroke-opacity:1; fill:none\" points=\"\n",
       "  174.862,1486.45 2352.76,1486.45 \n",
       "  \"/>\n",
       "<polyline clip-path=\"url(#clip620)\" style=\"stroke:#000000; stroke-width:4; stroke-opacity:1; fill:none\" points=\"\n",
       "  236.501,1486.45 236.501,1469.18 \n",
       "  \"/>\n",
       "<polyline clip-path=\"url(#clip620)\" style=\"stroke:#000000; stroke-width:4; stroke-opacity:1; fill:none\" points=\"\n",
       "  647.424,1486.45 647.424,1469.18 \n",
       "  \"/>\n",
       "<polyline clip-path=\"url(#clip620)\" style=\"stroke:#000000; stroke-width:4; stroke-opacity:1; fill:none\" points=\"\n",
       "  1058.35,1486.45 1058.35,1469.18 \n",
       "  \"/>\n",
       "<polyline clip-path=\"url(#clip620)\" style=\"stroke:#000000; stroke-width:4; stroke-opacity:1; fill:none\" points=\"\n",
       "  1469.27,1486.45 1469.27,1469.18 \n",
       "  \"/>\n",
       "<polyline clip-path=\"url(#clip620)\" style=\"stroke:#000000; stroke-width:4; stroke-opacity:1; fill:none\" points=\"\n",
       "  1880.19,1486.45 1880.19,1469.18 \n",
       "  \"/>\n",
       "<polyline clip-path=\"url(#clip620)\" style=\"stroke:#000000; stroke-width:4; stroke-opacity:1; fill:none\" points=\"\n",
       "  2291.12,1486.45 2291.12,1469.18 \n",
       "  \"/>\n",
       "<path clip-path=\"url(#clip620)\" d=\"M 0 0 M208.399 1543.18 L216.038 1543.18 L216.038 1516.82 L207.728 1518.49 L207.728 1514.23 L215.991 1512.56 L220.667 1512.56 L220.667 1543.18 L228.306 1543.18 L228.306 1547.12 L208.399 1547.12 L208.399 1543.18 Z\" fill=\"#000000\" fill-rule=\"evenodd\" fill-opacity=\"1\" /><path clip-path=\"url(#clip620)\" d=\"M 0 0 M233.376 1541.24 L238.26 1541.24 L238.26 1547.12 L233.376 1547.12 L233.376 1541.24 Z\" fill=\"#000000\" fill-rule=\"evenodd\" fill-opacity=\"1\" /><path clip-path=\"url(#clip620)\" d=\"M 0 0 M253.329 1515.64 Q249.718 1515.64 247.889 1519.2 Q246.084 1522.75 246.084 1529.87 Q246.084 1536.98 247.889 1540.55 Q249.718 1544.09 253.329 1544.09 Q256.963 1544.09 258.769 1540.55 Q260.598 1536.98 260.598 1529.87 Q260.598 1522.75 258.769 1519.2 Q256.963 1515.64 253.329 1515.64 M253.329 1511.93 Q259.139 1511.93 262.195 1516.54 Q265.274 1521.12 265.274 1529.87 Q265.274 1538.6 262.195 1543.21 Q259.139 1547.79 253.329 1547.79 Q247.519 1547.79 244.44 1543.21 Q241.385 1538.6 241.385 1529.87 Q241.385 1521.12 244.44 1516.54 Q247.519 1511.93 253.329 1511.93 Z\" fill=\"#000000\" fill-rule=\"evenodd\" fill-opacity=\"1\" /><path clip-path=\"url(#clip620)\" d=\"M 0 0 M619.936 1543.18 L627.574 1543.18 L627.574 1516.82 L619.264 1518.49 L619.264 1514.23 L627.528 1512.56 L632.204 1512.56 L632.204 1543.18 L639.843 1543.18 L639.843 1547.12 L619.936 1547.12 L619.936 1543.18 Z\" fill=\"#000000\" fill-rule=\"evenodd\" fill-opacity=\"1\" /><path clip-path=\"url(#clip620)\" d=\"M 0 0 M644.912 1541.24 L649.797 1541.24 L649.797 1547.12 L644.912 1547.12 L644.912 1541.24 Z\" fill=\"#000000\" fill-rule=\"evenodd\" fill-opacity=\"1\" /><path clip-path=\"url(#clip620)\" d=\"M 0 0 M655.676 1543.18 L663.315 1543.18 L663.315 1516.82 L655.005 1518.49 L655.005 1514.23 L663.269 1512.56 L667.945 1512.56 L667.945 1543.18 L675.583 1543.18 L675.583 1547.12 L655.676 1547.12 L655.676 1543.18 Z\" fill=\"#000000\" fill-rule=\"evenodd\" fill-opacity=\"1\" /><path clip-path=\"url(#clip620)\" d=\"M 0 0 M1031.04 1543.18 L1038.68 1543.18 L1038.68 1516.82 L1030.37 1518.49 L1030.37 1514.23 L1038.64 1512.56 L1043.31 1512.56 L1043.31 1543.18 L1050.95 1543.18 L1050.95 1547.12 L1031.04 1547.12 L1031.04 1543.18 Z\" fill=\"#000000\" fill-rule=\"evenodd\" fill-opacity=\"1\" /><path clip-path=\"url(#clip620)\" d=\"M 0 0 M1056.02 1541.24 L1060.91 1541.24 L1060.91 1547.12 L1056.02 1547.12 L1056.02 1541.24 Z\" fill=\"#000000\" fill-rule=\"evenodd\" fill-opacity=\"1\" /><path clip-path=\"url(#clip620)\" d=\"M 0 0 M1070 1543.18 L1086.32 1543.18 L1086.32 1547.12 L1064.38 1547.12 L1064.38 1543.18 Q1067.04 1540.43 1071.62 1535.8 Q1076.23 1531.15 1077.41 1529.81 Q1079.66 1527.28 1080.53 1525.55 Q1081.44 1523.79 1081.44 1522.1 Q1081.44 1519.34 1079.49 1517.61 Q1077.57 1515.87 1074.47 1515.87 Q1072.27 1515.87 1069.82 1516.63 Q1067.39 1517.4 1064.61 1518.95 L1064.61 1514.23 Q1067.43 1513.09 1069.89 1512.51 Q1072.34 1511.93 1074.38 1511.93 Q1079.75 1511.93 1082.94 1514.62 Q1086.14 1517.31 1086.14 1521.8 Q1086.14 1523.93 1085.33 1525.85 Q1084.54 1527.74 1082.43 1530.34 Q1081.85 1531.01 1078.75 1534.23 Q1075.65 1537.42 1070 1543.18 Z\" fill=\"#000000\" fill-rule=\"evenodd\" fill-opacity=\"1\" /><path clip-path=\"url(#clip620)\" d=\"M 0 0 M1441.49 1543.18 L1449.13 1543.18 L1449.13 1516.82 L1440.82 1518.49 L1440.82 1514.23 L1449.09 1512.56 L1453.76 1512.56 L1453.76 1543.18 L1461.4 1543.18 L1461.4 1547.12 L1441.49 1547.12 L1441.49 1543.18 Z\" fill=\"#000000\" fill-rule=\"evenodd\" fill-opacity=\"1\" /><path clip-path=\"url(#clip620)\" d=\"M 0 0 M1466.47 1541.24 L1471.35 1541.24 L1471.35 1547.12 L1466.47 1547.12 L1466.47 1541.24 Z\" fill=\"#000000\" fill-rule=\"evenodd\" fill-opacity=\"1\" /><path clip-path=\"url(#clip620)\" d=\"M 0 0 M1490.59 1528.49 Q1493.95 1529.2 1495.82 1531.47 Q1497.72 1533.74 1497.72 1537.07 Q1497.72 1542.19 1494.2 1544.99 Q1490.68 1547.79 1484.2 1547.79 Q1482.03 1547.79 1479.71 1547.35 Q1477.42 1546.93 1474.97 1546.08 L1474.97 1541.56 Q1476.91 1542.7 1479.22 1543.28 Q1481.54 1543.86 1484.06 1543.86 Q1488.46 1543.86 1490.75 1542.12 Q1493.07 1540.38 1493.07 1537.07 Q1493.07 1534.02 1490.91 1532.31 Q1488.78 1530.57 1484.97 1530.57 L1480.94 1530.57 L1480.94 1526.73 L1485.15 1526.73 Q1488.6 1526.73 1490.43 1525.36 Q1492.26 1523.97 1492.26 1521.38 Q1492.26 1518.72 1490.36 1517.31 Q1488.48 1515.87 1484.97 1515.87 Q1483.04 1515.87 1480.84 1516.29 Q1478.65 1516.7 1476.01 1517.58 L1476.01 1513.42 Q1478.67 1512.68 1480.98 1512.31 Q1483.32 1511.93 1485.38 1511.93 Q1490.71 1511.93 1493.81 1514.37 Q1496.91 1516.77 1496.91 1520.89 Q1496.91 1523.76 1495.27 1525.75 Q1493.62 1527.72 1490.59 1528.49 Z\" fill=\"#000000\" fill-rule=\"evenodd\" fill-opacity=\"1\" /><path clip-path=\"url(#clip620)\" d=\"M 0 0 M1851.85 1543.18 L1859.49 1543.18 L1859.49 1516.82 L1851.18 1518.49 L1851.18 1514.23 L1859.44 1512.56 L1864.12 1512.56 L1864.12 1543.18 L1871.76 1543.18 L1871.76 1547.12 L1851.85 1547.12 L1851.85 1543.18 Z\" fill=\"#000000\" fill-rule=\"evenodd\" fill-opacity=\"1\" /><path clip-path=\"url(#clip620)\" d=\"M 0 0 M1876.83 1541.24 L1881.71 1541.24 L1881.71 1547.12 L1876.83 1547.12 L1876.83 1541.24 Z\" fill=\"#000000\" fill-rule=\"evenodd\" fill-opacity=\"1\" /><path clip-path=\"url(#clip620)\" d=\"M 0 0 M1899.63 1516.63 L1887.82 1535.08 L1899.63 1535.08 L1899.63 1516.63 M1898.4 1512.56 L1904.28 1512.56 L1904.28 1535.08 L1909.21 1535.08 L1909.21 1538.97 L1904.28 1538.97 L1904.28 1547.12 L1899.63 1547.12 L1899.63 1538.97 L1884.03 1538.97 L1884.03 1534.46 L1898.4 1512.56 Z\" fill=\"#000000\" fill-rule=\"evenodd\" fill-opacity=\"1\" /><path clip-path=\"url(#clip620)\" d=\"M 0 0 M2263.51 1543.18 L2271.15 1543.18 L2271.15 1516.82 L2262.84 1518.49 L2262.84 1514.23 L2271.11 1512.56 L2275.78 1512.56 L2275.78 1543.18 L2283.42 1543.18 L2283.42 1547.12 L2263.51 1547.12 L2263.51 1543.18 Z\" fill=\"#000000\" fill-rule=\"evenodd\" fill-opacity=\"1\" /><path clip-path=\"url(#clip620)\" d=\"M 0 0 M2288.49 1541.24 L2293.37 1541.24 L2293.37 1547.12 L2288.49 1547.12 L2288.49 1541.24 Z\" fill=\"#000000\" fill-rule=\"evenodd\" fill-opacity=\"1\" /><path clip-path=\"url(#clip620)\" d=\"M 0 0 M2298.49 1512.56 L2316.85 1512.56 L2316.85 1516.5 L2302.77 1516.5 L2302.77 1524.97 Q2303.79 1524.62 2304.81 1524.46 Q2305.83 1524.27 2306.85 1524.27 Q2312.63 1524.27 2316.01 1527.44 Q2319.39 1530.62 2319.39 1536.03 Q2319.39 1541.61 2315.92 1544.71 Q2312.45 1547.79 2306.13 1547.79 Q2303.95 1547.79 2301.68 1547.42 Q2299.44 1547.05 2297.03 1546.31 L2297.03 1541.61 Q2299.12 1542.74 2301.34 1543.3 Q2303.56 1543.86 2306.04 1543.86 Q2310.04 1543.86 2312.38 1541.75 Q2314.72 1539.64 2314.72 1536.03 Q2314.72 1532.42 2312.38 1530.31 Q2310.04 1528.21 2306.04 1528.21 Q2304.16 1528.21 2302.29 1528.62 Q2300.43 1529.04 2298.49 1529.92 L2298.49 1512.56 Z\" fill=\"#000000\" fill-rule=\"evenodd\" fill-opacity=\"1\" /><polyline clip-path=\"url(#clip622)\" style=\"stroke:#000000; stroke-width:2; stroke-opacity:0.1; fill:none\" points=\"\n",
       "  174.862,1445.72 2352.76,1445.72 \n",
       "  \"/>\n",
       "<polyline clip-path=\"url(#clip622)\" style=\"stroke:#000000; stroke-width:2; stroke-opacity:0.1; fill:none\" points=\"\n",
       "  174.862,1106.28 2352.76,1106.28 \n",
       "  \"/>\n",
       "<polyline clip-path=\"url(#clip622)\" style=\"stroke:#000000; stroke-width:2; stroke-opacity:0.1; fill:none\" points=\"\n",
       "  174.862,766.846 2352.76,766.846 \n",
       "  \"/>\n",
       "<polyline clip-path=\"url(#clip622)\" style=\"stroke:#000000; stroke-width:2; stroke-opacity:0.1; fill:none\" points=\"\n",
       "  174.862,427.411 2352.76,427.411 \n",
       "  \"/>\n",
       "<polyline clip-path=\"url(#clip622)\" style=\"stroke:#000000; stroke-width:2; stroke-opacity:0.1; fill:none\" points=\"\n",
       "  174.862,87.9763 2352.76,87.9763 \n",
       "  \"/>\n",
       "<polyline clip-path=\"url(#clip620)\" style=\"stroke:#000000; stroke-width:4; stroke-opacity:1; fill:none\" points=\"\n",
       "  174.862,1486.45 174.862,47.2441 \n",
       "  \"/>\n",
       "<polyline clip-path=\"url(#clip620)\" style=\"stroke:#000000; stroke-width:4; stroke-opacity:1; fill:none\" points=\"\n",
       "  174.862,1445.72 200.997,1445.72 \n",
       "  \"/>\n",
       "<polyline clip-path=\"url(#clip620)\" style=\"stroke:#000000; stroke-width:4; stroke-opacity:1; fill:none\" points=\"\n",
       "  174.862,1106.28 200.997,1106.28 \n",
       "  \"/>\n",
       "<polyline clip-path=\"url(#clip620)\" style=\"stroke:#000000; stroke-width:4; stroke-opacity:1; fill:none\" points=\"\n",
       "  174.862,766.846 200.997,766.846 \n",
       "  \"/>\n",
       "<polyline clip-path=\"url(#clip620)\" style=\"stroke:#000000; stroke-width:4; stroke-opacity:1; fill:none\" points=\"\n",
       "  174.862,427.411 200.997,427.411 \n",
       "  \"/>\n",
       "<polyline clip-path=\"url(#clip620)\" style=\"stroke:#000000; stroke-width:4; stroke-opacity:1; fill:none\" points=\"\n",
       "  174.862,87.9763 200.997,87.9763 \n",
       "  \"/>\n",
       "<path clip-path=\"url(#clip620)\" d=\"M 0 0 M62.9365 1431.51 Q59.3254 1431.51 57.4967 1435.08 Q55.6912 1438.62 55.6912 1445.75 Q55.6912 1452.86 57.4967 1456.42 Q59.3254 1459.96 62.9365 1459.96 Q66.5707 1459.96 68.3763 1456.42 Q70.205 1452.86 70.205 1445.75 Q70.205 1438.62 68.3763 1435.08 Q66.5707 1431.51 62.9365 1431.51 M62.9365 1427.81 Q68.7467 1427.81 71.8022 1432.42 Q74.8809 1437 74.8809 1445.75 Q74.8809 1454.48 71.8022 1459.08 Q68.7467 1463.67 62.9365 1463.67 Q57.1264 1463.67 54.0477 1459.08 Q50.9921 1454.48 50.9921 1445.75 Q50.9921 1437 54.0477 1432.42 Q57.1264 1427.81 62.9365 1427.81 Z\" fill=\"#000000\" fill-rule=\"evenodd\" fill-opacity=\"1\" /><path clip-path=\"url(#clip620)\" d=\"M 0 0 M79.9503 1457.12 L84.8345 1457.12 L84.8345 1463 L79.9503 1463 L79.9503 1457.12 Z\" fill=\"#000000\" fill-rule=\"evenodd\" fill-opacity=\"1\" /><path clip-path=\"url(#clip620)\" d=\"M 0 0 M99.9039 1431.51 Q96.2928 1431.51 94.4641 1435.08 Q92.6586 1438.62 92.6586 1445.75 Q92.6586 1452.86 94.4641 1456.42 Q96.2928 1459.96 99.9039 1459.96 Q103.538 1459.96 105.344 1456.42 Q107.172 1452.86 107.172 1445.75 Q107.172 1438.62 105.344 1435.08 Q103.538 1431.51 99.9039 1431.51 M99.9039 1427.81 Q105.714 1427.81 108.77 1432.42 Q111.848 1437 111.848 1445.75 Q111.848 1454.48 108.77 1459.08 Q105.714 1463.67 99.9039 1463.67 Q94.0937 1463.67 91.0151 1459.08 Q87.9595 1454.48 87.9595 1445.75 Q87.9595 1437 91.0151 1432.42 Q94.0937 1427.81 99.9039 1427.81 Z\" fill=\"#000000\" fill-rule=\"evenodd\" fill-opacity=\"1\" /><path clip-path=\"url(#clip620)\" d=\"M 0 0 M126.918 1431.51 Q123.307 1431.51 121.478 1435.08 Q119.672 1438.62 119.672 1445.75 Q119.672 1452.86 121.478 1456.42 Q123.307 1459.96 126.918 1459.96 Q130.552 1459.96 132.357 1456.42 Q134.186 1452.86 134.186 1445.75 Q134.186 1438.62 132.357 1435.08 Q130.552 1431.51 126.918 1431.51 M126.918 1427.81 Q132.728 1427.81 135.783 1432.42 Q138.862 1437 138.862 1445.75 Q138.862 1454.48 135.783 1459.08 Q132.728 1463.67 126.918 1463.67 Q121.107 1463.67 118.029 1459.08 Q114.973 1454.48 114.973 1445.75 Q114.973 1437 118.029 1432.42 Q121.107 1427.81 126.918 1427.81 Z\" fill=\"#000000\" fill-rule=\"evenodd\" fill-opacity=\"1\" /><path clip-path=\"url(#clip620)\" d=\"M 0 0 M65.5291 1092.08 Q61.918 1092.08 60.0893 1095.64 Q58.2838 1099.19 58.2838 1106.32 Q58.2838 1113.42 60.0893 1116.99 Q61.918 1120.53 65.5291 1120.53 Q69.1633 1120.53 70.9689 1116.99 Q72.7976 1113.42 72.7976 1106.32 Q72.7976 1099.19 70.9689 1095.64 Q69.1633 1092.08 65.5291 1092.08 M65.5291 1088.38 Q71.3392 1088.38 74.3948 1092.98 Q77.4735 1097.57 77.4735 1106.32 Q77.4735 1115.04 74.3948 1119.65 Q71.3392 1124.23 65.5291 1124.23 Q59.7189 1124.23 56.6402 1119.65 Q53.5847 1115.04 53.5847 1106.32 Q53.5847 1097.57 56.6402 1092.98 Q59.7189 1088.38 65.5291 1088.38 Z\" fill=\"#000000\" fill-rule=\"evenodd\" fill-opacity=\"1\" /><path clip-path=\"url(#clip620)\" d=\"M 0 0 M82.5429 1117.68 L87.4271 1117.68 L87.4271 1123.56 L82.5429 1123.56 L82.5429 1117.68 Z\" fill=\"#000000\" fill-rule=\"evenodd\" fill-opacity=\"1\" /><path clip-path=\"url(#clip620)\" d=\"M 0 0 M96.5243 1119.63 L112.844 1119.63 L112.844 1123.56 L90.8993 1123.56 L90.8993 1119.63 Q93.5613 1116.87 98.1447 1112.24 Q102.751 1107.59 103.932 1106.25 Q106.177 1103.72 107.057 1101.99 Q107.959 1100.23 107.959 1098.54 Q107.959 1095.78 106.015 1094.05 Q104.094 1092.31 100.992 1092.31 Q98.7928 1092.31 96.3391 1093.07 Q93.9086 1093.84 91.1308 1095.39 L91.1308 1090.67 Q93.9549 1089.53 96.4085 1088.95 Q98.8622 1088.38 100.899 1088.38 Q106.27 1088.38 109.464 1091.06 Q112.658 1093.75 112.658 1098.24 Q112.658 1100.37 111.848 1102.29 Q111.061 1104.19 108.955 1106.78 Q108.376 1107.45 105.274 1110.67 Q102.172 1113.86 96.5243 1119.63 Z\" fill=\"#000000\" fill-rule=\"evenodd\" fill-opacity=\"1\" /><path clip-path=\"url(#clip620)\" d=\"M 0 0 M117.959 1089 L136.316 1089 L136.316 1092.94 L122.242 1092.94 L122.242 1101.41 Q123.26 1101.06 124.279 1100.9 Q125.297 1100.71 126.316 1100.71 Q132.103 1100.71 135.482 1103.89 Q138.862 1107.06 138.862 1112.47 Q138.862 1118.05 135.39 1121.15 Q131.918 1124.23 125.598 1124.23 Q123.422 1124.23 121.154 1123.86 Q118.908 1123.49 116.501 1122.75 L116.501 1118.05 Q118.584 1119.19 120.807 1119.74 Q123.029 1120.3 125.506 1120.3 Q129.51 1120.3 131.848 1118.19 Q134.186 1116.08 134.186 1112.47 Q134.186 1108.86 131.848 1106.76 Q129.51 1104.65 125.506 1104.65 Q123.631 1104.65 121.756 1105.07 Q119.904 1105.48 117.959 1106.36 L117.959 1089 Z\" fill=\"#000000\" fill-rule=\"evenodd\" fill-opacity=\"1\" /><path clip-path=\"url(#clip620)\" d=\"M 0 0 M63.9319 752.645 Q60.3208 752.645 58.4921 756.209 Q56.6865 759.751 56.6865 766.881 Q56.6865 773.987 58.4921 777.552 Q60.3208 781.094 63.9319 781.094 Q67.5661 781.094 69.3717 777.552 Q71.2004 773.987 71.2004 766.881 Q71.2004 759.751 69.3717 756.209 Q67.5661 752.645 63.9319 752.645 M63.9319 748.941 Q69.742 748.941 72.7976 753.547 Q75.8763 758.131 75.8763 766.881 Q75.8763 775.608 72.7976 780.214 Q69.742 784.797 63.9319 784.797 Q58.1217 784.797 55.043 780.214 Q51.9875 775.608 51.9875 766.881 Q51.9875 758.131 55.043 753.547 Q58.1217 748.941 63.9319 748.941 Z\" fill=\"#000000\" fill-rule=\"evenodd\" fill-opacity=\"1\" /><path clip-path=\"url(#clip620)\" d=\"M 0 0 M80.9457 778.246 L85.8299 778.246 L85.8299 784.126 L80.9457 784.126 L80.9457 778.246 Z\" fill=\"#000000\" fill-rule=\"evenodd\" fill-opacity=\"1\" /><path clip-path=\"url(#clip620)\" d=\"M 0 0 M90.9456 749.566 L109.302 749.566 L109.302 753.501 L95.228 753.501 L95.228 761.973 Q96.2465 761.626 97.265 761.464 Q98.2835 761.279 99.3021 761.279 Q105.089 761.279 108.469 764.45 Q111.848 767.621 111.848 773.038 Q111.848 778.617 108.376 781.719 Q104.904 784.797 98.5845 784.797 Q96.4085 784.797 94.14 784.427 Q91.8947 784.057 89.4873 783.316 L89.4873 778.617 Q91.5706 779.751 93.7928 780.307 Q96.015 780.862 98.4919 780.862 Q102.496 780.862 104.834 778.756 Q107.172 776.649 107.172 773.038 Q107.172 769.427 104.834 767.321 Q102.496 765.214 98.4919 765.214 Q96.6169 765.214 94.7419 765.631 Q92.89 766.047 90.9456 766.927 L90.9456 749.566 Z\" fill=\"#000000\" fill-rule=\"evenodd\" fill-opacity=\"1\" /><path clip-path=\"url(#clip620)\" d=\"M 0 0 M126.918 752.645 Q123.307 752.645 121.478 756.209 Q119.672 759.751 119.672 766.881 Q119.672 773.987 121.478 777.552 Q123.307 781.094 126.918 781.094 Q130.552 781.094 132.357 777.552 Q134.186 773.987 134.186 766.881 Q134.186 759.751 132.357 756.209 Q130.552 752.645 126.918 752.645 M126.918 748.941 Q132.728 748.941 135.783 753.547 Q138.862 758.131 138.862 766.881 Q138.862 775.608 135.783 780.214 Q132.728 784.797 126.918 784.797 Q121.107 784.797 118.029 780.214 Q114.973 775.608 114.973 766.881 Q114.973 758.131 118.029 753.547 Q121.107 748.941 126.918 748.941 Z\" fill=\"#000000\" fill-rule=\"evenodd\" fill-opacity=\"1\" /><path clip-path=\"url(#clip620)\" d=\"M 0 0 M64.8346 413.21 Q61.2236 413.21 59.3949 416.775 Q57.5893 420.316 57.5893 427.446 Q57.5893 434.552 59.3949 438.117 Q61.2236 441.659 64.8346 441.659 Q68.4689 441.659 70.2744 438.117 Q72.1031 434.552 72.1031 427.446 Q72.1031 420.316 70.2744 416.775 Q68.4689 413.21 64.8346 413.21 M64.8346 409.506 Q70.6448 409.506 73.7003 414.113 Q76.779 418.696 76.779 427.446 Q76.779 436.173 73.7003 440.779 Q70.6448 445.362 64.8346 445.362 Q59.0245 445.362 55.9458 440.779 Q52.8903 436.173 52.8903 427.446 Q52.8903 418.696 55.9458 414.113 Q59.0245 409.506 64.8346 409.506 Z\" fill=\"#000000\" fill-rule=\"evenodd\" fill-opacity=\"1\" /><path clip-path=\"url(#clip620)\" d=\"M 0 0 M81.8484 438.812 L86.7327 438.812 L86.7327 444.691 L81.8484 444.691 L81.8484 438.812 Z\" fill=\"#000000\" fill-rule=\"evenodd\" fill-opacity=\"1\" /><path clip-path=\"url(#clip620)\" d=\"M 0 0 M90.6215 410.131 L112.844 410.131 L112.844 412.122 L100.297 444.691 L95.4132 444.691 L107.219 414.066 L90.6215 414.066 L90.6215 410.131 Z\" fill=\"#000000\" fill-rule=\"evenodd\" fill-opacity=\"1\" /><path clip-path=\"url(#clip620)\" d=\"M 0 0 M117.959 410.131 L136.316 410.131 L136.316 414.066 L122.242 414.066 L122.242 422.538 Q123.26 422.191 124.279 422.029 Q125.297 421.844 126.316 421.844 Q132.103 421.844 135.482 425.015 Q138.862 428.187 138.862 433.603 Q138.862 439.182 135.39 442.284 Q131.918 445.362 125.598 445.362 Q123.422 445.362 121.154 444.992 Q118.908 444.622 116.501 443.881 L116.501 439.182 Q118.584 440.316 120.807 440.872 Q123.029 441.427 125.506 441.427 Q129.51 441.427 131.848 439.321 Q134.186 437.214 134.186 433.603 Q134.186 429.992 131.848 427.886 Q129.51 425.779 125.506 425.779 Q123.631 425.779 121.756 426.196 Q119.904 426.613 117.959 427.492 L117.959 410.131 Z\" fill=\"#000000\" fill-rule=\"evenodd\" fill-opacity=\"1\" /><path clip-path=\"url(#clip620)\" d=\"M 0 0 M54.9736 101.321 L62.6124 101.321 L62.6124 74.9555 L54.3023 76.6222 L54.3023 72.3629 L62.5661 70.6963 L67.242 70.6963 L67.242 101.321 L74.8809 101.321 L74.8809 105.256 L54.9736 105.256 L54.9736 101.321 Z\" fill=\"#000000\" fill-rule=\"evenodd\" fill-opacity=\"1\" /><path clip-path=\"url(#clip620)\" d=\"M 0 0 M79.9503 99.3767 L84.8345 99.3767 L84.8345 105.256 L79.9503 105.256 L79.9503 99.3767 Z\" fill=\"#000000\" fill-rule=\"evenodd\" fill-opacity=\"1\" /><path clip-path=\"url(#clip620)\" d=\"M 0 0 M99.9039 73.775 Q96.2928 73.775 94.4641 77.3398 Q92.6586 80.8814 92.6586 88.011 Q92.6586 95.1174 94.4641 98.6822 Q96.2928 102.224 99.9039 102.224 Q103.538 102.224 105.344 98.6822 Q107.172 95.1174 107.172 88.011 Q107.172 80.8814 105.344 77.3398 Q103.538 73.775 99.9039 73.775 M99.9039 70.0713 Q105.714 70.0713 108.77 74.6777 Q111.848 79.261 111.848 88.011 Q111.848 96.7378 108.77 101.344 Q105.714 105.928 99.9039 105.928 Q94.0937 105.928 91.0151 101.344 Q87.9595 96.7378 87.9595 88.011 Q87.9595 79.261 91.0151 74.6777 Q94.0937 70.0713 99.9039 70.0713 Z\" fill=\"#000000\" fill-rule=\"evenodd\" fill-opacity=\"1\" /><path clip-path=\"url(#clip620)\" d=\"M 0 0 M126.918 73.775 Q123.307 73.775 121.478 77.3398 Q119.672 80.8814 119.672 88.011 Q119.672 95.1174 121.478 98.6822 Q123.307 102.224 126.918 102.224 Q130.552 102.224 132.357 98.6822 Q134.186 95.1174 134.186 88.011 Q134.186 80.8814 132.357 77.3398 Q130.552 73.775 126.918 73.775 M126.918 70.0713 Q132.728 70.0713 135.783 74.6777 Q138.862 79.261 138.862 88.011 Q138.862 96.7378 135.783 101.344 Q132.728 105.928 126.918 105.928 Q121.107 105.928 118.029 101.344 Q114.973 96.7378 114.973 88.011 Q114.973 79.261 118.029 74.6777 Q121.107 70.0713 126.918 70.0713 Z\" fill=\"#000000\" fill-rule=\"evenodd\" fill-opacity=\"1\" /><polyline clip-path=\"url(#clip622)\" style=\"stroke:#009af9; stroke-width:4; stroke-opacity:1; fill:none\" points=\"\n",
       "  236.501,766.846 256.566,770.161 442.096,800.812 553.591,819.231 647.86,834.805 750.262,851.722 844.667,867.319 945.879,884.04 1063.14,903.412 1167.36,920.629 \n",
       "  1258.74,935.726 1358.37,952.186 1458.6,968.743 1569.41,987.05 1674.84,1004.47 1784.47,1022.58 1876.75,1037.83 1989.42,1056.44 2095.33,1073.94 2265,1101.97 \n",
       "  2291.12,1106.28 \n",
       "  \"/>\n",
       "<polyline clip-path=\"url(#clip622)\" style=\"stroke:#e26f46; stroke-width:4; stroke-opacity:1; fill:none\" points=\"\n",
       "  236.501,1445.72 256.566,1432.46 442.096,1309.85 553.591,1236.17 647.86,1173.88 750.262,1106.21 844.667,1043.82 945.879,976.941 1063.14,899.45 1167.36,830.585 \n",
       "  1258.74,770.196 1358.37,704.357 1458.6,638.126 1569.41,564.899 1674.84,495.226 1784.47,422.781 1876.75,361.799 1989.42,287.346 2095.33,217.358 2265,105.232 \n",
       "  2291.12,87.9763 \n",
       "  \"/>\n",
       "<circle clip-path=\"url(#clip622)\" cx=\"236.501\" cy=\"87.9763\" r=\"14\" fill=\"#3da44d\" fill-rule=\"evenodd\" fill-opacity=\"0.5\" stroke=\"#000000\" stroke-opacity=\"0.5\" stroke-width=\"3.2\"/>\n",
       "<circle clip-path=\"url(#clip622)\" cx=\"2291.12\" cy=\"766.846\" r=\"14\" fill=\"#3da44d\" fill-rule=\"evenodd\" fill-opacity=\"0.5\" stroke=\"#000000\" stroke-opacity=\"0.5\" stroke-width=\"3.2\"/>\n",
       "<circle clip-path=\"url(#clip622)\" cx=\"1263.81\" cy=\"1106.28\" r=\"14\" fill=\"#3da44d\" fill-rule=\"evenodd\" fill-opacity=\"0.5\" stroke=\"#000000\" stroke-opacity=\"0.5\" stroke-width=\"3.2\"/>\n",
       "<circle clip-path=\"url(#clip622)\" cx=\"750.155\" cy=\"936.563\" r=\"14\" fill=\"#3da44d\" fill-rule=\"evenodd\" fill-opacity=\"0.5\" stroke=\"#000000\" stroke-opacity=\"0.5\" stroke-width=\"3.2\"/>\n",
       "<circle clip-path=\"url(#clip622)\" cx=\"1006.98\" cy=\"851.705\" r=\"14\" fill=\"#3da44d\" fill-rule=\"evenodd\" fill-opacity=\"0.5\" stroke=\"#000000\" stroke-opacity=\"0.5\" stroke-width=\"3.2\"/>\n",
       "<circle clip-path=\"url(#clip622)\" cx=\"1135.4\" cy=\"894.134\" r=\"14\" fill=\"#3da44d\" fill-rule=\"evenodd\" fill-opacity=\"0.5\" stroke=\"#000000\" stroke-opacity=\"0.5\" stroke-width=\"3.2\"/>\n",
       "<circle clip-path=\"url(#clip622)\" cx=\"1071.19\" cy=\"915.349\" r=\"14\" fill=\"#3da44d\" fill-rule=\"evenodd\" fill-opacity=\"0.5\" stroke=\"#000000\" stroke-opacity=\"0.5\" stroke-width=\"3.2\"/>\n",
       "<circle clip-path=\"url(#clip622)\" cx=\"1039.09\" cy=\"904.741\" r=\"14\" fill=\"#3da44d\" fill-rule=\"evenodd\" fill-opacity=\"0.5\" stroke=\"#000000\" stroke-opacity=\"0.5\" stroke-width=\"3.2\"/>\n",
       "<circle clip-path=\"url(#clip622)\" cx=\"1055.14\" cy=\"899.438\" r=\"14\" fill=\"#3da44d\" fill-rule=\"evenodd\" fill-opacity=\"0.5\" stroke=\"#000000\" stroke-opacity=\"0.5\" stroke-width=\"3.2\"/>\n",
       "<circle clip-path=\"url(#clip622)\" cx=\"1063.16\" cy=\"902.09\" r=\"14\" fill=\"#3da44d\" fill-rule=\"evenodd\" fill-opacity=\"0.5\" stroke=\"#000000\" stroke-opacity=\"0.5\" stroke-width=\"3.2\"/>\n",
       "<circle clip-path=\"url(#clip622)\" cx=\"1059.15\" cy=\"903.415\" r=\"14\" fill=\"#3da44d\" fill-rule=\"evenodd\" fill-opacity=\"0.5\" stroke=\"#000000\" stroke-opacity=\"0.5\" stroke-width=\"3.2\"/>\n",
       "<circle clip-path=\"url(#clip622)\" cx=\"1057.14\" cy=\"902.753\" r=\"14\" fill=\"#3da44d\" fill-rule=\"evenodd\" fill-opacity=\"0.5\" stroke=\"#000000\" stroke-opacity=\"0.5\" stroke-width=\"3.2\"/>\n",
       "<path clip-path=\"url(#clip620)\" d=\"\n",
       "M1986.57 337.138 L2280.16 337.138 L2280.16 95.2176 L1986.57 95.2176  Z\n",
       "  \" fill=\"#ffffff\" fill-rule=\"evenodd\" fill-opacity=\"1\"/>\n",
       "<polyline clip-path=\"url(#clip620)\" style=\"stroke:#000000; stroke-width:4; stroke-opacity:1; fill:none\" points=\"\n",
       "  1986.57,337.138 2280.16,337.138 2280.16,95.2176 1986.57,95.2176 1986.57,337.138 \n",
       "  \"/>\n",
       "<polyline clip-path=\"url(#clip620)\" style=\"stroke:#009af9; stroke-width:4; stroke-opacity:1; fill:none\" points=\"\n",
       "  2010.77,155.698 2155.97,155.698 \n",
       "  \"/>\n",
       "<path clip-path=\"url(#clip620)\" d=\"M 0 0 M2194.01 175.385 Q2192.2 180.015 2190.49 181.427 Q2188.78 182.839 2185.91 182.839 L2182.5 182.839 L2182.5 179.274 L2185 179.274 Q2186.76 179.274 2187.73 178.44 Q2188.71 177.607 2189.89 174.505 L2190.65 172.561 L2180.16 147.052 L2184.68 147.052 L2192.78 167.329 L2200.88 147.052 L2205.4 147.052 L2194.01 175.385 Z\" fill=\"#000000\" fill-rule=\"evenodd\" fill-opacity=\"1\" /><path clip-path=\"url(#clip620)\" d=\"M 0 0 M2211.28 169.042 L2218.91 169.042 L2218.91 142.677 L2210.6 144.343 L2210.6 140.084 L2218.87 138.418 L2223.54 138.418 L2223.54 169.042 L2231.18 169.042 L2231.18 172.978 L2211.28 172.978 L2211.28 169.042 Z\" fill=\"#000000\" fill-rule=\"evenodd\" fill-opacity=\"1\" /><polyline clip-path=\"url(#clip620)\" style=\"stroke:#e26f46; stroke-width:4; stroke-opacity:1; fill:none\" points=\"\n",
       "  2010.77,216.178 2155.97,216.178 \n",
       "  \"/>\n",
       "<path clip-path=\"url(#clip620)\" d=\"M 0 0 M2194.01 235.865 Q2192.2 240.495 2190.49 241.907 Q2188.78 243.319 2185.91 243.319 L2182.5 243.319 L2182.5 239.754 L2185 239.754 Q2186.76 239.754 2187.73 238.92 Q2188.71 238.087 2189.89 234.985 L2190.65 233.041 L2180.16 207.532 L2184.68 207.532 L2192.78 227.809 L2200.88 207.532 L2205.4 207.532 L2194.01 235.865 Z\" fill=\"#000000\" fill-rule=\"evenodd\" fill-opacity=\"1\" /><path clip-path=\"url(#clip620)\" d=\"M 0 0 M2214.49 229.522 L2230.81 229.522 L2230.81 233.458 L2208.87 233.458 L2208.87 229.522 Q2211.53 226.768 2216.11 222.138 Q2220.72 217.485 2221.9 216.143 Q2224.15 213.62 2225.03 211.884 Q2225.93 210.124 2225.93 208.435 Q2225.93 205.68 2223.98 203.944 Q2222.06 202.208 2218.96 202.208 Q2216.76 202.208 2214.31 202.972 Q2211.88 203.735 2209.1 205.286 L2209.1 200.564 Q2211.92 199.43 2214.38 198.851 Q2216.83 198.273 2218.87 198.273 Q2224.24 198.273 2227.43 200.958 Q2230.63 203.643 2230.63 208.134 Q2230.63 210.263 2229.82 212.185 Q2229.03 214.083 2226.92 216.675 Q2226.35 217.347 2223.24 220.564 Q2220.14 223.759 2214.49 229.522 Z\" fill=\"#000000\" fill-rule=\"evenodd\" fill-opacity=\"1\" /><circle clip-path=\"url(#clip620)\" cx=\"2083.37\" cy=\"276.658\" r=\"23\" fill=\"#3da44d\" fill-rule=\"evenodd\" fill-opacity=\"0.5\" stroke=\"#000000\" stroke-opacity=\"0.5\" stroke-width=\"5.12\"/>\n",
       "<path clip-path=\"url(#clip620)\" d=\"M 0 0 M2194.01 296.345 Q2192.2 300.975 2190.49 302.387 Q2188.78 303.799 2185.91 303.799 L2182.5 303.799 L2182.5 300.234 L2185 300.234 Q2186.76 300.234 2187.73 299.4 Q2188.71 298.567 2189.89 295.465 L2190.65 293.521 L2180.16 268.012 L2184.68 268.012 L2192.78 288.289 L2200.88 268.012 L2205.4 268.012 L2194.01 296.345 Z\" fill=\"#000000\" fill-rule=\"evenodd\" fill-opacity=\"1\" /><path clip-path=\"url(#clip620)\" d=\"M 0 0 M2224.63 275.303 Q2227.99 276.021 2229.86 278.289 Q2231.76 280.558 2231.76 283.891 Q2231.76 289.007 2228.24 291.808 Q2224.72 294.609 2218.24 294.609 Q2216.07 294.609 2213.75 294.169 Q2211.46 293.752 2209.01 292.896 L2209.01 288.382 Q2210.95 289.516 2213.27 290.095 Q2215.58 290.674 2218.1 290.674 Q2222.5 290.674 2224.79 288.938 Q2227.11 287.201 2227.11 283.891 Q2227.11 280.836 2224.96 279.123 Q2222.83 277.387 2219.01 277.387 L2214.98 277.387 L2214.98 273.544 L2219.19 273.544 Q2222.64 273.544 2224.47 272.178 Q2226.3 270.79 2226.3 268.197 Q2226.3 265.535 2224.4 264.123 Q2222.53 262.688 2219.01 262.688 Q2217.09 262.688 2214.89 263.104 Q2212.69 263.521 2210.05 264.401 L2210.05 260.234 Q2212.71 259.493 2215.03 259.123 Q2217.36 258.753 2219.42 258.753 Q2224.75 258.753 2227.85 261.183 Q2230.95 263.59 2230.95 267.711 Q2230.95 270.581 2229.31 272.572 Q2227.66 274.54 2224.63 275.303 Z\" fill=\"#000000\" fill-rule=\"evenodd\" fill-opacity=\"1\" /></svg>\n"
      ]
     },
     "execution_count": 264,
     "metadata": {},
     "output_type": "execute_result"
    }
   ],
   "source": [
    "scatter!(P, array_x, array_y, alpha=0.5) # Faz o Plot com os pontos das iterações"
   ]
  },
  {
   "cell_type": "code",
   "execution_count": 265,
   "id": "b9f1db1c",
   "metadata": {},
   "outputs": [
    {
     "name": "stdout",
     "output_type": "stream",
     "text": [
      "[0.5; 1.0]\n",
      "[0.375; 1.25]\n",
      "[0.40625; 1.1875]\n",
      "[0.3984375; 1.203125]\n",
      "[0.400390625; 1.19921875]\n",
      "[0.39990234375; 1.2001953125]\n",
      "[0.4000244140625; 1.199951171875]\n",
      "\n",
      "Iterações: 8\n",
      "Tolerância do Sistema: 0.0001220703125\n",
      "Tolerância do passo: 0.0002729575167846423"
     ]
    }
   ],
   "source": [
    "\"\"\" Aplicando o método de Gauss-Seidel \"\"\"\n",
    "\n",
    "A = [2 1; -1 2]\n",
    "b = [2; 2]\n",
    "\n",
    "# Para printar as iterações no gráfico\n",
    "array_x = []\n",
    "array_y = []\n",
    "\n",
    "iterador = 1 # número de passos até ecnontrar erro menor que 10^(-3)\n",
    "x_anterior = randn(2) # chute inicial qualquer do vetor x_0\n",
    "x_atual = randn(2)  # chute inicial qualquer do vetor x_1\n",
    "\n",
    "while (norm(x_atual - x_anterior) >= 1e-3) # enquanto || x^(n) - x^(n-1) || menor que 10^(-3)\n",
    "    x_anterior = x_atual # atualiza x^(n-1)\n",
    "    x_atual = gauss_seidel(A, b, iterador) # atualiza x^n\n",
    "    push!(array_x, x_atual[2]) # array_x armazena o valor de x\n",
    "    push!(array_y, x_atual[1]) # array_y armazena o valor de y\n",
    "    print(x_atual, \"\\n\") # printa x^n\n",
    "    iterador += 1 # número de passos aumenta em 1\n",
    "end\n",
    "\n",
    "print(\"\\nIterações: \", iterador, \"\\n\") # número de passos total\n",
    "print(\"Tolerância do Sistema: \", norm(A*x_atual - b), \"\\n\") # tolerância de acordo com o sistema\n",
    "print(\"Tolerância do passo: \", norm(x_atual - x_anterior)) # tolerância de acordo com o passo seguinte e o passo anterior"
   ]
  },
  {
   "cell_type": "code",
   "execution_count": 266,
   "id": "37a2828c",
   "metadata": {},
   "outputs": [
    {
     "data": {
      "image/svg+xml": [
       "<?xml version=\"1.0\" encoding=\"utf-8\"?>\n",
       "<svg xmlns=\"http://www.w3.org/2000/svg\" xmlns:xlink=\"http://www.w3.org/1999/xlink\" width=\"600\" height=\"400\" viewBox=\"0 0 2400 1600\">\n",
       "<defs>\n",
       "  <clipPath id=\"clip660\">\n",
       "    <rect x=\"0\" y=\"0\" width=\"2400\" height=\"1600\"/>\n",
       "  </clipPath>\n",
       "</defs>\n",
       "<path clip-path=\"url(#clip660)\" d=\"\n",
       "M0 1600 L2400 1600 L2400 0 L0 0  Z\n",
       "  \" fill=\"#ffffff\" fill-rule=\"evenodd\" fill-opacity=\"1\"/>\n",
       "<defs>\n",
       "  <clipPath id=\"clip661\">\n",
       "    <rect x=\"480\" y=\"0\" width=\"1681\" height=\"1600\"/>\n",
       "  </clipPath>\n",
       "</defs>\n",
       "<path clip-path=\"url(#clip660)\" d=\"\n",
       "M174.862 1486.45 L2352.76 1486.45 L2352.76 47.2441 L174.862 47.2441  Z\n",
       "  \" fill=\"#ffffff\" fill-rule=\"evenodd\" fill-opacity=\"1\"/>\n",
       "<defs>\n",
       "  <clipPath id=\"clip662\">\n",
       "    <rect x=\"174\" y=\"47\" width=\"2179\" height=\"1440\"/>\n",
       "  </clipPath>\n",
       "</defs>\n",
       "<polyline clip-path=\"url(#clip662)\" style=\"stroke:#000000; stroke-width:2; stroke-opacity:0.1; fill:none\" points=\"\n",
       "  236.501,1486.45 236.501,47.2441 \n",
       "  \"/>\n",
       "<polyline clip-path=\"url(#clip662)\" style=\"stroke:#000000; stroke-width:2; stroke-opacity:0.1; fill:none\" points=\"\n",
       "  647.424,1486.45 647.424,47.2441 \n",
       "  \"/>\n",
       "<polyline clip-path=\"url(#clip662)\" style=\"stroke:#000000; stroke-width:2; stroke-opacity:0.1; fill:none\" points=\"\n",
       "  1058.35,1486.45 1058.35,47.2441 \n",
       "  \"/>\n",
       "<polyline clip-path=\"url(#clip662)\" style=\"stroke:#000000; stroke-width:2; stroke-opacity:0.1; fill:none\" points=\"\n",
       "  1469.27,1486.45 1469.27,47.2441 \n",
       "  \"/>\n",
       "<polyline clip-path=\"url(#clip662)\" style=\"stroke:#000000; stroke-width:2; stroke-opacity:0.1; fill:none\" points=\"\n",
       "  1880.19,1486.45 1880.19,47.2441 \n",
       "  \"/>\n",
       "<polyline clip-path=\"url(#clip662)\" style=\"stroke:#000000; stroke-width:2; stroke-opacity:0.1; fill:none\" points=\"\n",
       "  2291.12,1486.45 2291.12,47.2441 \n",
       "  \"/>\n",
       "<polyline clip-path=\"url(#clip660)\" style=\"stroke:#000000; stroke-width:4; stroke-opacity:1; fill:none\" points=\"\n",
       "  174.862,1486.45 2352.76,1486.45 \n",
       "  \"/>\n",
       "<polyline clip-path=\"url(#clip660)\" style=\"stroke:#000000; stroke-width:4; stroke-opacity:1; fill:none\" points=\"\n",
       "  236.501,1486.45 236.501,1469.18 \n",
       "  \"/>\n",
       "<polyline clip-path=\"url(#clip660)\" style=\"stroke:#000000; stroke-width:4; stroke-opacity:1; fill:none\" points=\"\n",
       "  647.424,1486.45 647.424,1469.18 \n",
       "  \"/>\n",
       "<polyline clip-path=\"url(#clip660)\" style=\"stroke:#000000; stroke-width:4; stroke-opacity:1; fill:none\" points=\"\n",
       "  1058.35,1486.45 1058.35,1469.18 \n",
       "  \"/>\n",
       "<polyline clip-path=\"url(#clip660)\" style=\"stroke:#000000; stroke-width:4; stroke-opacity:1; fill:none\" points=\"\n",
       "  1469.27,1486.45 1469.27,1469.18 \n",
       "  \"/>\n",
       "<polyline clip-path=\"url(#clip660)\" style=\"stroke:#000000; stroke-width:4; stroke-opacity:1; fill:none\" points=\"\n",
       "  1880.19,1486.45 1880.19,1469.18 \n",
       "  \"/>\n",
       "<polyline clip-path=\"url(#clip660)\" style=\"stroke:#000000; stroke-width:4; stroke-opacity:1; fill:none\" points=\"\n",
       "  2291.12,1486.45 2291.12,1469.18 \n",
       "  \"/>\n",
       "<path clip-path=\"url(#clip660)\" d=\"M 0 0 M208.399 1543.18 L216.038 1543.18 L216.038 1516.82 L207.728 1518.49 L207.728 1514.23 L215.991 1512.56 L220.667 1512.56 L220.667 1543.18 L228.306 1543.18 L228.306 1547.12 L208.399 1547.12 L208.399 1543.18 Z\" fill=\"#000000\" fill-rule=\"evenodd\" fill-opacity=\"1\" /><path clip-path=\"url(#clip660)\" d=\"M 0 0 M233.376 1541.24 L238.26 1541.24 L238.26 1547.12 L233.376 1547.12 L233.376 1541.24 Z\" fill=\"#000000\" fill-rule=\"evenodd\" fill-opacity=\"1\" /><path clip-path=\"url(#clip660)\" d=\"M 0 0 M253.329 1515.64 Q249.718 1515.64 247.889 1519.2 Q246.084 1522.75 246.084 1529.87 Q246.084 1536.98 247.889 1540.55 Q249.718 1544.09 253.329 1544.09 Q256.963 1544.09 258.769 1540.55 Q260.598 1536.98 260.598 1529.87 Q260.598 1522.75 258.769 1519.2 Q256.963 1515.64 253.329 1515.64 M253.329 1511.93 Q259.139 1511.93 262.195 1516.54 Q265.274 1521.12 265.274 1529.87 Q265.274 1538.6 262.195 1543.21 Q259.139 1547.79 253.329 1547.79 Q247.519 1547.79 244.44 1543.21 Q241.385 1538.6 241.385 1529.87 Q241.385 1521.12 244.44 1516.54 Q247.519 1511.93 253.329 1511.93 Z\" fill=\"#000000\" fill-rule=\"evenodd\" fill-opacity=\"1\" /><path clip-path=\"url(#clip660)\" d=\"M 0 0 M619.936 1543.18 L627.574 1543.18 L627.574 1516.82 L619.264 1518.49 L619.264 1514.23 L627.528 1512.56 L632.204 1512.56 L632.204 1543.18 L639.843 1543.18 L639.843 1547.12 L619.936 1547.12 L619.936 1543.18 Z\" fill=\"#000000\" fill-rule=\"evenodd\" fill-opacity=\"1\" /><path clip-path=\"url(#clip660)\" d=\"M 0 0 M644.912 1541.24 L649.797 1541.24 L649.797 1547.12 L644.912 1547.12 L644.912 1541.24 Z\" fill=\"#000000\" fill-rule=\"evenodd\" fill-opacity=\"1\" /><path clip-path=\"url(#clip660)\" d=\"M 0 0 M655.676 1543.18 L663.315 1543.18 L663.315 1516.82 L655.005 1518.49 L655.005 1514.23 L663.269 1512.56 L667.945 1512.56 L667.945 1543.18 L675.583 1543.18 L675.583 1547.12 L655.676 1547.12 L655.676 1543.18 Z\" fill=\"#000000\" fill-rule=\"evenodd\" fill-opacity=\"1\" /><path clip-path=\"url(#clip660)\" d=\"M 0 0 M1031.04 1543.18 L1038.68 1543.18 L1038.68 1516.82 L1030.37 1518.49 L1030.37 1514.23 L1038.64 1512.56 L1043.31 1512.56 L1043.31 1543.18 L1050.95 1543.18 L1050.95 1547.12 L1031.04 1547.12 L1031.04 1543.18 Z\" fill=\"#000000\" fill-rule=\"evenodd\" fill-opacity=\"1\" /><path clip-path=\"url(#clip660)\" d=\"M 0 0 M1056.02 1541.24 L1060.91 1541.24 L1060.91 1547.12 L1056.02 1547.12 L1056.02 1541.24 Z\" fill=\"#000000\" fill-rule=\"evenodd\" fill-opacity=\"1\" /><path clip-path=\"url(#clip660)\" d=\"M 0 0 M1070 1543.18 L1086.32 1543.18 L1086.32 1547.12 L1064.38 1547.12 L1064.38 1543.18 Q1067.04 1540.43 1071.62 1535.8 Q1076.23 1531.15 1077.41 1529.81 Q1079.66 1527.28 1080.53 1525.55 Q1081.44 1523.79 1081.44 1522.1 Q1081.44 1519.34 1079.49 1517.61 Q1077.57 1515.87 1074.47 1515.87 Q1072.27 1515.87 1069.82 1516.63 Q1067.39 1517.4 1064.61 1518.95 L1064.61 1514.23 Q1067.43 1513.09 1069.89 1512.51 Q1072.34 1511.93 1074.38 1511.93 Q1079.75 1511.93 1082.94 1514.62 Q1086.14 1517.31 1086.14 1521.8 Q1086.14 1523.93 1085.33 1525.85 Q1084.54 1527.74 1082.43 1530.34 Q1081.85 1531.01 1078.75 1534.23 Q1075.65 1537.42 1070 1543.18 Z\" fill=\"#000000\" fill-rule=\"evenodd\" fill-opacity=\"1\" /><path clip-path=\"url(#clip660)\" d=\"M 0 0 M1441.49 1543.18 L1449.13 1543.18 L1449.13 1516.82 L1440.82 1518.49 L1440.82 1514.23 L1449.09 1512.56 L1453.76 1512.56 L1453.76 1543.18 L1461.4 1543.18 L1461.4 1547.12 L1441.49 1547.12 L1441.49 1543.18 Z\" fill=\"#000000\" fill-rule=\"evenodd\" fill-opacity=\"1\" /><path clip-path=\"url(#clip660)\" d=\"M 0 0 M1466.47 1541.24 L1471.35 1541.24 L1471.35 1547.12 L1466.47 1547.12 L1466.47 1541.24 Z\" fill=\"#000000\" fill-rule=\"evenodd\" fill-opacity=\"1\" /><path clip-path=\"url(#clip660)\" d=\"M 0 0 M1490.59 1528.49 Q1493.95 1529.2 1495.82 1531.47 Q1497.72 1533.74 1497.72 1537.07 Q1497.72 1542.19 1494.2 1544.99 Q1490.68 1547.79 1484.2 1547.79 Q1482.03 1547.79 1479.71 1547.35 Q1477.42 1546.93 1474.97 1546.08 L1474.97 1541.56 Q1476.91 1542.7 1479.22 1543.28 Q1481.54 1543.86 1484.06 1543.86 Q1488.46 1543.86 1490.75 1542.12 Q1493.07 1540.38 1493.07 1537.07 Q1493.07 1534.02 1490.91 1532.31 Q1488.78 1530.57 1484.97 1530.57 L1480.94 1530.57 L1480.94 1526.73 L1485.15 1526.73 Q1488.6 1526.73 1490.43 1525.36 Q1492.26 1523.97 1492.26 1521.38 Q1492.26 1518.72 1490.36 1517.31 Q1488.48 1515.87 1484.97 1515.87 Q1483.04 1515.87 1480.84 1516.29 Q1478.65 1516.7 1476.01 1517.58 L1476.01 1513.42 Q1478.67 1512.68 1480.98 1512.31 Q1483.32 1511.93 1485.38 1511.93 Q1490.71 1511.93 1493.81 1514.37 Q1496.91 1516.77 1496.91 1520.89 Q1496.91 1523.76 1495.27 1525.75 Q1493.62 1527.72 1490.59 1528.49 Z\" fill=\"#000000\" fill-rule=\"evenodd\" fill-opacity=\"1\" /><path clip-path=\"url(#clip660)\" d=\"M 0 0 M1851.85 1543.18 L1859.49 1543.18 L1859.49 1516.82 L1851.18 1518.49 L1851.18 1514.23 L1859.44 1512.56 L1864.12 1512.56 L1864.12 1543.18 L1871.76 1543.18 L1871.76 1547.12 L1851.85 1547.12 L1851.85 1543.18 Z\" fill=\"#000000\" fill-rule=\"evenodd\" fill-opacity=\"1\" /><path clip-path=\"url(#clip660)\" d=\"M 0 0 M1876.83 1541.24 L1881.71 1541.24 L1881.71 1547.12 L1876.83 1547.12 L1876.83 1541.24 Z\" fill=\"#000000\" fill-rule=\"evenodd\" fill-opacity=\"1\" /><path clip-path=\"url(#clip660)\" d=\"M 0 0 M1899.63 1516.63 L1887.82 1535.08 L1899.63 1535.08 L1899.63 1516.63 M1898.4 1512.56 L1904.28 1512.56 L1904.28 1535.08 L1909.21 1535.08 L1909.21 1538.97 L1904.28 1538.97 L1904.28 1547.12 L1899.63 1547.12 L1899.63 1538.97 L1884.03 1538.97 L1884.03 1534.46 L1898.4 1512.56 Z\" fill=\"#000000\" fill-rule=\"evenodd\" fill-opacity=\"1\" /><path clip-path=\"url(#clip660)\" d=\"M 0 0 M2263.51 1543.18 L2271.15 1543.18 L2271.15 1516.82 L2262.84 1518.49 L2262.84 1514.23 L2271.11 1512.56 L2275.78 1512.56 L2275.78 1543.18 L2283.42 1543.18 L2283.42 1547.12 L2263.51 1547.12 L2263.51 1543.18 Z\" fill=\"#000000\" fill-rule=\"evenodd\" fill-opacity=\"1\" /><path clip-path=\"url(#clip660)\" d=\"M 0 0 M2288.49 1541.24 L2293.37 1541.24 L2293.37 1547.12 L2288.49 1547.12 L2288.49 1541.24 Z\" fill=\"#000000\" fill-rule=\"evenodd\" fill-opacity=\"1\" /><path clip-path=\"url(#clip660)\" d=\"M 0 0 M2298.49 1512.56 L2316.85 1512.56 L2316.85 1516.5 L2302.77 1516.5 L2302.77 1524.97 Q2303.79 1524.62 2304.81 1524.46 Q2305.83 1524.27 2306.85 1524.27 Q2312.63 1524.27 2316.01 1527.44 Q2319.39 1530.62 2319.39 1536.03 Q2319.39 1541.61 2315.92 1544.71 Q2312.45 1547.79 2306.13 1547.79 Q2303.95 1547.79 2301.68 1547.42 Q2299.44 1547.05 2297.03 1546.31 L2297.03 1541.61 Q2299.12 1542.74 2301.34 1543.3 Q2303.56 1543.86 2306.04 1543.86 Q2310.04 1543.86 2312.38 1541.75 Q2314.72 1539.64 2314.72 1536.03 Q2314.72 1532.42 2312.38 1530.31 Q2310.04 1528.21 2306.04 1528.21 Q2304.16 1528.21 2302.29 1528.62 Q2300.43 1529.04 2298.49 1529.92 L2298.49 1512.56 Z\" fill=\"#000000\" fill-rule=\"evenodd\" fill-opacity=\"1\" /><polyline clip-path=\"url(#clip662)\" style=\"stroke:#000000; stroke-width:2; stroke-opacity:0.1; fill:none\" points=\"\n",
       "  174.862,1445.72 2352.76,1445.72 \n",
       "  \"/>\n",
       "<polyline clip-path=\"url(#clip662)\" style=\"stroke:#000000; stroke-width:2; stroke-opacity:0.1; fill:none\" points=\"\n",
       "  174.862,1106.28 2352.76,1106.28 \n",
       "  \"/>\n",
       "<polyline clip-path=\"url(#clip662)\" style=\"stroke:#000000; stroke-width:2; stroke-opacity:0.1; fill:none\" points=\"\n",
       "  174.862,766.846 2352.76,766.846 \n",
       "  \"/>\n",
       "<polyline clip-path=\"url(#clip662)\" style=\"stroke:#000000; stroke-width:2; stroke-opacity:0.1; fill:none\" points=\"\n",
       "  174.862,427.411 2352.76,427.411 \n",
       "  \"/>\n",
       "<polyline clip-path=\"url(#clip662)\" style=\"stroke:#000000; stroke-width:2; stroke-opacity:0.1; fill:none\" points=\"\n",
       "  174.862,87.9763 2352.76,87.9763 \n",
       "  \"/>\n",
       "<polyline clip-path=\"url(#clip660)\" style=\"stroke:#000000; stroke-width:4; stroke-opacity:1; fill:none\" points=\"\n",
       "  174.862,1486.45 174.862,47.2441 \n",
       "  \"/>\n",
       "<polyline clip-path=\"url(#clip660)\" style=\"stroke:#000000; stroke-width:4; stroke-opacity:1; fill:none\" points=\"\n",
       "  174.862,1445.72 200.997,1445.72 \n",
       "  \"/>\n",
       "<polyline clip-path=\"url(#clip660)\" style=\"stroke:#000000; stroke-width:4; stroke-opacity:1; fill:none\" points=\"\n",
       "  174.862,1106.28 200.997,1106.28 \n",
       "  \"/>\n",
       "<polyline clip-path=\"url(#clip660)\" style=\"stroke:#000000; stroke-width:4; stroke-opacity:1; fill:none\" points=\"\n",
       "  174.862,766.846 200.997,766.846 \n",
       "  \"/>\n",
       "<polyline clip-path=\"url(#clip660)\" style=\"stroke:#000000; stroke-width:4; stroke-opacity:1; fill:none\" points=\"\n",
       "  174.862,427.411 200.997,427.411 \n",
       "  \"/>\n",
       "<polyline clip-path=\"url(#clip660)\" style=\"stroke:#000000; stroke-width:4; stroke-opacity:1; fill:none\" points=\"\n",
       "  174.862,87.9763 200.997,87.9763 \n",
       "  \"/>\n",
       "<path clip-path=\"url(#clip660)\" d=\"M 0 0 M62.9365 1431.51 Q59.3254 1431.51 57.4967 1435.08 Q55.6912 1438.62 55.6912 1445.75 Q55.6912 1452.86 57.4967 1456.42 Q59.3254 1459.96 62.9365 1459.96 Q66.5707 1459.96 68.3763 1456.42 Q70.205 1452.86 70.205 1445.75 Q70.205 1438.62 68.3763 1435.08 Q66.5707 1431.51 62.9365 1431.51 M62.9365 1427.81 Q68.7467 1427.81 71.8022 1432.42 Q74.8809 1437 74.8809 1445.75 Q74.8809 1454.48 71.8022 1459.08 Q68.7467 1463.67 62.9365 1463.67 Q57.1264 1463.67 54.0477 1459.08 Q50.9921 1454.48 50.9921 1445.75 Q50.9921 1437 54.0477 1432.42 Q57.1264 1427.81 62.9365 1427.81 Z\" fill=\"#000000\" fill-rule=\"evenodd\" fill-opacity=\"1\" /><path clip-path=\"url(#clip660)\" d=\"M 0 0 M79.9503 1457.12 L84.8345 1457.12 L84.8345 1463 L79.9503 1463 L79.9503 1457.12 Z\" fill=\"#000000\" fill-rule=\"evenodd\" fill-opacity=\"1\" /><path clip-path=\"url(#clip660)\" d=\"M 0 0 M99.9039 1431.51 Q96.2928 1431.51 94.4641 1435.08 Q92.6586 1438.62 92.6586 1445.75 Q92.6586 1452.86 94.4641 1456.42 Q96.2928 1459.96 99.9039 1459.96 Q103.538 1459.96 105.344 1456.42 Q107.172 1452.86 107.172 1445.75 Q107.172 1438.62 105.344 1435.08 Q103.538 1431.51 99.9039 1431.51 M99.9039 1427.81 Q105.714 1427.81 108.77 1432.42 Q111.848 1437 111.848 1445.75 Q111.848 1454.48 108.77 1459.08 Q105.714 1463.67 99.9039 1463.67 Q94.0937 1463.67 91.0151 1459.08 Q87.9595 1454.48 87.9595 1445.75 Q87.9595 1437 91.0151 1432.42 Q94.0937 1427.81 99.9039 1427.81 Z\" fill=\"#000000\" fill-rule=\"evenodd\" fill-opacity=\"1\" /><path clip-path=\"url(#clip660)\" d=\"M 0 0 M126.918 1431.51 Q123.307 1431.51 121.478 1435.08 Q119.672 1438.62 119.672 1445.75 Q119.672 1452.86 121.478 1456.42 Q123.307 1459.96 126.918 1459.96 Q130.552 1459.96 132.357 1456.42 Q134.186 1452.86 134.186 1445.75 Q134.186 1438.62 132.357 1435.08 Q130.552 1431.51 126.918 1431.51 M126.918 1427.81 Q132.728 1427.81 135.783 1432.42 Q138.862 1437 138.862 1445.75 Q138.862 1454.48 135.783 1459.08 Q132.728 1463.67 126.918 1463.67 Q121.107 1463.67 118.029 1459.08 Q114.973 1454.48 114.973 1445.75 Q114.973 1437 118.029 1432.42 Q121.107 1427.81 126.918 1427.81 Z\" fill=\"#000000\" fill-rule=\"evenodd\" fill-opacity=\"1\" /><path clip-path=\"url(#clip660)\" d=\"M 0 0 M65.5291 1092.08 Q61.918 1092.08 60.0893 1095.64 Q58.2838 1099.19 58.2838 1106.32 Q58.2838 1113.42 60.0893 1116.99 Q61.918 1120.53 65.5291 1120.53 Q69.1633 1120.53 70.9689 1116.99 Q72.7976 1113.42 72.7976 1106.32 Q72.7976 1099.19 70.9689 1095.64 Q69.1633 1092.08 65.5291 1092.08 M65.5291 1088.38 Q71.3392 1088.38 74.3948 1092.98 Q77.4735 1097.57 77.4735 1106.32 Q77.4735 1115.04 74.3948 1119.65 Q71.3392 1124.23 65.5291 1124.23 Q59.7189 1124.23 56.6402 1119.65 Q53.5847 1115.04 53.5847 1106.32 Q53.5847 1097.57 56.6402 1092.98 Q59.7189 1088.38 65.5291 1088.38 Z\" fill=\"#000000\" fill-rule=\"evenodd\" fill-opacity=\"1\" /><path clip-path=\"url(#clip660)\" d=\"M 0 0 M82.5429 1117.68 L87.4271 1117.68 L87.4271 1123.56 L82.5429 1123.56 L82.5429 1117.68 Z\" fill=\"#000000\" fill-rule=\"evenodd\" fill-opacity=\"1\" /><path clip-path=\"url(#clip660)\" d=\"M 0 0 M96.5243 1119.63 L112.844 1119.63 L112.844 1123.56 L90.8993 1123.56 L90.8993 1119.63 Q93.5613 1116.87 98.1447 1112.24 Q102.751 1107.59 103.932 1106.25 Q106.177 1103.72 107.057 1101.99 Q107.959 1100.23 107.959 1098.54 Q107.959 1095.78 106.015 1094.05 Q104.094 1092.31 100.992 1092.31 Q98.7928 1092.31 96.3391 1093.07 Q93.9086 1093.84 91.1308 1095.39 L91.1308 1090.67 Q93.9549 1089.53 96.4085 1088.95 Q98.8622 1088.38 100.899 1088.38 Q106.27 1088.38 109.464 1091.06 Q112.658 1093.75 112.658 1098.24 Q112.658 1100.37 111.848 1102.29 Q111.061 1104.19 108.955 1106.78 Q108.376 1107.45 105.274 1110.67 Q102.172 1113.86 96.5243 1119.63 Z\" fill=\"#000000\" fill-rule=\"evenodd\" fill-opacity=\"1\" /><path clip-path=\"url(#clip660)\" d=\"M 0 0 M117.959 1089 L136.316 1089 L136.316 1092.94 L122.242 1092.94 L122.242 1101.41 Q123.26 1101.06 124.279 1100.9 Q125.297 1100.71 126.316 1100.71 Q132.103 1100.71 135.482 1103.89 Q138.862 1107.06 138.862 1112.47 Q138.862 1118.05 135.39 1121.15 Q131.918 1124.23 125.598 1124.23 Q123.422 1124.23 121.154 1123.86 Q118.908 1123.49 116.501 1122.75 L116.501 1118.05 Q118.584 1119.19 120.807 1119.74 Q123.029 1120.3 125.506 1120.3 Q129.51 1120.3 131.848 1118.19 Q134.186 1116.08 134.186 1112.47 Q134.186 1108.86 131.848 1106.76 Q129.51 1104.65 125.506 1104.65 Q123.631 1104.65 121.756 1105.07 Q119.904 1105.48 117.959 1106.36 L117.959 1089 Z\" fill=\"#000000\" fill-rule=\"evenodd\" fill-opacity=\"1\" /><path clip-path=\"url(#clip660)\" d=\"M 0 0 M63.9319 752.645 Q60.3208 752.645 58.4921 756.209 Q56.6865 759.751 56.6865 766.881 Q56.6865 773.987 58.4921 777.552 Q60.3208 781.094 63.9319 781.094 Q67.5661 781.094 69.3717 777.552 Q71.2004 773.987 71.2004 766.881 Q71.2004 759.751 69.3717 756.209 Q67.5661 752.645 63.9319 752.645 M63.9319 748.941 Q69.742 748.941 72.7976 753.547 Q75.8763 758.131 75.8763 766.881 Q75.8763 775.608 72.7976 780.214 Q69.742 784.797 63.9319 784.797 Q58.1217 784.797 55.043 780.214 Q51.9875 775.608 51.9875 766.881 Q51.9875 758.131 55.043 753.547 Q58.1217 748.941 63.9319 748.941 Z\" fill=\"#000000\" fill-rule=\"evenodd\" fill-opacity=\"1\" /><path clip-path=\"url(#clip660)\" d=\"M 0 0 M80.9457 778.246 L85.8299 778.246 L85.8299 784.126 L80.9457 784.126 L80.9457 778.246 Z\" fill=\"#000000\" fill-rule=\"evenodd\" fill-opacity=\"1\" /><path clip-path=\"url(#clip660)\" d=\"M 0 0 M90.9456 749.566 L109.302 749.566 L109.302 753.501 L95.228 753.501 L95.228 761.973 Q96.2465 761.626 97.265 761.464 Q98.2835 761.279 99.3021 761.279 Q105.089 761.279 108.469 764.45 Q111.848 767.621 111.848 773.038 Q111.848 778.617 108.376 781.719 Q104.904 784.797 98.5845 784.797 Q96.4085 784.797 94.14 784.427 Q91.8947 784.057 89.4873 783.316 L89.4873 778.617 Q91.5706 779.751 93.7928 780.307 Q96.015 780.862 98.4919 780.862 Q102.496 780.862 104.834 778.756 Q107.172 776.649 107.172 773.038 Q107.172 769.427 104.834 767.321 Q102.496 765.214 98.4919 765.214 Q96.6169 765.214 94.7419 765.631 Q92.89 766.047 90.9456 766.927 L90.9456 749.566 Z\" fill=\"#000000\" fill-rule=\"evenodd\" fill-opacity=\"1\" /><path clip-path=\"url(#clip660)\" d=\"M 0 0 M126.918 752.645 Q123.307 752.645 121.478 756.209 Q119.672 759.751 119.672 766.881 Q119.672 773.987 121.478 777.552 Q123.307 781.094 126.918 781.094 Q130.552 781.094 132.357 777.552 Q134.186 773.987 134.186 766.881 Q134.186 759.751 132.357 756.209 Q130.552 752.645 126.918 752.645 M126.918 748.941 Q132.728 748.941 135.783 753.547 Q138.862 758.131 138.862 766.881 Q138.862 775.608 135.783 780.214 Q132.728 784.797 126.918 784.797 Q121.107 784.797 118.029 780.214 Q114.973 775.608 114.973 766.881 Q114.973 758.131 118.029 753.547 Q121.107 748.941 126.918 748.941 Z\" fill=\"#000000\" fill-rule=\"evenodd\" fill-opacity=\"1\" /><path clip-path=\"url(#clip660)\" d=\"M 0 0 M64.8346 413.21 Q61.2236 413.21 59.3949 416.775 Q57.5893 420.316 57.5893 427.446 Q57.5893 434.552 59.3949 438.117 Q61.2236 441.659 64.8346 441.659 Q68.4689 441.659 70.2744 438.117 Q72.1031 434.552 72.1031 427.446 Q72.1031 420.316 70.2744 416.775 Q68.4689 413.21 64.8346 413.21 M64.8346 409.506 Q70.6448 409.506 73.7003 414.113 Q76.779 418.696 76.779 427.446 Q76.779 436.173 73.7003 440.779 Q70.6448 445.362 64.8346 445.362 Q59.0245 445.362 55.9458 440.779 Q52.8903 436.173 52.8903 427.446 Q52.8903 418.696 55.9458 414.113 Q59.0245 409.506 64.8346 409.506 Z\" fill=\"#000000\" fill-rule=\"evenodd\" fill-opacity=\"1\" /><path clip-path=\"url(#clip660)\" d=\"M 0 0 M81.8484 438.812 L86.7327 438.812 L86.7327 444.691 L81.8484 444.691 L81.8484 438.812 Z\" fill=\"#000000\" fill-rule=\"evenodd\" fill-opacity=\"1\" /><path clip-path=\"url(#clip660)\" d=\"M 0 0 M90.6215 410.131 L112.844 410.131 L112.844 412.122 L100.297 444.691 L95.4132 444.691 L107.219 414.066 L90.6215 414.066 L90.6215 410.131 Z\" fill=\"#000000\" fill-rule=\"evenodd\" fill-opacity=\"1\" /><path clip-path=\"url(#clip660)\" d=\"M 0 0 M117.959 410.131 L136.316 410.131 L136.316 414.066 L122.242 414.066 L122.242 422.538 Q123.26 422.191 124.279 422.029 Q125.297 421.844 126.316 421.844 Q132.103 421.844 135.482 425.015 Q138.862 428.187 138.862 433.603 Q138.862 439.182 135.39 442.284 Q131.918 445.362 125.598 445.362 Q123.422 445.362 121.154 444.992 Q118.908 444.622 116.501 443.881 L116.501 439.182 Q118.584 440.316 120.807 440.872 Q123.029 441.427 125.506 441.427 Q129.51 441.427 131.848 439.321 Q134.186 437.214 134.186 433.603 Q134.186 429.992 131.848 427.886 Q129.51 425.779 125.506 425.779 Q123.631 425.779 121.756 426.196 Q119.904 426.613 117.959 427.492 L117.959 410.131 Z\" fill=\"#000000\" fill-rule=\"evenodd\" fill-opacity=\"1\" /><path clip-path=\"url(#clip660)\" d=\"M 0 0 M54.9736 101.321 L62.6124 101.321 L62.6124 74.9555 L54.3023 76.6222 L54.3023 72.3629 L62.5661 70.6963 L67.242 70.6963 L67.242 101.321 L74.8809 101.321 L74.8809 105.256 L54.9736 105.256 L54.9736 101.321 Z\" fill=\"#000000\" fill-rule=\"evenodd\" fill-opacity=\"1\" /><path clip-path=\"url(#clip660)\" d=\"M 0 0 M79.9503 99.3767 L84.8345 99.3767 L84.8345 105.256 L79.9503 105.256 L79.9503 99.3767 Z\" fill=\"#000000\" fill-rule=\"evenodd\" fill-opacity=\"1\" /><path clip-path=\"url(#clip660)\" d=\"M 0 0 M99.9039 73.775 Q96.2928 73.775 94.4641 77.3398 Q92.6586 80.8814 92.6586 88.011 Q92.6586 95.1174 94.4641 98.6822 Q96.2928 102.224 99.9039 102.224 Q103.538 102.224 105.344 98.6822 Q107.172 95.1174 107.172 88.011 Q107.172 80.8814 105.344 77.3398 Q103.538 73.775 99.9039 73.775 M99.9039 70.0713 Q105.714 70.0713 108.77 74.6777 Q111.848 79.261 111.848 88.011 Q111.848 96.7378 108.77 101.344 Q105.714 105.928 99.9039 105.928 Q94.0937 105.928 91.0151 101.344 Q87.9595 96.7378 87.9595 88.011 Q87.9595 79.261 91.0151 74.6777 Q94.0937 70.0713 99.9039 70.0713 Z\" fill=\"#000000\" fill-rule=\"evenodd\" fill-opacity=\"1\" /><path clip-path=\"url(#clip660)\" d=\"M 0 0 M126.918 73.775 Q123.307 73.775 121.478 77.3398 Q119.672 80.8814 119.672 88.011 Q119.672 95.1174 121.478 98.6822 Q123.307 102.224 126.918 102.224 Q130.552 102.224 132.357 98.6822 Q134.186 95.1174 134.186 88.011 Q134.186 80.8814 132.357 77.3398 Q130.552 73.775 126.918 73.775 M126.918 70.0713 Q132.728 70.0713 135.783 74.6777 Q138.862 79.261 138.862 88.011 Q138.862 96.7378 135.783 101.344 Q132.728 105.928 126.918 105.928 Q121.107 105.928 118.029 101.344 Q114.973 96.7378 114.973 88.011 Q114.973 79.261 118.029 74.6777 Q121.107 70.0713 126.918 70.0713 Z\" fill=\"#000000\" fill-rule=\"evenodd\" fill-opacity=\"1\" /><polyline clip-path=\"url(#clip662)\" style=\"stroke:#009af9; stroke-width:4; stroke-opacity:1; fill:none\" points=\"\n",
       "  236.501,766.846 256.566,770.161 442.096,800.812 553.591,819.231 647.86,834.805 750.262,851.722 844.667,867.319 945.879,884.04 1063.14,903.412 1167.36,920.629 \n",
       "  1258.74,935.726 1358.37,952.186 1458.6,968.743 1569.41,987.05 1674.84,1004.47 1784.47,1022.58 1876.75,1037.83 1989.42,1056.44 2095.33,1073.94 2265,1101.97 \n",
       "  2291.12,1106.28 \n",
       "  \"/>\n",
       "<polyline clip-path=\"url(#clip662)\" style=\"stroke:#e26f46; stroke-width:4; stroke-opacity:1; fill:none\" points=\"\n",
       "  236.501,1445.72 256.566,1432.46 442.096,1309.85 553.591,1236.17 647.86,1173.88 750.262,1106.21 844.667,1043.82 945.879,976.941 1063.14,899.45 1167.36,830.585 \n",
       "  1258.74,770.196 1358.37,704.357 1458.6,638.126 1569.41,564.899 1674.84,495.226 1784.47,422.781 1876.75,361.799 1989.42,287.346 2095.33,217.358 2265,105.232 \n",
       "  2291.12,87.9763 \n",
       "  \"/>\n",
       "<circle clip-path=\"url(#clip662)\" cx=\"236.501\" cy=\"766.846\" r=\"14\" fill=\"#3da44d\" fill-rule=\"evenodd\" fill-opacity=\"0.5\" stroke=\"#000000\" stroke-opacity=\"0.5\" stroke-width=\"3.2\"/>\n",
       "<circle clip-path=\"url(#clip662)\" cx=\"1263.81\" cy=\"936.563\" r=\"14\" fill=\"#3da44d\" fill-rule=\"evenodd\" fill-opacity=\"0.5\" stroke=\"#000000\" stroke-opacity=\"0.5\" stroke-width=\"3.2\"/>\n",
       "<circle clip-path=\"url(#clip662)\" cx=\"1006.98\" cy=\"894.134\" r=\"14\" fill=\"#3da44d\" fill-rule=\"evenodd\" fill-opacity=\"0.5\" stroke=\"#000000\" stroke-opacity=\"0.5\" stroke-width=\"3.2\"/>\n",
       "<circle clip-path=\"url(#clip662)\" cx=\"1071.19\" cy=\"904.741\" r=\"14\" fill=\"#3da44d\" fill-rule=\"evenodd\" fill-opacity=\"0.5\" stroke=\"#000000\" stroke-opacity=\"0.5\" stroke-width=\"3.2\"/>\n",
       "<circle clip-path=\"url(#clip662)\" cx=\"1055.14\" cy=\"902.09\" r=\"14\" fill=\"#3da44d\" fill-rule=\"evenodd\" fill-opacity=\"0.5\" stroke=\"#000000\" stroke-opacity=\"0.5\" stroke-width=\"3.2\"/>\n",
       "<circle clip-path=\"url(#clip662)\" cx=\"1059.15\" cy=\"902.753\" r=\"14\" fill=\"#3da44d\" fill-rule=\"evenodd\" fill-opacity=\"0.5\" stroke=\"#000000\" stroke-opacity=\"0.5\" stroke-width=\"3.2\"/>\n",
       "<circle clip-path=\"url(#clip662)\" cx=\"1058.15\" cy=\"902.587\" r=\"14\" fill=\"#3da44d\" fill-rule=\"evenodd\" fill-opacity=\"0.5\" stroke=\"#000000\" stroke-opacity=\"0.5\" stroke-width=\"3.2\"/>\n",
       "<path clip-path=\"url(#clip660)\" d=\"\n",
       "M1986.57 337.138 L2280.16 337.138 L2280.16 95.2176 L1986.57 95.2176  Z\n",
       "  \" fill=\"#ffffff\" fill-rule=\"evenodd\" fill-opacity=\"1\"/>\n",
       "<polyline clip-path=\"url(#clip660)\" style=\"stroke:#000000; stroke-width:4; stroke-opacity:1; fill:none\" points=\"\n",
       "  1986.57,337.138 2280.16,337.138 2280.16,95.2176 1986.57,95.2176 1986.57,337.138 \n",
       "  \"/>\n",
       "<polyline clip-path=\"url(#clip660)\" style=\"stroke:#009af9; stroke-width:4; stroke-opacity:1; fill:none\" points=\"\n",
       "  2010.77,155.698 2155.97,155.698 \n",
       "  \"/>\n",
       "<path clip-path=\"url(#clip660)\" d=\"M 0 0 M2194.01 175.385 Q2192.2 180.015 2190.49 181.427 Q2188.78 182.839 2185.91 182.839 L2182.5 182.839 L2182.5 179.274 L2185 179.274 Q2186.76 179.274 2187.73 178.44 Q2188.71 177.607 2189.89 174.505 L2190.65 172.561 L2180.16 147.052 L2184.68 147.052 L2192.78 167.329 L2200.88 147.052 L2205.4 147.052 L2194.01 175.385 Z\" fill=\"#000000\" fill-rule=\"evenodd\" fill-opacity=\"1\" /><path clip-path=\"url(#clip660)\" d=\"M 0 0 M2211.28 169.042 L2218.91 169.042 L2218.91 142.677 L2210.6 144.343 L2210.6 140.084 L2218.87 138.418 L2223.54 138.418 L2223.54 169.042 L2231.18 169.042 L2231.18 172.978 L2211.28 172.978 L2211.28 169.042 Z\" fill=\"#000000\" fill-rule=\"evenodd\" fill-opacity=\"1\" /><polyline clip-path=\"url(#clip660)\" style=\"stroke:#e26f46; stroke-width:4; stroke-opacity:1; fill:none\" points=\"\n",
       "  2010.77,216.178 2155.97,216.178 \n",
       "  \"/>\n",
       "<path clip-path=\"url(#clip660)\" d=\"M 0 0 M2194.01 235.865 Q2192.2 240.495 2190.49 241.907 Q2188.78 243.319 2185.91 243.319 L2182.5 243.319 L2182.5 239.754 L2185 239.754 Q2186.76 239.754 2187.73 238.92 Q2188.71 238.087 2189.89 234.985 L2190.65 233.041 L2180.16 207.532 L2184.68 207.532 L2192.78 227.809 L2200.88 207.532 L2205.4 207.532 L2194.01 235.865 Z\" fill=\"#000000\" fill-rule=\"evenodd\" fill-opacity=\"1\" /><path clip-path=\"url(#clip660)\" d=\"M 0 0 M2214.49 229.522 L2230.81 229.522 L2230.81 233.458 L2208.87 233.458 L2208.87 229.522 Q2211.53 226.768 2216.11 222.138 Q2220.72 217.485 2221.9 216.143 Q2224.15 213.62 2225.03 211.884 Q2225.93 210.124 2225.93 208.435 Q2225.93 205.68 2223.98 203.944 Q2222.06 202.208 2218.96 202.208 Q2216.76 202.208 2214.31 202.972 Q2211.88 203.735 2209.1 205.286 L2209.1 200.564 Q2211.92 199.43 2214.38 198.851 Q2216.83 198.273 2218.87 198.273 Q2224.24 198.273 2227.43 200.958 Q2230.63 203.643 2230.63 208.134 Q2230.63 210.263 2229.82 212.185 Q2229.03 214.083 2226.92 216.675 Q2226.35 217.347 2223.24 220.564 Q2220.14 223.759 2214.49 229.522 Z\" fill=\"#000000\" fill-rule=\"evenodd\" fill-opacity=\"1\" /><circle clip-path=\"url(#clip660)\" cx=\"2083.37\" cy=\"276.658\" r=\"23\" fill=\"#3da44d\" fill-rule=\"evenodd\" fill-opacity=\"0.5\" stroke=\"#000000\" stroke-opacity=\"0.5\" stroke-width=\"5.12\"/>\n",
       "<path clip-path=\"url(#clip660)\" d=\"M 0 0 M2194.01 296.345 Q2192.2 300.975 2190.49 302.387 Q2188.78 303.799 2185.91 303.799 L2182.5 303.799 L2182.5 300.234 L2185 300.234 Q2186.76 300.234 2187.73 299.4 Q2188.71 298.567 2189.89 295.465 L2190.65 293.521 L2180.16 268.012 L2184.68 268.012 L2192.78 288.289 L2200.88 268.012 L2205.4 268.012 L2194.01 296.345 Z\" fill=\"#000000\" fill-rule=\"evenodd\" fill-opacity=\"1\" /><path clip-path=\"url(#clip660)\" d=\"M 0 0 M2224.63 275.303 Q2227.99 276.021 2229.86 278.289 Q2231.76 280.558 2231.76 283.891 Q2231.76 289.007 2228.24 291.808 Q2224.72 294.609 2218.24 294.609 Q2216.07 294.609 2213.75 294.169 Q2211.46 293.752 2209.01 292.896 L2209.01 288.382 Q2210.95 289.516 2213.27 290.095 Q2215.58 290.674 2218.1 290.674 Q2222.5 290.674 2224.79 288.938 Q2227.11 287.201 2227.11 283.891 Q2227.11 280.836 2224.96 279.123 Q2222.83 277.387 2219.01 277.387 L2214.98 277.387 L2214.98 273.544 L2219.19 273.544 Q2222.64 273.544 2224.47 272.178 Q2226.3 270.79 2226.3 268.197 Q2226.3 265.535 2224.4 264.123 Q2222.53 262.688 2219.01 262.688 Q2217.09 262.688 2214.89 263.104 Q2212.69 263.521 2210.05 264.401 L2210.05 260.234 Q2212.71 259.493 2215.03 259.123 Q2217.36 258.753 2219.42 258.753 Q2224.75 258.753 2227.85 261.183 Q2230.95 263.59 2230.95 267.711 Q2230.95 270.581 2229.31 272.572 Q2227.66 274.54 2224.63 275.303 Z\" fill=\"#000000\" fill-rule=\"evenodd\" fill-opacity=\"1\" /></svg>\n"
      ]
     },
     "execution_count": 266,
     "metadata": {},
     "output_type": "execute_result"
    }
   ],
   "source": [
    "f(x) = 1-x/2\n",
    "g(x) = 2x - 2\n",
    "\n",
    "G = plot([f,g], 1, 1.5)\n",
    "\n",
    "scatter!(G, array_x, array_y, alpha=0.5) # Faz o Plot com os pontos das iterações"
   ]
  },
  {
   "cell_type": "markdown",
   "id": "fa1663d6",
   "metadata": {},
   "source": [
    "## Questão 3."
   ]
  },
  {
   "cell_type": "markdown",
   "id": "506735c5",
   "metadata": {},
   "source": [
    "**(A)** Podemos modelar o problema levando em consideração as quatro direções e suas respectivas temperaturas, montando o seguinte sistema"
   ]
  },
  {
   "cell_type": "markdown",
   "id": "d4f1a962",
   "metadata": {},
   "source": [
    "\\begin{align*}\n",
    "x_1 &= \\frac{1}{4} (5 + 15 + x_2 + x_3) &\\implies 4x_1 - x_2 - x_3 &= 20\\\\\n",
    "x_2 &= \\frac{1}{4} (x_1 + 15 + 35 + x_4) &\\implies 4x_2 - x_1 - x_4 &= 50\\\\\n",
    "x_3 &= \\frac{1}{4} (5 + x_1 + x_4 + 10) &\\implies 4x_3 - x_1 - x_4 &= 15\\\\\n",
    "x_4 &= \\frac{1}{4} (x_3 + x_2 + 35 + 10) &\\implies 4x_4 - x_2 - x_3 &= 45\n",
    "\\end{align*}"
   ]
  },
  {
   "cell_type": "markdown",
   "id": "8cdcdb45",
   "metadata": {},
   "source": [
    "Assim chegando no seguinte sistema linear"
   ]
  },
  {
   "cell_type": "markdown",
   "id": "c9c3d1ec",
   "metadata": {},
   "source": [
    "$$\n",
    "  \\begin{bmatrix}\n",
    "        4 & -1 & -1 & 0\\\\\n",
    "        -1 & 4 & 0 & -1\\\\\n",
    "        -1 & 0 & 4 & -1\\\\\n",
    "        0 & -1 & -1 & 4\\\\\n",
    "   \\end{bmatrix} \n",
    "   \\begin{bmatrix}\n",
    "      x_1\\\\\n",
    "      x_2\\\\\n",
    "      x_3\\\\\n",
    "      x_4\n",
    "   \\end{bmatrix}\n",
    "   = \\begin{bmatrix}\n",
    "       20\\\\\n",
    "       50\\\\\n",
    "       15\\\\\n",
    "       45\n",
    "   \\end{bmatrix}\n",
    "    $$\n"
   ]
  },
  {
   "cell_type": "markdown",
   "id": "89a9a82c",
   "metadata": {},
   "source": [
    "**(B)** Vendo linha a linha temos:"
   ]
  },
  {
   "cell_type": "markdown",
   "id": "b1df3c6b",
   "metadata": {},
   "source": [
    "\\begin{align*}\n",
    "|A_{11}| = 4 \\geq \\sum_{i\\ne j} |A_{ij}| = 2\\\\\n",
    "|A_{22}| = 4 \\geq \\sum_{i\\ne j} |A_{ij}| = 2\\\\\n",
    "|A_{33}| = 4 \\geq \\sum_{i\\ne j} |A_{ij}| = 2\\\\\n",
    "|A_{44}| = 4 \\geq \\sum_{i\\ne j} |A_{ij}| = 2\\\\\n",
    "\\end{align*}"
   ]
  },
  {
   "cell_type": "markdown",
   "id": "1b9343e3",
   "metadata": {},
   "source": [
    "Como a desigualdade é satisfeita para todas as linhas, temos que ela é\n",
    "diagonal dominante, consequentemente, temos que ambos os métodos de Gauss-Jacobi\n",
    "e Gauss-Seidel convergem."
   ]
  },
  {
   "cell_type": "markdown",
   "id": "23919ed8",
   "metadata": {},
   "source": [
    "**(C)** Montando o sistema em Julia temos, podemos aproximar a temperatura nos quatro vértices"
   ]
  },
  {
   "cell_type": "code",
   "execution_count": 4,
   "id": "5b4b6133",
   "metadata": {},
   "outputs": [
    {
     "data": {
      "text/plain": [
       "4×1 Matrix{Float64}:\n",
       " 13.124534606933594\n",
       " 20.624534606933594\n",
       " 11.874534606933594\n",
       " 19.374534606933594"
      ]
     },
     "metadata": {},
     "output_type": "display_data"
    },
    {
     "data": {
      "text/plain": [
       "4-element Vector{Float64}:\n",
       " 13.124849319458008\n",
       " 20.624698638916016\n",
       " 11.874698638916016\n",
       " 19.37439727783203"
      ]
     },
     "metadata": {},
     "output_type": "display_data"
    }
   ],
   "source": [
    "A = [4 -1 -1 0; -1 4 0 -1; -1 0 4 -1; 0 -1 -1 4] * 1.0\n",
    "b = [20; 50;  15; 45] * 1.0\n",
    "\n",
    "function gauss_seidel(A, b, EPS)\n",
    "    U = UpperTriangular(A)\n",
    "    L = U - A\n",
    "    \n",
    "    Uinv = inv(U)\n",
    "    \n",
    "    T = Uinv * L\n",
    "    C = Uinv * b\n",
    "\n",
    "    basis = ones(length(b))\n",
    "\n",
    "    error = 1.0\n",
    "\n",
    "    iter = 1\n",
    "\n",
    "    while true\n",
    "        basis = T * basis + C\n",
    "        error = norm(T * basis + C - basis)\n",
    "        if (error < EPS)\n",
    "            break\n",
    "        end\n",
    "        iter += 1\n",
    "    end\n",
    "\n",
    "    return basis\n",
    "end\n",
    "\n",
    "function jacobi(A, b, EPS) \n",
    "    D = Diagonal(A)\n",
    "    K = D - A\n",
    "    iD = inv(D)\n",
    "\n",
    "    T = iD * K\n",
    "    C = iD * b\n",
    "\n",
    "    basis = ones(size(A)[1], 1)\n",
    "    iter = 1\n",
    "    error = 1.0\n",
    "\n",
    "    while true\n",
    "        error = norm(T * basis + C - basis)\n",
    "        basis = T * basis + C\n",
    "        if error < 10^(-3)\n",
    "            break\n",
    "        end\n",
    "\n",
    "        iter += 1\n",
    "    end\n",
    "    \n",
    "    return basis\n",
    "end\n",
    "\n",
    "display(jacobi(A, b, 10^(-3)))\n",
    "display(gauss_seidel(A, b, 10^(-3)))"
   ]
  },
  {
   "cell_type": "markdown",
   "id": "e8d61029",
   "metadata": {},
   "source": [
    "**(D)** Para este item vamos generalizar o método acima para que seja viável construir\n",
    "sistemas maiores de mesmo formato (temperatura somente nos quatro lados do grid), podemos alterar o tamanho do grid e "
   ]
  },
  {
   "cell_type": "code",
   "execution_count": 5,
   "id": "90dd3665",
   "metadata": {},
   "outputs": [
    {
     "data": {
      "text/plain": [
       "25×1 Matrix{Float64}:\n",
       " 1.8814487552\n",
       " 0.9136544768\n",
       " 0.8744296448000001\n",
       " 0.9049166848000001\n",
       " 1.6724022272\n",
       " 1.1223789568\n",
       " 0.08519946240000001\n",
       " 0.0417562624\n",
       " 0.0757750784\n",
       " 0.9049310208000001\n",
       " 1.0925677568\n",
       " 0.0516097024\n",
       " 0.0078792704\n",
       " 0.042146918400000004\n",
       " 0.8747952128\n",
       " 1.1398545408\n",
       " 0.1040482304\n",
       " 0.0606818304\n",
       " 0.0946238464\n",
       " 0.9224066048\n",
       " 2.2995418112\n",
       " 1.3485503488\n",
       " 1.3099747328\n",
       " 1.3398125567999999\n",
       " 2.0904952832"
      ]
     },
     "execution_count": 5,
     "metadata": {},
     "output_type": "execute_result"
    }
   ],
   "source": [
    "# dimensão do grid (Testado com matrizes quadradas)\n",
    "function constroi_sistema(dim) # dim = tamanho do grid (dim * dim)\n",
    "    # quantidade de variaveis no sistema\n",
    "    num_var = dim * dim\n",
    "\n",
    "    A = zeros((num_var, num_var))\n",
    "    b = zeros(num_var)\n",
    "\n",
    "    # arrays direção para facilitar na iteração -> [esq, cima, direita, baixo]\n",
    "    dx = [-1 0 1 0]\n",
    "    dy = [0 1 0 -1]\n",
    "\n",
    "    # temperatura em cada lado do grid -> [esq, cima, dir, baixo]\n",
    "    temperature = [25 20 20 30]\n",
    "\n",
    "    for i in 1 : dim\n",
    "        # temperatura de cima\n",
    "        b[i] += temperature[2]\n",
    "\n",
    "        # temperatura da dir\n",
    "        b[i * dim] += temperature[3]\n",
    "\n",
    "        # temperatura da esq\n",
    "        b[(i - 1) * dim + 1] += temperature[1]\n",
    "\n",
    "        # temperatura de baixo\n",
    "        b[(dim - 1) * dim + i] += temperature[4]\n",
    "    end\n",
    "\n",
    "    # checa se o vértice está dentro do grid\n",
    "    function check(i, j, id)\n",
    "        return (i >= 1 && j >= 1 && i <= dim && j <= dim && id >= 1 && id <= num_var)\n",
    "    end\n",
    "\n",
    "    # constroi a nossa matriz do sistema levando em consideração\n",
    "    # as direções possíveis\n",
    "    for i in 1 : dim\n",
    "        for j in 1 : dim\n",
    "            new_var = (i - 1) * dim + j\n",
    "            A[new_var, new_var] = num_var\n",
    "\n",
    "            for k in 1 : 4\n",
    "                new_i = i + dx[k]\n",
    "                new_j = j + dy[k]\n",
    "\n",
    "                loc = (new_i - 1) * dim + new_j\n",
    "\n",
    "                if check(new_i, new_j, loc)\n",
    "                    A[new_var, loc] = -1\n",
    "                end\n",
    "            end\n",
    "        end\n",
    "    end\n",
    "    \n",
    "    return A, b\n",
    "end\n",
    "\n",
    "A, b = constroi_sistema(5)\n",
    "\n",
    "temperatura_estimada_gs = gauss_seidel(A, b, 10^(-3))\n",
    "temperatura_estimada_jacobi = jacobi(A, b, 10^(-3))"
   ]
  },
  {
   "cell_type": "markdown",
   "id": "803e3a81",
   "metadata": {},
   "source": [
    "Temos então que a temperatura nos vértices do interior do grid são aproximadamente"
   ]
  },
  {
   "cell_type": "code",
   "execution_count": 269,
   "id": "ff8f0eb3",
   "metadata": {},
   "outputs": [
    {
     "data": {
      "text/plain": [
       "25-element Array{Float64,1}:\n",
       " 1.8814400535262978\n",
       " 0.9136378565452907\n",
       " 0.8743911277977362\n",
       " 0.9048503160706224\n",
       " 1.6724112917214005\n",
       " 1.122363481612154\n",
       " 0.08513731962737954\n",
       " 0.04156518274377449\n",
       " 0.07579847651858843\n",
       " 0.9050429008052224\n",
       " 1.092531754469316\n",
       " 0.05141865276188393\n",
       " 0.007892951215112194\n",
       " 0.0424006110806016\n",
       " 0.87510445146112\n",
       " 1.1397887499211952\n",
       " 0.10404115395090843\n",
       " 0.060904545032601606\n",
       " 0.09505903083520001\n",
       " 0.92283932672\n",
       " 2.2995353875329845\n",
       " 1.3486157621428223\n",
       " 1.31022976090112\n",
       " 1.34019919872\n",
       " 2.090856448"
      ]
     },
     "metadata": {},
     "output_type": "display_data"
    }
   ],
   "source": [
    "display(temperatura_estimada_gs)"
   ]
  },
  {
   "cell_type": "markdown",
   "id": "81e4c0b9",
   "metadata": {},
   "source": [
    "**(E)**"
   ]
  },
  {
   "cell_type": "code",
   "execution_count": 270,
   "id": "0c179106",
   "metadata": {},
   "outputs": [
    {
     "data": {
      "text/plain": [
       "10816×1 Array{Float64,2}:\n",
       " 0.004160887741383967\n",
       " 0.0018496681752099963\n",
       " 0.0018494544733719243\n",
       " 0.0018494544544043758\n",
       " 0.0018494544544043758\n",
       " 0.0018494544544043758\n",
       " 0.0018494544544043758\n",
       " 0.0018494544544043758\n",
       " 0.0018494544544043758\n",
       " 0.0018494544544043758\n",
       " 0.0018494544544043758\n",
       " 0.0018494544544043758\n",
       " 0.0018494544544043758\n",
       " ⋮\n",
       " 0.0027741816677760594\n",
       " 0.0027741816677760594\n",
       " 0.0027741816677760594\n",
       " 0.0027741816677760594\n",
       " 0.0027741816677760594\n",
       " 0.0027741816677760594\n",
       " 0.0027741816677760594\n",
       " 0.0027741816677760594\n",
       " 0.0027741816677760594\n",
       " 0.0027741816827920353\n",
       " 0.002774352632565838\n",
       " 0.004623208599957113"
      ]
     },
     "metadata": {},
     "output_type": "display_data"
    },
    {
     "name": "stdout",
     "output_type": "stream",
     "text": [
      " 15.633514 seconds (1.38 k allocations: 1.745 GiB, 37.26% gc time)\n"
     ]
    }
   ],
   "source": [
    "A, b = constroi_sistema(104)\n",
    "\n",
    "@time display(jacobi(A, b, 10^(-3)))"
   ]
  },
  {
   "cell_type": "code",
   "execution_count": 271,
   "id": "c3f9b3a4",
   "metadata": {},
   "outputs": [
    {
     "data": {
      "text/plain": [
       "3600-element Array{Float64,1}:\n",
       " 0.012503475117408616\n",
       " 0.005560573882602405\n",
       " 0.005558721001515141\n",
       " 0.005558721001515141\n",
       " 0.005558721001515141\n",
       " 0.005558721001515141\n",
       " 0.005558721001515141\n",
       " 0.005558721001515141\n",
       " 0.005558721001515141\n",
       " 0.005558721001515141\n",
       " 0.005558721001515141\n",
       " 0.005558721001515141\n",
       " 0.005558721001515141\n",
       " ⋮\n",
       " 0.008338274392647484\n",
       " 0.008338274392647484\n",
       " 0.008338274392647484\n",
       " 0.008338274392647484\n",
       " 0.008338274392647484\n",
       " 0.008338274392647484\n",
       " 0.008338274392647484\n",
       " 0.008338274392647517\n",
       " 0.00833827439276664\n",
       " 0.008338274821495687\n",
       " 0.008339817817048657\n",
       " 0.013893057784636488"
      ]
     },
     "metadata": {},
     "output_type": "display_data"
    },
    {
     "name": "stdout",
     "output_type": "stream",
     "text": [
      "  3.105709 seconds (1.36 k allocations: 297.051 MiB)\n"
     ]
    }
   ],
   "source": [
    "A, b = constroi_sistema(60)\n",
    "\n",
    "@time display(gauss_seidel(A, b, 10^(-3)))"
   ]
  },
  {
   "cell_type": "markdown",
   "id": "4a1c5c92",
   "metadata": {},
   "source": [
    "Vamos construir a matriz A no formato CSR (Compressed storage row)\n",
    "para se aproveitar do fato que ela é esparsa e ver se isso implicará em melhoras significativas no runtime dos nossos métodos\n",
    "\n",
    "**referencia**: https://www.wikiwand.com/en/Sparse_matrix#/Compressed_sparse_row_(CSR,_CRS_or_Yale_format)"
   ]
  },
  {
   "cell_type": "code",
   "execution_count": 3,
   "id": "87145e5a",
   "metadata": {},
   "outputs": [
    {
     "ename": "LoadError",
     "evalue": "UndefVarError: A not defined",
     "output_type": "error",
     "traceback": [
      "UndefVarError: A not defined",
      "",
      "Stacktrace:",
      " [1] top-level scope",
      "   @ In[3]:33",
      " [2] eval",
      "   @ ./boot.jl:360 [inlined]",
      " [3] include_string(mapexpr::typeof(REPL.softscope), mod::Module, code::String, filename::String)",
      "   @ Base ./loading.jl:1094"
     ]
    }
   ],
   "source": [
    "# Parametro é a matriz que queremos comprimir em CSR\n",
    "function constroi_csr(A)\n",
    "    row, col = size(A)\n",
    "    val = zeros(0) # valor de células não nulas em A\n",
    "    row_ptr = zeros(0) #row_ptr[i] = posição de val onde começa a i-esima linha de A\n",
    "    col_idx = zeros(0) #col_idx[i] = em qual coluna de A o val[i] aparece\n",
    "\n",
    "    for i in 1 : row\n",
    "        flag = false # flag para avisar se estamos procurando\n",
    "                    # pelo primeiro valor de uma linha\n",
    "        for j in 1 : col\n",
    "            if !flag && A[i, j] != 0.0 # achamos uma célula não nula\n",
    "                append!(val, A[i, j]) # e ela é a primeira de uma linha\n",
    "                append!(col_idx, j)\n",
    "                append!(row_ptr, length(val))\n",
    "                flag = true \n",
    "            elseif flag && A[i, j] != 0.0 # achamos uma célula não nula\n",
    "                append!(val, A[i, j]) # e ela não é a primeira de sua linha\n",
    "                append!(col_idx, j)\n",
    "            end\n",
    "        end\n",
    "    end\n",
    "\n",
    "    # SPG vamos botar o tamanho de val na ultima posição de row_itr\n",
    "    # para o algoritmo funcionar\n",
    "    append!(row_ptr, length(val) + 1)\n",
    "\n",
    "    # retornamos todos elementos necessários para executar\n",
    "    # multiplicação de matriz por vetor\n",
    "    return val, col_idx, row_ptr, row, col\n",
    "end\n",
    "\n",
    "val, col_idx, row_ptr, row, col = constroi_csr(A)\n",
    "\n",
    "# multiplica uma matriz CSR(val, col_idx, row_ptr, row, col) por um vetor x\n",
    "function multiply(val, col_idx, row_ptr, x, row, col) \n",
    "    b = zeros(length(row_ptr) - 1)\n",
    "    for i in 1 : row\n",
    "        for j in Int64(row_ptr[i]) : (Int64(row_ptr[i + 1]) - 1)\n",
    "            b[i] += val[j] * x[Int64(col_idx[j])]\n",
    "        end\n",
    "    end\n",
    "    return b\n",
    "end\n",
    "\n",
    "# função que checa se a matriz A é diagonal dominante\n",
    "function convergence_check(A) \n",
    "    n, m = size(A)\n",
    "    for i in 1 : n\n",
    "        S = 0.0\n",
    "        for j in 1 : m\n",
    "            if i != j \n",
    "                S += A[i, j]\n",
    "            end\n",
    "        end\n",
    "        if (abs(S) > abs(A[i, i])) \n",
    "            return false\n",
    "        end\n",
    "    end\n",
    "    return true\n",
    "end\n",
    "\n",
    "# vamos adaptar o método de gauss-seidel para usar o formato CSR\n",
    "function gauss_seidel(A, b, EPS)\n",
    "    U = UpperTriangular(A)\n",
    "    L = U - A\n",
    "    \n",
    "    Uinv = inv(U)\n",
    "    \n",
    "    T = Uinv * L\n",
    "    C = Uinv * b\n",
    "\n",
    "    basis = ones(length(b))\n",
    "\n",
    "    error = 1.0\n",
    "    \n",
    "    val, col_idx, row_ptr, row, col = constroi_csr(T)\n",
    "\n",
    "    iter = 1\n",
    "\n",
    "    while true\n",
    "        cur = multiply(val, col_idx, row_ptr, basis, row, col)\n",
    "        basis = cur + C\n",
    "        error = norm(cur + C - basis)\n",
    "        if (error < EPS)\n",
    "            break\n",
    "        end\n",
    "        iter += 1\n",
    "    end\n",
    "\n",
    "    return basis\n",
    "end\n",
    "\n",
    "# vamos adaptar o método de gauss-jacobi para usar o formato CSR\n",
    "function jacobi(A, b, EPS) \n",
    "    D = Diagonal(A)\n",
    "    K = D - A\n",
    "    iD = inv(D)\n",
    "\n",
    "    T = iD * K\n",
    "    C = iD * b\n",
    "\n",
    "    basis = ones(size(A)[1], 1)\n",
    "    iter = 1\n",
    "    error = 1.0\n",
    "    \n",
    "    val, col_idx, row_ptr, row, col = constroi_csr(T)\n",
    "\n",
    "    while true\n",
    "        cur = multiply(val, col_idx, row_ptr, basis, row, col)\n",
    "        error = norm(cur + C - basis)\n",
    "        basis = cur + C\n",
    "        if error < 10^(-3)\n",
    "            break\n",
    "        end\n",
    "\n",
    "        iter += 1\n",
    "    end\n",
    "    \n",
    "    return basis\n",
    "end\n"
   ]
  },
  {
   "cell_type": "markdown",
   "id": "d6e5b731",
   "metadata": {},
   "source": [
    "Vamos agora testar se melhorou a complexidade dos métodos"
   ]
  },
  {
   "cell_type": "code",
   "execution_count": 7,
   "id": "75cb402f",
   "metadata": {},
   "outputs": [
    {
     "name": "stdout",
     "output_type": "stream",
     "text": [
      " 26.264683 seconds (41.59 k allocations: 1.721 GiB, 0.81% gc time, 0.19% compilation time)\n"
     ]
    },
    {
     "data": {
      "text/plain": [
       "8100-element Vector{Float64}:\n",
       " 0.0055562720057490585\n",
       " 0.0025929431997236225\n",
       " 0.0025929431997236225\n",
       " 0.0025929431997236225\n",
       " 0.0025929431997236225\n",
       " 0.0025929431997236225\n",
       " 0.0025929431997236225\n",
       " 0.0025929431997236225\n",
       " 0.0025929431997236225\n",
       " 0.0025929431997236225\n",
       " 0.0025929431997236225\n",
       " 0.0025929431997236225\n",
       " 0.0025929431997236225\n",
       " ⋮\n",
       " 0.003951105074700581\n",
       " 0.003951105074700581\n",
       " 0.003951105074700581\n",
       " 0.003951105074700581\n",
       " 0.003951105074700581\n",
       " 0.003951105074700581\n",
       " 0.003951105074700581\n",
       " 0.003951105074700581\n",
       " 0.003951105074705225\n",
       " 0.003951105112326674\n",
       " 0.003951409846060052\n",
       " 0.0064197530864197536"
      ]
     },
     "execution_count": 7,
     "metadata": {},
     "output_type": "execute_result"
    }
   ],
   "source": [
    "A, b = constroi_sistema(90)\n",
    "\n",
    "@assert(convergence_check(A))\n",
    "\n",
    "@time gauss_seidel(A, b, 10^(-3))"
   ]
  },
  {
   "cell_type": "code",
   "execution_count": null,
   "id": "1b2e6675",
   "metadata": {},
   "outputs": [],
   "source": [
    "A, b = constroi_sistema(100)\n",
    "\n",
    "@assert(convergence_check(A))\n",
    "\n",
    "@time jacobi(A, b, 10^(-3))"
   ]
  },
  {
   "cell_type": "markdown",
   "id": "8ad2806c",
   "metadata": {},
   "source": [
    "## Questão 4."
   ]
  },
  {
   "cell_type": "markdown",
   "id": "962ae9ec",
   "metadata": {},
   "source": [
    "(a) Faça a modelagem sem o cano pontilhado x9 e resolva o sistema linear com o método de Gauss-Jacobi e Gauss-Seidel com tolerância de $10^{-3}$. Os métodos convergem?\n",
    "\n",
    "### Resposta:"
   ]
  },
  {
   "cell_type": "markdown",
   "id": "558fc061",
   "metadata": {},
   "source": [
    "Modelando o problema da distribuição de água temos as equações:\n",
    "\n",
    "$$x_8 = x_6 + x_7 + 500$$\n",
    "$$x_7 = x_5 + 3000$$\n",
    "$$x_6 = x_4 + x_2$$\n",
    "$$x_5 = x_3 + 3000$$\n",
    "$$x_4 = x_1 + 30000$$\n",
    "$$x_3 = 9000$$\n",
    "$$x_2 = 3500$$\n",
    "$$x_1 = 7000$$\n",
    "\n",
    "E portanto podemos montar o sistema linear\n",
    "\n",
    "$$\n",
    "\\begin{bmatrix} \n",
    "    0 & 0 & 0 & 0 & 0 & -1 & -1 & 1 \\\\\n",
    "    0 & 0 & 0 & 0 & -1 & 0 & 1 & 0 \\\\\n",
    "    0 & -1 & 0 & -1 & 0 & 1 & 0 & 0 \\\\\n",
    "    0 & 0 & -1 & 0 & 1 & 0 & 0 & 0 \\\\\n",
    "    -1 & 0 & 0 & 1 & 0 & 0 & 0 & 0 \\\\\n",
    "    0 & 0 & 1 & 0 & 0 & 0 & 0 & 0 \\\\\n",
    "    0 & 1 & 0 & 0 & 0 & 0 & 0 & 0 \\\\\n",
    "    1 & 0 & 0 & 0 & 0 & 0 & 0 & 0 \\\\\n",
    "\\end{bmatrix}\n",
    "\\begin{bmatrix} \n",
    "    x_1 \\\\\n",
    "    x_2 \\\\\n",
    "    x_3 \\\\\n",
    "    x_4 \\\\\n",
    "    x_5 \\\\\n",
    "    x_6 \\\\\n",
    "    x_7 \\\\\n",
    "    x_8 \\\\\n",
    "\\end{bmatrix}\n",
    "=\n",
    "\\begin{bmatrix} \n",
    "    500 \\\\\n",
    "    3000 \\\\\n",
    "    0 \\\\\n",
    "    3000 \\\\\n",
    "    30000 \\\\\n",
    "    9000 \\\\\n",
    "    3500 \\\\\n",
    "    7000 \\\\\n",
    "\\end{bmatrix}\n",
    "$$\n",
    "\n",
    "Obtemos uma matriz A com a diagonal toda zerada e os métodos de Gauss-Seidel e Gauss-Jacobi não funcionarão. No entanto, podemos fazer operações em cima da nossa matriz a fim de torná-la funcional para nossos métodos:"
   ]
  },
  {
   "cell_type": "code",
   "execution_count": 272,
   "id": "b8dfb4b0",
   "metadata": {},
   "outputs": [
    {
     "data": {
      "text/plain": [
       "8×8 Array{Float64,2}:\n",
       "  1.0   0.0   0.0   0.0   0.0   0.0   0.0  0.0\n",
       "  0.0   1.0   0.0   0.0   0.0   0.0   0.0  0.0\n",
       "  0.0   0.0   1.0   0.0   0.0   0.0   0.0  0.0\n",
       " -1.0   0.0   0.0   1.0   0.0   0.0   0.0  0.0\n",
       "  0.0   0.0  -1.0   0.0   1.0   0.0   0.0  0.0\n",
       "  0.0  -1.0   0.0  -1.0   0.0   1.0   0.0  0.0\n",
       "  0.0   0.0   0.0   0.0  -1.0   0.0   1.0  0.0\n",
       "  0.0   0.0   0.0   0.0   0.0  -1.0  -1.0  1.0"
      ]
     },
     "execution_count": 272,
     "metadata": {},
     "output_type": "execute_result"
    }
   ],
   "source": [
    "# Define a matriz A e o vetor B\n",
    "A = [0 0 0 0 0 -1 -1 1; 0 0 0 0 -1 0 1 0; 0 -1 0 -1 0 1 0 0; 0 0 -1 0 1 0 0 0; -1 0 0 1 0 0 0 0; 0 0 1 0 0 0 0 0; 0 1 0 0 0 0 0 0; 1 0 0 0 0 0 0 0]\n",
    "b = [500; 3000; 0; 3000; 30000; 9000; 3500; 7000]\n",
    "\n",
    "# Tamanho da Matriz Quadrada\n",
    "N = 8\n",
    "R = zeros(N,N)\n",
    "bzinho = zeros(N)\n",
    "for i in 1:N\n",
    "    R[i, :] .= A[(N+1)-i, :]\n",
    "    bzinho[i] = b[(N+1)-i]\n",
    "end\n",
    "\n",
    "R"
   ]
  },
  {
   "cell_type": "code",
   "execution_count": 273,
   "id": "f9950ff6",
   "metadata": {},
   "outputs": [
    {
     "data": {
      "text/plain": [
       "8-element Array{Float64,1}:\n",
       "  7000.0\n",
       "  3500.0\n",
       "  9000.0\n",
       " 30000.0\n",
       "  3000.0\n",
       "     0.0\n",
       "  3000.0\n",
       "   500.0"
      ]
     },
     "execution_count": 273,
     "metadata": {},
     "output_type": "execute_result"
    }
   ],
   "source": [
    "bzinho"
   ]
  },
  {
   "cell_type": "markdown",
   "id": "6335af9e",
   "metadata": {},
   "source": [
    "Aplicando então os dois métodos:"
   ]
  },
  {
   "cell_type": "code",
   "execution_count": 274,
   "id": "47625dac",
   "metadata": {},
   "outputs": [
    {
     "ename": "LoadError",
     "evalue": "\u001b[91mUndefVarError: NewA not defined\u001b[39m",
     "output_type": "error",
     "traceback": [
      "\u001b[91mUndefVarError: NewA not defined\u001b[39m",
      "",
      "Stacktrace:",
      " [1] top-level scope at .\\In[274]:2",
      " [2] include_string(::Function, ::Module, ::String, ::String) at .\\loading.jl:1091"
     ]
    }
   ],
   "source": [
    "for i in 1:5\n",
    "    x = gauss_jacobi(NewA,NewB, i)\n",
    "    print(norm(NewA*x - NewB), \"\\n\") # erro entre as iterações\n",
    "end\n",
    "print(\"\\n\", x)"
   ]
  },
  {
   "cell_type": "code",
   "execution_count": 275,
   "id": "7fd7bc0c",
   "metadata": {},
   "outputs": [
    {
     "ename": "LoadError",
     "evalue": "\u001b[91mUndefVarError: NewA not defined\u001b[39m",
     "output_type": "error",
     "traceback": [
      "\u001b[91mUndefVarError: NewA not defined\u001b[39m",
      "",
      "Stacktrace:",
      " [1] top-level scope at .\\In[275]:2",
      " [2] include_string(::Function, ::Module, ::String, ::String) at .\\loading.jl:1091"
     ]
    }
   ],
   "source": [
    "for i in 1:5\n",
    "    x = gauss_seidel(NewA,NewB, i)\n",
    "    print(norm(NewA*x - NewB), \"\\n\") # erro entre as iterações\n",
    "end\n",
    "print(\"\\n\", x)"
   ]
  },
  {
   "cell_type": "markdown",
   "id": "1f5de2f2",
   "metadata": {},
   "source": [
    "Os dois métodos convergem e encontram o mesmo vetor x como solução"
   ]
  },
  {
   "cell_type": "code",
   "execution_count": 276,
   "id": "729b50d9",
   "metadata": {},
   "outputs": [
    {
     "ename": "LoadError",
     "evalue": "\u001b[91mDimensionMismatch(\"A has dimensions (8,8) but B has dimensions (4,1)\")\u001b[39m",
     "output_type": "error",
     "traceback": [
      "\u001b[91mDimensionMismatch(\"A has dimensions (8,8) but B has dimensions (4,1)\")\u001b[39m",
      "",
      "Stacktrace:",
      " [1] gemm_wrapper!(::Array{Float64,2}, ::Char, ::Char, ::Array{Float64,2}, ::Array{Float64,2}, ::LinearAlgebra.MulAddMul{true,true,Bool,Bool}) at C:\\buildbot\\worker\\package_win64\\build\\usr\\share\\julia\\stdlib\\v1.5\\LinearAlgebra\\src\\matmul.jl:569",
      " [2] mul! at C:\\buildbot\\worker\\package_win64\\build\\usr\\share\\julia\\stdlib\\v1.5\\LinearAlgebra\\src\\matmul.jl:169 [inlined]",
      " [3] mul! at C:\\buildbot\\worker\\package_win64\\build\\usr\\share\\julia\\stdlib\\v1.5\\LinearAlgebra\\src\\matmul.jl:208 [inlined]",
      " [4] *(::Array{Float64,2}, ::Array{Float64,2}) at C:\\buildbot\\worker\\package_win64\\build\\usr\\share\\julia\\stdlib\\v1.5\\LinearAlgebra\\src\\matmul.jl:160",
      " [5] top-level scope at In[276]:1",
      " [6] include_string(::Function, ::Module, ::String, ::String) at .\\loading.jl:1091"
     ]
    }
   ],
   "source": [
    "norm(R*x - bzinho) # erro no sistema alterado"
   ]
  },
  {
   "cell_type": "code",
   "execution_count": 277,
   "id": "605b891d",
   "metadata": {},
   "outputs": [
    {
     "ename": "LoadError",
     "evalue": "\u001b[91mDimensionMismatch(\"matrix A has dimensions (8,8), matrix B has dimensions (4,1)\")\u001b[39m",
     "output_type": "error",
     "traceback": [
      "\u001b[91mDimensionMismatch(\"matrix A has dimensions (8,8), matrix B has dimensions (4,1)\")\u001b[39m",
      "",
      "Stacktrace:",
      " [1] _generic_matmatmul!(::Array{Float64,2}, ::Char, ::Char, ::Array{Int64,2}, ::Array{Float64,2}, ::LinearAlgebra.MulAddMul{true,true,Bool,Bool}) at C:\\buildbot\\worker\\package_win64\\build\\usr\\share\\julia\\stdlib\\v1.5\\LinearAlgebra\\src\\matmul.jl:740",
      " [2] generic_matmatmul!(::Array{Float64,2}, ::Char, ::Char, ::Array{Int64,2}, ::Array{Float64,2}, ::LinearAlgebra.MulAddMul{true,true,Bool,Bool}) at C:\\buildbot\\worker\\package_win64\\build\\usr\\share\\julia\\stdlib\\v1.5\\LinearAlgebra\\src\\matmul.jl:728",
      " [3] mul! at C:\\buildbot\\worker\\package_win64\\build\\usr\\share\\julia\\stdlib\\v1.5\\LinearAlgebra\\src\\matmul.jl:235 [inlined]",
      " [4] mul! at C:\\buildbot\\worker\\package_win64\\build\\usr\\share\\julia\\stdlib\\v1.5\\LinearAlgebra\\src\\matmul.jl:208 [inlined]",
      " [5] *(::Array{Int64,2}, ::Array{Float64,2}) at C:\\buildbot\\worker\\package_win64\\build\\usr\\share\\julia\\stdlib\\v1.5\\LinearAlgebra\\src\\matmul.jl:153",
      " [6] top-level scope at In[277]:1",
      " [7] include_string(::Function, ::Module, ::String, ::String) at .\\loading.jl:1091"
     ]
    }
   ],
   "source": [
    "norm(A*x - b) # erro no sistema original"
   ]
  },
  {
   "cell_type": "markdown",
   "id": "3c3eca8d",
   "metadata": {},
   "source": [
    "(b) (Desafio) Faça a modelagem com o cano pontilhado x9 e tente resolver o sistema linear com Julia e com o método de Gauss-Jacobi e Gauss-Seidel com tolerância de $10^{-3}$. O que aconteceu?\n",
    "\n",
    "### Resposta:"
   ]
  },
  {
   "cell_type": "markdown",
   "id": "88979407",
   "metadata": {},
   "source": [
    "A modelagem com o cano pontilhado $x_9$ possui esta variável a mais porém nenhuma equação adicional:\n",
    "\n",
    "$$\n",
    "\\begin{bmatrix} \n",
    "    0 & 0 & 0 & 0 & 0 & -1 & -1 & 1 & 0 \\\\\n",
    "    0 & 0 & 0 & 0 & -1 & 0 & 1 & 0 & 0 \\\\\n",
    "    0 & -1 & 0 & -1 & 0 & 1 & 0 & 0 & 0 \\\\\n",
    "    0 & 0 & -1 & 0 & 1 & 0 & 0 & 0 & 1 \\\\\n",
    "    -1 & 0 & 0 & 1 & 0 & 0 & 0 & 0 & -1 \\\\\n",
    "    0 & 0 & 1 & 0 & 0 & 0 & 0 & 0 & 0 \\\\\n",
    "    0 & 1 & 0 & 0 & 0 & 0 & 0 & 0 & 0 \\\\\n",
    "    1 & 0 & 0 & 0 & 0 & 0 & 0 & 0 & 0 \\\\\n",
    "\\end{bmatrix}\n",
    "\\begin{bmatrix} \n",
    "    x_1 \\\\\n",
    "    x_2 \\\\\n",
    "    x_3 \\\\\n",
    "    x_4 \\\\\n",
    "    x_5 \\\\\n",
    "    x_6 \\\\\n",
    "    x_7 \\\\\n",
    "    x_8 \\\\\n",
    "    x_9\\\\\n",
    "\\end{bmatrix}\n",
    "=\n",
    "\\begin{bmatrix} \n",
    "    500 \\\\\n",
    "    3000 \\\\\n",
    "    0 \\\\\n",
    "    3000 \\\\\n",
    "    30000 \\\\\n",
    "    9000 \\\\\n",
    "    3500 \\\\\n",
    "    7000 \\\\\n",
    "\\end{bmatrix}\n",
    "$$"
   ]
  },
  {
   "cell_type": "code",
   "execution_count": 278,
   "id": "a59e0d6b",
   "metadata": {},
   "outputs": [
    {
     "ename": "LoadError",
     "evalue": "\u001b[91mUndefVarError: NewA not defined\u001b[39m",
     "output_type": "error",
     "traceback": [
      "\u001b[91mUndefVarError: NewA not defined\u001b[39m",
      "",
      "Stacktrace:",
      " [1] top-level scope at In[278]:1",
      " [2] include_string(::Function, ::Module, ::String, ::String) at .\\loading.jl:1091"
     ]
    }
   ],
   "source": [
    "rank(NewA) # Vemos que o número de colunas L.I ainda é 8"
   ]
  },
  {
   "cell_type": "markdown",
   "id": "aab3aa80",
   "metadata": {},
   "source": [
    "Como o número de variáveis é 9 e o número de equações é apenas 8 sabemos que não é possível encontrar uma solução para o sistema proposto. Estamos no caso de infinitas soluções e portanto os métodos não convergem."
   ]
  },
  {
   "cell_type": "markdown",
   "id": "e0f1cee0",
   "metadata": {},
   "source": [
    "## Questão 5."
   ]
  },
  {
   "cell_type": "markdown",
   "id": "b9337c6b-c7c2-4fe3-a64f-f41b878f2b13",
   "metadata": {},
   "source": [
    "A."
   ]
  },
  {
   "cell_type": "code",
   "execution_count": 279,
   "id": "2e18fbbd",
   "metadata": {},
   "outputs": [
    {
     "data": {
      "text/plain": [
       "2×3 Array{Float64,2}:\n",
       " 1.50001  0.999968  1.49989\n",
       " 1.50011  1.00003   1.49999"
      ]
     },
     "metadata": {},
     "output_type": "display_data"
    },
    {
     "name": "stdout",
     "output_type": "stream",
     "text": [
      "Erro: 3.000000000415844\n"
     ]
    }
   ],
   "source": [
    "A = [0 1 3; 3 1 0] * 1.0\n",
    "\n",
    "b, c = acha_melhor_minimizacao(A)\n",
    "\n",
    "println(\"Erro: \", norm(A - b * c'))\n",
    "\n",
    "display(b * c')"
   ]
  },
  {
   "cell_type": "markdown",
   "id": "ee24f74a-ac0b-40ed-8a49-873d1b178c40",
   "metadata": {},
   "source": [
    "Podemos plotar a solução, mostrando como os vetores originais são compactados na mesma reta, dada pelo vetor da base b."
   ]
  },
  {
   "cell_type": "code",
   "execution_count": 280,
   "id": "e675c873-2a69-4e4c-a2cf-92850b1076fc",
   "metadata": {},
   "outputs": [
    {
     "data": {
      "image/svg+xml": [
       "<?xml version=\"1.0\" encoding=\"utf-8\"?>\n",
       "<svg xmlns=\"http://www.w3.org/2000/svg\" xmlns:xlink=\"http://www.w3.org/1999/xlink\" width=\"600\" height=\"400\" viewBox=\"0 0 2400 1600\">\n",
       "<defs>\n",
       "  <clipPath id=\"clip700\">\n",
       "    <rect x=\"0\" y=\"0\" width=\"2400\" height=\"1600\"/>\n",
       "  </clipPath>\n",
       "</defs>\n",
       "<path clip-path=\"url(#clip700)\" d=\"\n",
       "M0 1600 L2400 1600 L2400 0 L0 0  Z\n",
       "  \" fill=\"#ffffff\" fill-rule=\"evenodd\" fill-opacity=\"1\"/>\n",
       "<defs>\n",
       "  <clipPath id=\"clip701\">\n",
       "    <rect x=\"480\" y=\"0\" width=\"1681\" height=\"1600\"/>\n",
       "  </clipPath>\n",
       "</defs>\n",
       "<path clip-path=\"url(#clip700)\" d=\"\n",
       "M110.881 1486.45 L2352.76 1486.45 L2352.76 47.2441 L110.881 47.2441  Z\n",
       "  \" fill=\"#ffffff\" fill-rule=\"evenodd\" fill-opacity=\"1\"/>\n",
       "<defs>\n",
       "  <clipPath id=\"clip702\">\n",
       "    <rect x=\"110\" y=\"47\" width=\"2243\" height=\"1440\"/>\n",
       "  </clipPath>\n",
       "</defs>\n",
       "<polyline clip-path=\"url(#clip702)\" style=\"stroke:#000000; stroke-width:2; stroke-opacity:0.1; fill:none\" points=\"\n",
       "  234.188,1486.45 234.188,47.2441 \n",
       "  \"/>\n",
       "<polyline clip-path=\"url(#clip702)\" style=\"stroke:#000000; stroke-width:2; stroke-opacity:0.1; fill:none\" points=\"\n",
       "  899.275,1486.45 899.275,47.2441 \n",
       "  \"/>\n",
       "<polyline clip-path=\"url(#clip702)\" style=\"stroke:#000000; stroke-width:2; stroke-opacity:0.1; fill:none\" points=\"\n",
       "  1564.36,1486.45 1564.36,47.2441 \n",
       "  \"/>\n",
       "<polyline clip-path=\"url(#clip702)\" style=\"stroke:#000000; stroke-width:2; stroke-opacity:0.1; fill:none\" points=\"\n",
       "  2229.45,1486.45 2229.45,47.2441 \n",
       "  \"/>\n",
       "<polyline clip-path=\"url(#clip700)\" style=\"stroke:#000000; stroke-width:4; stroke-opacity:1; fill:none\" points=\"\n",
       "  110.881,1486.45 2352.76,1486.45 \n",
       "  \"/>\n",
       "<polyline clip-path=\"url(#clip700)\" style=\"stroke:#000000; stroke-width:4; stroke-opacity:1; fill:none\" points=\"\n",
       "  234.188,1486.45 234.188,1469.18 \n",
       "  \"/>\n",
       "<polyline clip-path=\"url(#clip700)\" style=\"stroke:#000000; stroke-width:4; stroke-opacity:1; fill:none\" points=\"\n",
       "  899.275,1486.45 899.275,1469.18 \n",
       "  \"/>\n",
       "<polyline clip-path=\"url(#clip700)\" style=\"stroke:#000000; stroke-width:4; stroke-opacity:1; fill:none\" points=\"\n",
       "  1564.36,1486.45 1564.36,1469.18 \n",
       "  \"/>\n",
       "<polyline clip-path=\"url(#clip700)\" style=\"stroke:#000000; stroke-width:4; stroke-opacity:1; fill:none\" points=\"\n",
       "  2229.45,1486.45 2229.45,1469.18 \n",
       "  \"/>\n",
       "<path clip-path=\"url(#clip700)\" d=\"M 0 0 M234.188 1515.64 Q230.577 1515.64 228.748 1519.2 Q226.943 1522.75 226.943 1529.87 Q226.943 1536.98 228.748 1540.55 Q230.577 1544.09 234.188 1544.09 Q237.822 1544.09 239.628 1540.55 Q241.456 1536.98 241.456 1529.87 Q241.456 1522.75 239.628 1519.2 Q237.822 1515.64 234.188 1515.64 M234.188 1511.93 Q239.998 1511.93 243.054 1516.54 Q246.132 1521.12 246.132 1529.87 Q246.132 1538.6 243.054 1543.21 Q239.998 1547.79 234.188 1547.79 Q228.378 1547.79 225.299 1543.21 Q222.244 1538.6 222.244 1529.87 Q222.244 1521.12 225.299 1516.54 Q228.378 1511.93 234.188 1511.93 Z\" fill=\"#000000\" fill-rule=\"evenodd\" fill-opacity=\"1\" /><path clip-path=\"url(#clip700)\" d=\"M 0 0 M889.657 1543.18 L897.296 1543.18 L897.296 1516.82 L888.986 1518.49 L888.986 1514.23 L897.249 1512.56 L901.925 1512.56 L901.925 1543.18 L909.564 1543.18 L909.564 1547.12 L889.657 1547.12 L889.657 1543.18 Z\" fill=\"#000000\" fill-rule=\"evenodd\" fill-opacity=\"1\" /><path clip-path=\"url(#clip700)\" d=\"M 0 0 M1559.01 1543.18 L1575.33 1543.18 L1575.33 1547.12 L1553.39 1547.12 L1553.39 1543.18 Q1556.05 1540.43 1560.64 1535.8 Q1565.24 1531.15 1566.42 1529.81 Q1568.67 1527.28 1569.55 1525.55 Q1570.45 1523.79 1570.45 1522.1 Q1570.45 1519.34 1568.51 1517.61 Q1566.58 1515.87 1563.48 1515.87 Q1561.28 1515.87 1558.83 1516.63 Q1556.4 1517.4 1553.62 1518.95 L1553.62 1514.23 Q1556.45 1513.09 1558.9 1512.51 Q1561.35 1511.93 1563.39 1511.93 Q1568.76 1511.93 1571.95 1514.62 Q1575.15 1517.31 1575.15 1521.8 Q1575.15 1523.93 1574.34 1525.85 Q1573.55 1527.74 1571.45 1530.34 Q1570.87 1531.01 1567.76 1534.23 Q1564.66 1537.42 1559.01 1543.18 Z\" fill=\"#000000\" fill-rule=\"evenodd\" fill-opacity=\"1\" /><path clip-path=\"url(#clip700)\" d=\"M 0 0 M2233.7 1528.49 Q2237.05 1529.2 2238.93 1531.47 Q2240.83 1533.74 2240.83 1537.07 Q2240.83 1542.19 2237.31 1544.99 Q2233.79 1547.79 2227.31 1547.79 Q2225.13 1547.79 2222.82 1547.35 Q2220.53 1546.93 2218.07 1546.08 L2218.07 1541.56 Q2220.02 1542.7 2222.33 1543.28 Q2224.65 1543.86 2227.17 1543.86 Q2231.57 1543.86 2233.86 1542.12 Q2236.17 1540.38 2236.17 1537.07 Q2236.17 1534.02 2234.02 1532.31 Q2231.89 1530.57 2228.07 1530.57 L2224.04 1530.57 L2224.04 1526.73 L2228.26 1526.73 Q2231.71 1526.73 2233.53 1525.36 Q2235.36 1523.97 2235.36 1521.38 Q2235.36 1518.72 2233.46 1517.31 Q2231.59 1515.87 2228.07 1515.87 Q2226.15 1515.87 2223.95 1516.29 Q2221.75 1516.7 2219.11 1517.58 L2219.11 1513.42 Q2221.78 1512.68 2224.09 1512.31 Q2226.43 1511.93 2228.49 1511.93 Q2233.81 1511.93 2236.91 1514.37 Q2240.02 1516.77 2240.02 1520.89 Q2240.02 1523.76 2238.37 1525.75 Q2236.73 1527.72 2233.7 1528.49 Z\" fill=\"#000000\" fill-rule=\"evenodd\" fill-opacity=\"1\" /><polyline clip-path=\"url(#clip702)\" style=\"stroke:#000000; stroke-width:2; stroke-opacity:0.1; fill:none\" points=\"\n",
       "  110.881,1407.29 2352.76,1407.29 \n",
       "  \"/>\n",
       "<polyline clip-path=\"url(#clip702)\" style=\"stroke:#000000; stroke-width:2; stroke-opacity:0.1; fill:none\" points=\"\n",
       "  110.881,980.354 2352.76,980.354 \n",
       "  \"/>\n",
       "<polyline clip-path=\"url(#clip702)\" style=\"stroke:#000000; stroke-width:2; stroke-opacity:0.1; fill:none\" points=\"\n",
       "  110.881,553.42 2352.76,553.42 \n",
       "  \"/>\n",
       "<polyline clip-path=\"url(#clip702)\" style=\"stroke:#000000; stroke-width:2; stroke-opacity:0.1; fill:none\" points=\"\n",
       "  110.881,126.485 2352.76,126.485 \n",
       "  \"/>\n",
       "<polyline clip-path=\"url(#clip700)\" style=\"stroke:#000000; stroke-width:4; stroke-opacity:1; fill:none\" points=\"\n",
       "  110.881,1486.45 110.881,47.2441 \n",
       "  \"/>\n",
       "<polyline clip-path=\"url(#clip700)\" style=\"stroke:#000000; stroke-width:4; stroke-opacity:1; fill:none\" points=\"\n",
       "  110.881,1407.29 137.783,1407.29 \n",
       "  \"/>\n",
       "<polyline clip-path=\"url(#clip700)\" style=\"stroke:#000000; stroke-width:4; stroke-opacity:1; fill:none\" points=\"\n",
       "  110.881,980.354 137.783,980.354 \n",
       "  \"/>\n",
       "<polyline clip-path=\"url(#clip700)\" style=\"stroke:#000000; stroke-width:4; stroke-opacity:1; fill:none\" points=\"\n",
       "  110.881,553.42 137.783,553.42 \n",
       "  \"/>\n",
       "<polyline clip-path=\"url(#clip700)\" style=\"stroke:#000000; stroke-width:4; stroke-opacity:1; fill:none\" points=\"\n",
       "  110.881,126.485 137.783,126.485 \n",
       "  \"/>\n",
       "<path clip-path=\"url(#clip700)\" d=\"M 0 0 M62.9365 1393.09 Q59.3254 1393.09 57.4967 1396.65 Q55.6912 1400.19 55.6912 1407.32 Q55.6912 1414.43 57.4967 1418 Q59.3254 1421.54 62.9365 1421.54 Q66.5707 1421.54 68.3763 1418 Q70.205 1414.43 70.205 1407.32 Q70.205 1400.19 68.3763 1396.65 Q66.5707 1393.09 62.9365 1393.09 M62.9365 1389.38 Q68.7467 1389.38 71.8022 1393.99 Q74.8809 1398.57 74.8809 1407.32 Q74.8809 1416.05 71.8022 1420.66 Q68.7467 1425.24 62.9365 1425.24 Q57.1264 1425.24 54.0477 1420.66 Q50.9921 1416.05 50.9921 1407.32 Q50.9921 1398.57 54.0477 1393.99 Q57.1264 1389.38 62.9365 1389.38 Z\" fill=\"#000000\" fill-rule=\"evenodd\" fill-opacity=\"1\" /><path clip-path=\"url(#clip700)\" d=\"M 0 0 M54.9736 993.699 L62.6124 993.699 L62.6124 967.334 L54.3023 969 L54.3023 964.741 L62.5661 963.074 L67.242 963.074 L67.242 993.699 L74.8809 993.699 L74.8809 997.634 L54.9736 997.634 L54.9736 993.699 Z\" fill=\"#000000\" fill-rule=\"evenodd\" fill-opacity=\"1\" /><path clip-path=\"url(#clip700)\" d=\"M 0 0 M58.5615 566.764 L74.8809 566.764 L74.8809 570.7 L52.9366 570.7 L52.9366 566.764 Q55.5986 564.01 60.1819 559.38 Q64.7883 554.727 65.9689 553.385 Q68.2143 550.862 69.0939 549.126 Q69.9967 547.366 69.9967 545.676 Q69.9967 542.922 68.0522 541.186 Q66.1309 539.45 63.0291 539.45 Q60.83 539.45 58.3763 540.214 Q55.9458 540.977 53.168 542.528 L53.168 537.806 Q55.9921 536.672 58.4458 536.093 Q60.8995 535.515 62.9365 535.515 Q68.3068 535.515 71.5013 538.2 Q74.6957 540.885 74.6957 545.376 Q74.6957 547.505 73.8855 549.426 Q73.0985 551.325 70.992 553.917 Q70.4133 554.588 67.3115 557.806 Q64.2096 561 58.5615 566.764 Z\" fill=\"#000000\" fill-rule=\"evenodd\" fill-opacity=\"1\" /><path clip-path=\"url(#clip700)\" d=\"M 0 0 M67.7513 125.131 Q71.1078 125.848 72.9827 128.117 Q74.8809 130.385 74.8809 133.718 Q74.8809 138.834 71.3624 141.635 Q67.8439 144.436 61.3624 144.436 Q59.1865 144.436 56.8717 143.996 Q54.5801 143.58 52.1264 142.723 L52.1264 138.209 Q54.0708 139.343 56.3856 139.922 Q58.7004 140.501 61.2236 140.501 Q65.6217 140.501 67.9133 138.765 Q70.2281 137.029 70.2281 133.718 Q70.2281 130.663 68.0754 128.95 Q65.9457 127.214 62.1263 127.214 L58.0986 127.214 L58.0986 123.371 L62.3115 123.371 Q65.7606 123.371 67.5893 122.006 Q69.418 120.617 69.418 118.024 Q69.418 115.362 67.5198 113.95 Q65.6448 112.515 62.1263 112.515 Q60.205 112.515 58.006 112.932 Q55.8069 113.348 53.168 114.228 L53.168 110.061 Q55.8301 109.32 58.1449 108.95 Q60.4828 108.58 62.543 108.58 Q67.867 108.58 70.9689 111.01 Q74.0707 113.418 74.0707 117.538 Q74.0707 120.408 72.4272 122.399 Q70.7837 124.367 67.7513 125.131 Z\" fill=\"#000000\" fill-rule=\"evenodd\" fill-opacity=\"1\" /><circle clip-path=\"url(#clip702)\" cx=\"1231.83\" cy=\"766.841\" r=\"14\" fill=\"#009af9\" fill-rule=\"evenodd\" fill-opacity=\"0.5\" stroke=\"#000000\" stroke-opacity=\"0.5\" stroke-width=\"3.2\"/>\n",
       "<circle clip-path=\"url(#clip702)\" cx=\"899.254\" cy=\"980.341\" r=\"14\" fill=\"#009af9\" fill-rule=\"evenodd\" fill-opacity=\"0.5\" stroke=\"#000000\" stroke-opacity=\"0.5\" stroke-width=\"3.2\"/>\n",
       "<circle clip-path=\"url(#clip702)\" cx=\"1231.75\" cy=\"766.891\" r=\"14\" fill=\"#009af9\" fill-rule=\"evenodd\" fill-opacity=\"0.5\" stroke=\"#000000\" stroke-opacity=\"0.5\" stroke-width=\"3.2\"/>\n",
       "<circle clip-path=\"url(#clip702)\" cx=\"234.188\" cy=\"126.485\" r=\"14\" fill=\"#e26f46\" fill-rule=\"evenodd\" fill-opacity=\"0.5\" stroke=\"#000000\" stroke-opacity=\"0.5\" stroke-width=\"3.2\"/>\n",
       "<circle clip-path=\"url(#clip702)\" cx=\"899.275\" cy=\"980.354\" r=\"14\" fill=\"#e26f46\" fill-rule=\"evenodd\" fill-opacity=\"0.5\" stroke=\"#000000\" stroke-opacity=\"0.5\" stroke-width=\"3.2\"/>\n",
       "<circle clip-path=\"url(#clip702)\" cx=\"2229.45\" cy=\"1407.29\" r=\"14\" fill=\"#e26f46\" fill-rule=\"evenodd\" fill-opacity=\"0.5\" stroke=\"#000000\" stroke-opacity=\"0.5\" stroke-width=\"3.2\"/>\n",
       "<polyline clip-path=\"url(#clip702)\" style=\"stroke:#3da44d; stroke-width:4; stroke-opacity:1; fill:none\" points=\"\n",
       "  174.33,1445.72 194.985,1432.46 385.965,1309.85 500.736,1236.17 597.774,1173.88 703.184,1106.21 800.363,1043.82 904.549,976.941 1025.26,899.45 1132.53,830.585 \n",
       "  1226.6,770.196 1329.16,704.357 1432.33,638.126 1546.4,564.899 1654.93,495.226 1767.77,422.781 1862.77,361.799 1978.74,287.346 2087.77,217.358 2262.43,105.232 \n",
       "  2289.31,87.9763 \n",
       "  \"/>\n",
       "<path clip-path=\"url(#clip700)\" d=\"\n",
       "M1977.33 337.138 L2278.03 337.138 L2278.03 95.2176 L1977.33 95.2176  Z\n",
       "  \" fill=\"#ffffff\" fill-rule=\"evenodd\" fill-opacity=\"1\"/>\n",
       "<polyline clip-path=\"url(#clip700)\" style=\"stroke:#000000; stroke-width:4; stroke-opacity:1; fill:none\" points=\"\n",
       "  1977.33,337.138 2278.03,337.138 2278.03,95.2176 1977.33,95.2176 1977.33,337.138 \n",
       "  \"/>\n",
       "<circle clip-path=\"url(#clip700)\" cx=\"2076.97\" cy=\"155.698\" r=\"23\" fill=\"#009af9\" fill-rule=\"evenodd\" fill-opacity=\"0.5\" stroke=\"#000000\" stroke-opacity=\"0.5\" stroke-width=\"5.12\"/>\n",
       "<path clip-path=\"url(#clip700)\" d=\"M 0 0 M2190.45 175.385 Q2188.65 180.015 2186.93 181.427 Q2185.22 182.839 2182.35 182.839 L2178.95 182.839 L2178.95 179.274 L2181.45 179.274 Q2183.21 179.274 2184.18 178.44 Q2185.15 177.607 2186.33 174.505 L2187.1 172.561 L2176.61 147.052 L2181.12 147.052 L2189.23 167.329 L2197.33 147.052 L2201.84 147.052 L2190.45 175.385 Z\" fill=\"#000000\" fill-rule=\"evenodd\" fill-opacity=\"1\" /><path clip-path=\"url(#clip700)\" d=\"M 0 0 M2207.72 169.042 L2215.36 169.042 L2215.36 142.677 L2207.05 144.343 L2207.05 140.084 L2215.31 138.418 L2219.99 138.418 L2219.99 169.042 L2227.63 169.042 L2227.63 172.978 L2207.72 172.978 L2207.72 169.042 Z\" fill=\"#000000\" fill-rule=\"evenodd\" fill-opacity=\"1\" /><circle clip-path=\"url(#clip700)\" cx=\"2076.97\" cy=\"216.178\" r=\"23\" fill=\"#e26f46\" fill-rule=\"evenodd\" fill-opacity=\"0.5\" stroke=\"#000000\" stroke-opacity=\"0.5\" stroke-width=\"5.12\"/>\n",
       "<path clip-path=\"url(#clip700)\" d=\"M 0 0 M2190.45 235.865 Q2188.65 240.495 2186.93 241.907 Q2185.22 243.319 2182.35 243.319 L2178.95 243.319 L2178.95 239.754 L2181.45 239.754 Q2183.21 239.754 2184.18 238.92 Q2185.15 238.087 2186.33 234.985 L2187.1 233.041 L2176.61 207.532 L2181.12 207.532 L2189.23 227.809 L2197.33 207.532 L2201.84 207.532 L2190.45 235.865 Z\" fill=\"#000000\" fill-rule=\"evenodd\" fill-opacity=\"1\" /><path clip-path=\"url(#clip700)\" d=\"M 0 0 M2210.94 229.522 L2227.26 229.522 L2227.26 233.458 L2205.31 233.458 L2205.31 229.522 Q2207.98 226.768 2212.56 222.138 Q2217.17 217.485 2218.35 216.143 Q2220.59 213.62 2221.47 211.884 Q2222.37 210.124 2222.37 208.435 Q2222.37 205.68 2220.43 203.944 Q2218.51 202.208 2215.41 202.208 Q2213.21 202.208 2210.75 202.972 Q2208.32 203.735 2205.55 205.286 L2205.55 200.564 Q2208.37 199.43 2210.82 198.851 Q2213.28 198.273 2215.31 198.273 Q2220.68 198.273 2223.88 200.958 Q2227.07 203.643 2227.07 208.134 Q2227.07 210.263 2226.26 212.185 Q2225.48 214.083 2223.37 216.675 Q2222.79 217.347 2219.69 220.564 Q2216.59 223.759 2210.94 229.522 Z\" fill=\"#000000\" fill-rule=\"evenodd\" fill-opacity=\"1\" /><polyline clip-path=\"url(#clip700)\" style=\"stroke:#3da44d; stroke-width:4; stroke-opacity:1; fill:none\" points=\"\n",
       "  2002.24,276.658 2151.7,276.658 \n",
       "  \"/>\n",
       "<path clip-path=\"url(#clip700)\" d=\"M 0 0 M2190.45 296.345 Q2188.65 300.975 2186.93 302.387 Q2185.22 303.799 2182.35 303.799 L2178.95 303.799 L2178.95 300.234 L2181.45 300.234 Q2183.21 300.234 2184.18 299.4 Q2185.15 298.567 2186.33 295.465 L2187.1 293.521 L2176.61 268.012 L2181.12 268.012 L2189.23 288.289 L2197.33 268.012 L2201.84 268.012 L2190.45 296.345 Z\" fill=\"#000000\" fill-rule=\"evenodd\" fill-opacity=\"1\" /><path clip-path=\"url(#clip700)\" d=\"M 0 0 M2221.08 275.303 Q2224.43 276.021 2226.31 278.289 Q2228.21 280.558 2228.21 283.891 Q2228.21 289.007 2224.69 291.808 Q2221.17 294.609 2214.69 294.609 Q2212.51 294.609 2210.2 294.169 Q2207.91 293.752 2205.45 292.896 L2205.45 288.382 Q2207.4 289.516 2209.71 290.095 Q2212.03 290.674 2214.55 290.674 Q2218.95 290.674 2221.24 288.938 Q2223.55 287.201 2223.55 283.891 Q2223.55 280.836 2221.4 279.123 Q2219.27 277.387 2215.45 277.387 L2211.42 277.387 L2211.42 273.544 L2215.64 273.544 Q2219.09 273.544 2220.92 272.178 Q2222.74 270.79 2222.74 268.197 Q2222.74 265.535 2220.85 264.123 Q2218.97 262.688 2215.45 262.688 Q2213.53 262.688 2211.33 263.104 Q2209.13 263.521 2206.49 264.401 L2206.49 260.234 Q2209.16 259.493 2211.47 259.123 Q2213.81 258.753 2215.87 258.753 Q2221.19 258.753 2224.3 261.183 Q2227.4 263.59 2227.4 267.711 Q2227.4 270.581 2225.75 272.572 Q2224.11 274.54 2221.08 275.303 Z\" fill=\"#000000\" fill-rule=\"evenodd\" fill-opacity=\"1\" /></svg>\n"
      ]
     },
     "execution_count": 280,
     "metadata": {},
     "output_type": "execute_result"
    }
   ],
   "source": [
    "m = b*c'\n",
    "p = scatter(m[1,:], m[2,:], alpha=0.5)\n",
    "scatter!(p, A[1,:], A[2,:], alpha=0.5)\n",
    "\n",
    "f(x) = b[2]*x/b[1]\n",
    "plot!(p, f)"
   ]
  },
  {
   "cell_type": "markdown",
   "id": "ef05fd33-a15b-4d08-a429-e0b4196fb88e",
   "metadata": {},
   "source": [
    "B. "
   ]
  },
  {
   "cell_type": "code",
   "execution_count": 281,
   "id": "0effefc1",
   "metadata": {},
   "outputs": [
    {
     "data": {
      "text/plain": [
       "2×4 Array{Float64,2}:\n",
       " 1.0  2.0  2.0  1.0\n",
       " 1.0  2.0  2.0  1.0"
      ]
     },
     "metadata": {},
     "output_type": "display_data"
    },
    {
     "name": "stdout",
     "output_type": "stream",
     "text": [
      "Erro: 2.8284271247461903\n"
     ]
    }
   ],
   "source": [
    "A = [0 1 3 2; 2 3 1 0] * 1.0\n",
    "\n",
    "b, c = acha_melhor_minimizacao(A)\n",
    "\n",
    "println(\"Erro: \", norm(A - b * c'))\n",
    "\n",
    "display(b * c')"
   ]
  },
  {
   "cell_type": "markdown",
   "id": "299af7c1-818e-4ed7-a233-08cb347ea281",
   "metadata": {},
   "source": [
    "Podemos plotar a solução, mostrando como os vetores originais são compactados na mesma reta, dada pelo vetor da base b."
   ]
  },
  {
   "cell_type": "code",
   "execution_count": 282,
   "id": "9c715dde-c8bb-4967-90d2-69c8c8163ba3",
   "metadata": {},
   "outputs": [
    {
     "data": {
      "image/svg+xml": [
       "<?xml version=\"1.0\" encoding=\"utf-8\"?>\n",
       "<svg xmlns=\"http://www.w3.org/2000/svg\" xmlns:xlink=\"http://www.w3.org/1999/xlink\" width=\"600\" height=\"400\" viewBox=\"0 0 2400 1600\">\n",
       "<defs>\n",
       "  <clipPath id=\"clip740\">\n",
       "    <rect x=\"0\" y=\"0\" width=\"2400\" height=\"1600\"/>\n",
       "  </clipPath>\n",
       "</defs>\n",
       "<path clip-path=\"url(#clip740)\" d=\"\n",
       "M0 1600 L2400 1600 L2400 0 L0 0  Z\n",
       "  \" fill=\"#ffffff\" fill-rule=\"evenodd\" fill-opacity=\"1\"/>\n",
       "<defs>\n",
       "  <clipPath id=\"clip741\">\n",
       "    <rect x=\"480\" y=\"0\" width=\"1681\" height=\"1600\"/>\n",
       "  </clipPath>\n",
       "</defs>\n",
       "<path clip-path=\"url(#clip740)\" d=\"\n",
       "M110.881 1486.45 L2352.76 1486.45 L2352.76 47.2441 L110.881 47.2441  Z\n",
       "  \" fill=\"#ffffff\" fill-rule=\"evenodd\" fill-opacity=\"1\"/>\n",
       "<defs>\n",
       "  <clipPath id=\"clip742\">\n",
       "    <rect x=\"110\" y=\"47\" width=\"2243\" height=\"1440\"/>\n",
       "  </clipPath>\n",
       "</defs>\n",
       "<polyline clip-path=\"url(#clip742)\" style=\"stroke:#000000; stroke-width:2; stroke-opacity:0.1; fill:none\" points=\"\n",
       "  234.188,1486.45 234.188,47.2441 \n",
       "  \"/>\n",
       "<polyline clip-path=\"url(#clip742)\" style=\"stroke:#000000; stroke-width:2; stroke-opacity:0.1; fill:none\" points=\"\n",
       "  899.275,1486.45 899.275,47.2441 \n",
       "  \"/>\n",
       "<polyline clip-path=\"url(#clip742)\" style=\"stroke:#000000; stroke-width:2; stroke-opacity:0.1; fill:none\" points=\"\n",
       "  1564.36,1486.45 1564.36,47.2441 \n",
       "  \"/>\n",
       "<polyline clip-path=\"url(#clip742)\" style=\"stroke:#000000; stroke-width:2; stroke-opacity:0.1; fill:none\" points=\"\n",
       "  2229.45,1486.45 2229.45,47.2441 \n",
       "  \"/>\n",
       "<polyline clip-path=\"url(#clip740)\" style=\"stroke:#000000; stroke-width:4; stroke-opacity:1; fill:none\" points=\"\n",
       "  110.881,1486.45 2352.76,1486.45 \n",
       "  \"/>\n",
       "<polyline clip-path=\"url(#clip740)\" style=\"stroke:#000000; stroke-width:4; stroke-opacity:1; fill:none\" points=\"\n",
       "  234.188,1486.45 234.188,1469.18 \n",
       "  \"/>\n",
       "<polyline clip-path=\"url(#clip740)\" style=\"stroke:#000000; stroke-width:4; stroke-opacity:1; fill:none\" points=\"\n",
       "  899.275,1486.45 899.275,1469.18 \n",
       "  \"/>\n",
       "<polyline clip-path=\"url(#clip740)\" style=\"stroke:#000000; stroke-width:4; stroke-opacity:1; fill:none\" points=\"\n",
       "  1564.36,1486.45 1564.36,1469.18 \n",
       "  \"/>\n",
       "<polyline clip-path=\"url(#clip740)\" style=\"stroke:#000000; stroke-width:4; stroke-opacity:1; fill:none\" points=\"\n",
       "  2229.45,1486.45 2229.45,1469.18 \n",
       "  \"/>\n",
       "<path clip-path=\"url(#clip740)\" d=\"M 0 0 M234.188 1515.64 Q230.577 1515.64 228.748 1519.2 Q226.943 1522.75 226.943 1529.87 Q226.943 1536.98 228.748 1540.55 Q230.577 1544.09 234.188 1544.09 Q237.822 1544.09 239.628 1540.55 Q241.456 1536.98 241.456 1529.87 Q241.456 1522.75 239.628 1519.2 Q237.822 1515.64 234.188 1515.64 M234.188 1511.93 Q239.998 1511.93 243.054 1516.54 Q246.132 1521.12 246.132 1529.87 Q246.132 1538.6 243.054 1543.21 Q239.998 1547.79 234.188 1547.79 Q228.378 1547.79 225.299 1543.21 Q222.244 1538.6 222.244 1529.87 Q222.244 1521.12 225.299 1516.54 Q228.378 1511.93 234.188 1511.93 Z\" fill=\"#000000\" fill-rule=\"evenodd\" fill-opacity=\"1\" /><path clip-path=\"url(#clip740)\" d=\"M 0 0 M889.657 1543.18 L897.296 1543.18 L897.296 1516.82 L888.986 1518.49 L888.986 1514.23 L897.249 1512.56 L901.925 1512.56 L901.925 1543.18 L909.564 1543.18 L909.564 1547.12 L889.657 1547.12 L889.657 1543.18 Z\" fill=\"#000000\" fill-rule=\"evenodd\" fill-opacity=\"1\" /><path clip-path=\"url(#clip740)\" d=\"M 0 0 M1559.01 1543.18 L1575.33 1543.18 L1575.33 1547.12 L1553.39 1547.12 L1553.39 1543.18 Q1556.05 1540.43 1560.64 1535.8 Q1565.24 1531.15 1566.42 1529.81 Q1568.67 1527.28 1569.55 1525.55 Q1570.45 1523.79 1570.45 1522.1 Q1570.45 1519.34 1568.51 1517.61 Q1566.58 1515.87 1563.48 1515.87 Q1561.28 1515.87 1558.83 1516.63 Q1556.4 1517.4 1553.62 1518.95 L1553.62 1514.23 Q1556.45 1513.09 1558.9 1512.51 Q1561.35 1511.93 1563.39 1511.93 Q1568.76 1511.93 1571.95 1514.62 Q1575.15 1517.31 1575.15 1521.8 Q1575.15 1523.93 1574.34 1525.85 Q1573.55 1527.74 1571.45 1530.34 Q1570.87 1531.01 1567.76 1534.23 Q1564.66 1537.42 1559.01 1543.18 Z\" fill=\"#000000\" fill-rule=\"evenodd\" fill-opacity=\"1\" /><path clip-path=\"url(#clip740)\" d=\"M 0 0 M2233.7 1528.49 Q2237.05 1529.2 2238.93 1531.47 Q2240.83 1533.74 2240.83 1537.07 Q2240.83 1542.19 2237.31 1544.99 Q2233.79 1547.79 2227.31 1547.79 Q2225.13 1547.79 2222.82 1547.35 Q2220.53 1546.93 2218.07 1546.08 L2218.07 1541.56 Q2220.02 1542.7 2222.33 1543.28 Q2224.65 1543.86 2227.17 1543.86 Q2231.57 1543.86 2233.86 1542.12 Q2236.17 1540.38 2236.17 1537.07 Q2236.17 1534.02 2234.02 1532.31 Q2231.89 1530.57 2228.07 1530.57 L2224.04 1530.57 L2224.04 1526.73 L2228.26 1526.73 Q2231.71 1526.73 2233.53 1525.36 Q2235.36 1523.97 2235.36 1521.38 Q2235.36 1518.72 2233.46 1517.31 Q2231.59 1515.87 2228.07 1515.87 Q2226.15 1515.87 2223.95 1516.29 Q2221.75 1516.7 2219.11 1517.58 L2219.11 1513.42 Q2221.78 1512.68 2224.09 1512.31 Q2226.43 1511.93 2228.49 1511.93 Q2233.81 1511.93 2236.91 1514.37 Q2240.02 1516.77 2240.02 1520.89 Q2240.02 1523.76 2238.37 1525.75 Q2236.73 1527.72 2233.7 1528.49 Z\" fill=\"#000000\" fill-rule=\"evenodd\" fill-opacity=\"1\" /><polyline clip-path=\"url(#clip742)\" style=\"stroke:#000000; stroke-width:2; stroke-opacity:0.1; fill:none\" points=\"\n",
       "  110.881,1407.29 2352.76,1407.29 \n",
       "  \"/>\n",
       "<polyline clip-path=\"url(#clip742)\" style=\"stroke:#000000; stroke-width:2; stroke-opacity:0.1; fill:none\" points=\"\n",
       "  110.881,980.327 2352.76,980.327 \n",
       "  \"/>\n",
       "<polyline clip-path=\"url(#clip742)\" style=\"stroke:#000000; stroke-width:2; stroke-opacity:0.1; fill:none\" points=\"\n",
       "  110.881,553.365 2352.76,553.365 \n",
       "  \"/>\n",
       "<polyline clip-path=\"url(#clip742)\" style=\"stroke:#000000; stroke-width:2; stroke-opacity:0.1; fill:none\" points=\"\n",
       "  110.881,126.403 2352.76,126.403 \n",
       "  \"/>\n",
       "<polyline clip-path=\"url(#clip740)\" style=\"stroke:#000000; stroke-width:4; stroke-opacity:1; fill:none\" points=\"\n",
       "  110.881,1486.45 110.881,47.2441 \n",
       "  \"/>\n",
       "<polyline clip-path=\"url(#clip740)\" style=\"stroke:#000000; stroke-width:4; stroke-opacity:1; fill:none\" points=\"\n",
       "  110.881,1407.29 137.783,1407.29 \n",
       "  \"/>\n",
       "<polyline clip-path=\"url(#clip740)\" style=\"stroke:#000000; stroke-width:4; stroke-opacity:1; fill:none\" points=\"\n",
       "  110.881,980.327 137.783,980.327 \n",
       "  \"/>\n",
       "<polyline clip-path=\"url(#clip740)\" style=\"stroke:#000000; stroke-width:4; stroke-opacity:1; fill:none\" points=\"\n",
       "  110.881,553.365 137.783,553.365 \n",
       "  \"/>\n",
       "<polyline clip-path=\"url(#clip740)\" style=\"stroke:#000000; stroke-width:4; stroke-opacity:1; fill:none\" points=\"\n",
       "  110.881,126.403 137.783,126.403 \n",
       "  \"/>\n",
       "<path clip-path=\"url(#clip740)\" d=\"M 0 0 M62.9365 1393.09 Q59.3254 1393.09 57.4967 1396.65 Q55.6912 1400.19 55.6912 1407.32 Q55.6912 1414.43 57.4967 1418 Q59.3254 1421.54 62.9365 1421.54 Q66.5707 1421.54 68.3763 1418 Q70.205 1414.43 70.205 1407.32 Q70.205 1400.19 68.3763 1396.65 Q66.5707 1393.09 62.9365 1393.09 M62.9365 1389.38 Q68.7467 1389.38 71.8022 1393.99 Q74.8809 1398.57 74.8809 1407.32 Q74.8809 1416.05 71.8022 1420.66 Q68.7467 1425.24 62.9365 1425.24 Q57.1264 1425.24 54.0477 1420.66 Q50.9921 1416.05 50.9921 1407.32 Q50.9921 1398.57 54.0477 1393.99 Q57.1264 1389.38 62.9365 1389.38 Z\" fill=\"#000000\" fill-rule=\"evenodd\" fill-opacity=\"1\" /><path clip-path=\"url(#clip740)\" d=\"M 0 0 M54.9736 993.672 L62.6124 993.672 L62.6124 967.306 L54.3023 968.973 L54.3023 964.714 L62.5661 963.047 L67.242 963.047 L67.242 993.672 L74.8809 993.672 L74.8809 997.607 L54.9736 997.607 L54.9736 993.672 Z\" fill=\"#000000\" fill-rule=\"evenodd\" fill-opacity=\"1\" /><path clip-path=\"url(#clip740)\" d=\"M 0 0 M58.5615 566.71 L74.8809 566.71 L74.8809 570.645 L52.9366 570.645 L52.9366 566.71 Q55.5986 563.955 60.1819 559.326 Q64.7883 554.673 65.9689 553.33 Q68.2143 550.807 69.0939 549.071 Q69.9967 547.312 69.9967 545.622 Q69.9967 542.867 68.0522 541.131 Q66.1309 539.395 63.0291 539.395 Q60.83 539.395 58.3763 540.159 Q55.9458 540.923 53.168 542.474 L53.168 537.752 Q55.9921 536.617 58.4458 536.039 Q60.8995 535.46 62.9365 535.46 Q68.3068 535.46 71.5013 538.145 Q74.6957 540.83 74.6957 545.321 Q74.6957 547.451 73.8855 549.372 Q73.0985 551.27 70.992 553.863 Q70.4133 554.534 67.3115 557.751 Q64.2096 560.946 58.5615 566.71 Z\" fill=\"#000000\" fill-rule=\"evenodd\" fill-opacity=\"1\" /><path clip-path=\"url(#clip740)\" d=\"M 0 0 M67.7513 125.049 Q71.1078 125.766 72.9827 128.035 Q74.8809 130.303 74.8809 133.637 Q74.8809 138.752 71.3624 141.553 Q67.8439 144.354 61.3624 144.354 Q59.1865 144.354 56.8717 143.914 Q54.5801 143.498 52.1264 142.641 L52.1264 138.127 Q54.0708 139.262 56.3856 139.84 Q58.7004 140.419 61.2236 140.419 Q65.6217 140.419 67.9133 138.683 Q70.2281 136.947 70.2281 133.637 Q70.2281 130.581 68.0754 128.868 Q65.9457 127.132 62.1263 127.132 L58.0986 127.132 L58.0986 123.289 L62.3115 123.289 Q65.7606 123.289 67.5893 121.924 Q69.418 120.535 69.418 117.942 Q69.418 115.28 67.5198 113.868 Q65.6448 112.433 62.1263 112.433 Q60.205 112.433 58.006 112.85 Q55.8069 113.266 53.168 114.146 L53.168 109.979 Q55.8301 109.239 58.1449 108.868 Q60.4828 108.498 62.543 108.498 Q67.867 108.498 70.9689 110.928 Q74.0707 113.336 74.0707 117.456 Q74.0707 120.327 72.4272 122.317 Q70.7837 124.285 67.7513 125.049 Z\" fill=\"#000000\" fill-rule=\"evenodd\" fill-opacity=\"1\" /><circle clip-path=\"url(#clip742)\" cx=\"899.275\" cy=\"980.327\" r=\"14\" fill=\"#009af9\" fill-rule=\"evenodd\" fill-opacity=\"0.5\" stroke=\"#000000\" stroke-opacity=\"0.5\" stroke-width=\"3.2\"/>\n",
       "<circle clip-path=\"url(#clip742)\" cx=\"1564.36\" cy=\"553.365\" r=\"14\" fill=\"#009af9\" fill-rule=\"evenodd\" fill-opacity=\"0.5\" stroke=\"#000000\" stroke-opacity=\"0.5\" stroke-width=\"3.2\"/>\n",
       "<circle clip-path=\"url(#clip742)\" cx=\"1564.36\" cy=\"553.365\" r=\"14\" fill=\"#009af9\" fill-rule=\"evenodd\" fill-opacity=\"0.5\" stroke=\"#000000\" stroke-opacity=\"0.5\" stroke-width=\"3.2\"/>\n",
       "<circle clip-path=\"url(#clip742)\" cx=\"899.275\" cy=\"980.327\" r=\"14\" fill=\"#009af9\" fill-rule=\"evenodd\" fill-opacity=\"0.5\" stroke=\"#000000\" stroke-opacity=\"0.5\" stroke-width=\"3.2\"/>\n",
       "<circle clip-path=\"url(#clip742)\" cx=\"234.188\" cy=\"553.365\" r=\"14\" fill=\"#e26f46\" fill-rule=\"evenodd\" fill-opacity=\"0.5\" stroke=\"#000000\" stroke-opacity=\"0.5\" stroke-width=\"3.2\"/>\n",
       "<circle clip-path=\"url(#clip742)\" cx=\"899.275\" cy=\"126.403\" r=\"14\" fill=\"#e26f46\" fill-rule=\"evenodd\" fill-opacity=\"0.5\" stroke=\"#000000\" stroke-opacity=\"0.5\" stroke-width=\"3.2\"/>\n",
       "<circle clip-path=\"url(#clip742)\" cx=\"2229.45\" cy=\"980.327\" r=\"14\" fill=\"#e26f46\" fill-rule=\"evenodd\" fill-opacity=\"0.5\" stroke=\"#000000\" stroke-opacity=\"0.5\" stroke-width=\"3.2\"/>\n",
       "<circle clip-path=\"url(#clip742)\" cx=\"1564.36\" cy=\"1407.29\" r=\"14\" fill=\"#e26f46\" fill-rule=\"evenodd\" fill-opacity=\"0.5\" stroke=\"#000000\" stroke-opacity=\"0.5\" stroke-width=\"3.2\"/>\n",
       "<polyline clip-path=\"url(#clip742)\" style=\"stroke:#3da44d; stroke-width:4; stroke-opacity:1; fill:none\" points=\"\n",
       "  174.33,1445.72 194.985,1432.46 385.965,1309.85 500.736,1236.17 597.774,1173.88 703.184,1106.21 800.363,1043.82 904.549,976.941 1025.26,899.45 1132.53,830.585 \n",
       "  1226.6,770.196 1329.16,704.357 1432.33,638.126 1546.4,564.899 1654.93,495.226 1767.77,422.781 1862.77,361.799 1978.74,287.346 2087.77,217.358 2262.43,105.232 \n",
       "  2289.31,87.9763 \n",
       "  \"/>\n",
       "<path clip-path=\"url(#clip740)\" d=\"\n",
       "M1977.33 337.138 L2278.03 337.138 L2278.03 95.2176 L1977.33 95.2176  Z\n",
       "  \" fill=\"#ffffff\" fill-rule=\"evenodd\" fill-opacity=\"1\"/>\n",
       "<polyline clip-path=\"url(#clip740)\" style=\"stroke:#000000; stroke-width:4; stroke-opacity:1; fill:none\" points=\"\n",
       "  1977.33,337.138 2278.03,337.138 2278.03,95.2176 1977.33,95.2176 1977.33,337.138 \n",
       "  \"/>\n",
       "<circle clip-path=\"url(#clip740)\" cx=\"2076.97\" cy=\"155.698\" r=\"23\" fill=\"#009af9\" fill-rule=\"evenodd\" fill-opacity=\"0.5\" stroke=\"#000000\" stroke-opacity=\"0.5\" stroke-width=\"5.12\"/>\n",
       "<path clip-path=\"url(#clip740)\" d=\"M 0 0 M2190.45 175.385 Q2188.65 180.015 2186.93 181.427 Q2185.22 182.839 2182.35 182.839 L2178.95 182.839 L2178.95 179.274 L2181.45 179.274 Q2183.21 179.274 2184.18 178.44 Q2185.15 177.607 2186.33 174.505 L2187.1 172.561 L2176.61 147.052 L2181.12 147.052 L2189.23 167.329 L2197.33 147.052 L2201.84 147.052 L2190.45 175.385 Z\" fill=\"#000000\" fill-rule=\"evenodd\" fill-opacity=\"1\" /><path clip-path=\"url(#clip740)\" d=\"M 0 0 M2207.72 169.042 L2215.36 169.042 L2215.36 142.677 L2207.05 144.343 L2207.05 140.084 L2215.31 138.418 L2219.99 138.418 L2219.99 169.042 L2227.63 169.042 L2227.63 172.978 L2207.72 172.978 L2207.72 169.042 Z\" fill=\"#000000\" fill-rule=\"evenodd\" fill-opacity=\"1\" /><circle clip-path=\"url(#clip740)\" cx=\"2076.97\" cy=\"216.178\" r=\"23\" fill=\"#e26f46\" fill-rule=\"evenodd\" fill-opacity=\"0.5\" stroke=\"#000000\" stroke-opacity=\"0.5\" stroke-width=\"5.12\"/>\n",
       "<path clip-path=\"url(#clip740)\" d=\"M 0 0 M2190.45 235.865 Q2188.65 240.495 2186.93 241.907 Q2185.22 243.319 2182.35 243.319 L2178.95 243.319 L2178.95 239.754 L2181.45 239.754 Q2183.21 239.754 2184.18 238.92 Q2185.15 238.087 2186.33 234.985 L2187.1 233.041 L2176.61 207.532 L2181.12 207.532 L2189.23 227.809 L2197.33 207.532 L2201.84 207.532 L2190.45 235.865 Z\" fill=\"#000000\" fill-rule=\"evenodd\" fill-opacity=\"1\" /><path clip-path=\"url(#clip740)\" d=\"M 0 0 M2210.94 229.522 L2227.26 229.522 L2227.26 233.458 L2205.31 233.458 L2205.31 229.522 Q2207.98 226.768 2212.56 222.138 Q2217.17 217.485 2218.35 216.143 Q2220.59 213.62 2221.47 211.884 Q2222.37 210.124 2222.37 208.435 Q2222.37 205.68 2220.43 203.944 Q2218.51 202.208 2215.41 202.208 Q2213.21 202.208 2210.75 202.972 Q2208.32 203.735 2205.55 205.286 L2205.55 200.564 Q2208.37 199.43 2210.82 198.851 Q2213.28 198.273 2215.31 198.273 Q2220.68 198.273 2223.88 200.958 Q2227.07 203.643 2227.07 208.134 Q2227.07 210.263 2226.26 212.185 Q2225.48 214.083 2223.37 216.675 Q2222.79 217.347 2219.69 220.564 Q2216.59 223.759 2210.94 229.522 Z\" fill=\"#000000\" fill-rule=\"evenodd\" fill-opacity=\"1\" /><polyline clip-path=\"url(#clip740)\" style=\"stroke:#3da44d; stroke-width:4; stroke-opacity:1; fill:none\" points=\"\n",
       "  2002.24,276.658 2151.7,276.658 \n",
       "  \"/>\n",
       "<path clip-path=\"url(#clip740)\" d=\"M 0 0 M2190.45 296.345 Q2188.65 300.975 2186.93 302.387 Q2185.22 303.799 2182.35 303.799 L2178.95 303.799 L2178.95 300.234 L2181.45 300.234 Q2183.21 300.234 2184.18 299.4 Q2185.15 298.567 2186.33 295.465 L2187.1 293.521 L2176.61 268.012 L2181.12 268.012 L2189.23 288.289 L2197.33 268.012 L2201.84 268.012 L2190.45 296.345 Z\" fill=\"#000000\" fill-rule=\"evenodd\" fill-opacity=\"1\" /><path clip-path=\"url(#clip740)\" d=\"M 0 0 M2221.08 275.303 Q2224.43 276.021 2226.31 278.289 Q2228.21 280.558 2228.21 283.891 Q2228.21 289.007 2224.69 291.808 Q2221.17 294.609 2214.69 294.609 Q2212.51 294.609 2210.2 294.169 Q2207.91 293.752 2205.45 292.896 L2205.45 288.382 Q2207.4 289.516 2209.71 290.095 Q2212.03 290.674 2214.55 290.674 Q2218.95 290.674 2221.24 288.938 Q2223.55 287.201 2223.55 283.891 Q2223.55 280.836 2221.4 279.123 Q2219.27 277.387 2215.45 277.387 L2211.42 277.387 L2211.42 273.544 L2215.64 273.544 Q2219.09 273.544 2220.92 272.178 Q2222.74 270.79 2222.74 268.197 Q2222.74 265.535 2220.85 264.123 Q2218.97 262.688 2215.45 262.688 Q2213.53 262.688 2211.33 263.104 Q2209.13 263.521 2206.49 264.401 L2206.49 260.234 Q2209.16 259.493 2211.47 259.123 Q2213.81 258.753 2215.87 258.753 Q2221.19 258.753 2224.3 261.183 Q2227.4 263.59 2227.4 267.711 Q2227.4 270.581 2225.75 272.572 Q2224.11 274.54 2221.08 275.303 Z\" fill=\"#000000\" fill-rule=\"evenodd\" fill-opacity=\"1\" /></svg>\n"
      ]
     },
     "execution_count": 282,
     "metadata": {},
     "output_type": "execute_result"
    }
   ],
   "source": [
    "m = b*c'\n",
    "p = scatter(m[1,:], m[2,:], alpha=0.5)\n",
    "scatter!(p, A[1,:], A[2,:], alpha=0.5)\n",
    "\n",
    "f(x) = b[2]*x/b[1]\n",
    "\n",
    "plot!(p, f)"
   ]
  },
  {
   "attachments": {
    "bandeiraGrecia.png": {
     "image/png": "[encoded data removed]"
    }
   },
   "cell_type": "markdown",
   "id": "4c2c0b4f",
   "metadata": {},
   "source": [
    "## Questão 6.\n",
    "\n",
    "### Considere a bandeira da Grécia como uma imagem preta e branca e modele com uma matriz A.\n",
    "\n",
    "Para modelarmos a bandeira da grécia como uma matriz, consideraremos a seguinte imagem, que preparei com muito carinho:\n",
    "\n",
    "![bandeiraGrecia.png](attachment:bandeiraGrecia.png)\n",
    "\n",
    "Logo teremos \n",
    "\n",
    "$$A = \n",
    "\\begin{bmatrix} \n",
    "    1 & 1 & 0 & 1 & 1 & 1 & 1 & 1 & 1 & 1 & 1 & 1 & 1 & 1 \\\\\n",
    "    1 & 1 & 0 & 1 & 1 & 0 & 0 & 0 & 0 & 0 & 0 & 0 & 0 & 0 \\\\\n",
    "    0 & 0 & 0 & 0 & 0 & 1 & 1 & 1 & 1 & 1 & 1 & 1 & 1 & 1 \\\\\n",
    "    1 & 1 & 0 & 1 & 1 & 0 & 0 & 0 & 0 & 0 & 0 & 0 & 0 & 0 \\\\\n",
    "    1 & 1 & 0 & 1 & 1 & 1 & 1 & 1 & 1 & 1 & 1 & 1 & 1 & 1 \\\\\n",
    "    0 & 0 & 0 & 0 & 0 & 0 & 0 & 0 & 0 & 0 & 0 & 0 & 0 & 0 \\\\\n",
    "    1 & 1 & 1 & 1 & 1 & 1 & 1 & 1 & 1 & 1 & 1 & 1 & 1 & 1 \\\\\n",
    "    0 & 0 & 0 & 0 & 0 & 0 & 0 & 0 & 0 & 0 & 0 & 0 & 0 & 0 \\\\\n",
    "    1 & 1 & 1 & 1 & 1 & 1 & 1 & 1 & 1 & 1 & 1 & 1 & 1 & 1 \\\\\n",
    "\\end{bmatrix}\n",
    "$$\n",
    "\n",
    "#### (a) Qual é o posto da bandeira da Grécia (tal que $A = BC^t$)? O que a matriz $B$ e matriz $C^t$ representam nesse caso? Explique com as suas próprias palavras.\n",
    "\n",
    "$A = \n",
    "\\begin{bmatrix} \n",
    "    1 & 1 & 0 & 1 & 1 & 1 & 1 & 1 & 1 & 1 & 1 & 1 & 1 & 1 \\\\\n",
    "    1 & 1 & 0 & 1 & 1 & 0 & 0 & 0 & 0 & 0 & 0 & 0 & 0 & 0 \\\\\n",
    "    0 & 0 & 0 & 0 & 0 & 1 & 1 & 1 & 1 & 1 & 1 & 1 & 1 & 1 \\\\\n",
    "    1 & 1 & 0 & 1 & 1 & 0 & 0 & 0 & 0 & 0 & 0 & 0 & 0 & 0 \\\\\n",
    "    1 & 1 & 0 & 1 & 1 & 1 & 1 & 1 & 1 & 1 & 1 & 1 & 1 & 1 \\\\\n",
    "    0 & 0 & 0 & 0 & 0 & 0 & 0 & 0 & 0 & 0 & 0 & 0 & 0 & 0 \\\\\n",
    "    1 & 1 & 1 & 1 & 1 & 1 & 1 & 1 & 1 & 1 & 1 & 1 & 1 & 1 \\\\\n",
    "    0 & 0 & 0 & 0 & 0 & 0 & 0 & 0 & 0 & 0 & 0 & 0 & 0 & 0 \\\\\n",
    "    1 & 1 & 1 & 1 & 1 & 1 & 1 & 1 & 1 & 1 & 1 & 1 & 1 & 1 \\\\\n",
    "\\end{bmatrix} \n",
    "=\n",
    "\\begin{bmatrix}\n",
    "    1 & 0 & 1 \\\\\n",
    "    1 & 0 & 0 \\\\\n",
    "    0 & 0 & 1 \\\\\n",
    "    1 & 0 & 0 \\\\\n",
    "    1 & 0 & 1 \\\\\n",
    "    0 & 0 & 0 \\\\\n",
    "    1 & 1 & 1 \\\\\n",
    "    0 & 0 & 0 \\\\\n",
    "    1 & 1 & 1 \\\\\n",
    "\\end{bmatrix}\n",
    "\\begin{bmatrix}\n",
    "    1 & 1 & 0 & 1 & 1 & 0 & 0 & 0 & 0 & 0 & 0 & 0 & 0 & 0 \\\\\n",
    "    0 & 0 & 1 & 0 & 0 & 0 & 0 & 0 & 0 & 0 & 0 & 0 & 0 & 0 \\\\\n",
    "    0 & 0 & 0 & 0 & 0 & 1 & 1 & 1 & 1 & 1 & 1 & 1 & 1 & 1 \\\\\n",
    "\\end{bmatrix}\n",
    "$\n",
    "\n",
    "A matriz $B$ representaria as diferentes \"colunas\" que a bandeira tem, que, nesse caso, são $3$, o nosso posto. $C^t$ por consequência representaria a ordem das \"colunas\" na bandeira.\n",
    "\n",
    "#### (b) Determine dois países tais quais sua bandeira tem posto = 1?\n",
    "\n",
    "Para posto = 1, podemos pensar em bandeiras horizontais, como Ucrânia, Rússia, Iémen, Indonésia, ...\n",
    "\n",
    "#### (c) Determine dois países tais quais sua bandeira tem posto = 2?\n",
    "\n",
    "Para posto = 2, podemos pensar em bandeiras horizontais, porém com algum detalhe simples vertical, como Dinamarca, Finlândia, Suécia, ...\n",
    "\n",
    "#### (c) Determine dois países tais quais sua bandeira tem posto = 3?\n",
    "\n",
    "Para posto = 3, podemos pensar em bandeiras verticais com três cores, como Bélgica, França, Chade, Guinea, ...\n",
    "\n",
    "##### Super interessante pensar nos postos para bandeiras complicadas como a do Brasil, Japão, Arábia Saudita, ..."
   ]
  },
  {
   "cell_type": "code",
   "execution_count": null,
   "id": "fb96fa7f",
   "metadata": {},
   "outputs": [],
   "source": []
  },
  {
   "cell_type": "markdown",
   "id": "f2c983f2",
   "metadata": {},
   "source": [
    "## Questão 7."
   ]
  },
  {
   "cell_type": "markdown",
   "id": "72197e10",
   "metadata": {},
   "source": [
    "Primeiro, fazemos a inserção da imagem:"
   ]
  },
  {
   "cell_type": "code",
   "execution_count": 283,
   "id": "225580d5",
   "metadata": {},
   "outputs": [
    {
     "data": {
      "image/svg+xml": [
       "<?xml version=\"1.0\" encoding=\"utf-8\"?>\n",
       "<svg xmlns=\"http://www.w3.org/2000/svg\" xmlns:xlink=\"http://www.w3.org/1999/xlink\" width=\"150\" height=\"150\" viewBox=\"0 0 600 600\">\n",
       "<defs>\n",
       "  <clipPath id=\"clip770\">\n",
       "    <rect x=\"0\" y=\"0\" width=\"600\" height=\"600\"/>\n",
       "  </clipPath>\n",
       "</defs>\n",
       "<path clip-path=\"url(#clip770)\" d=\"\n",
       "M0 600 L600 600 L600 0 L0 0  Z\n",
       "  \" fill=\"#ffffff\" fill-rule=\"evenodd\" fill-opacity=\"1\"/>\n",
       "<defs>\n",
       "  <clipPath id=\"clip771\">\n",
       "    <rect x=\"120\" y=\"60\" width=\"421\" height=\"421\"/>\n",
       "  </clipPath>\n",
       "</defs>\n",
       "<path clip-path=\"url(#clip770)\" d=\"\n",
       "M47.2441 552.756 L552.756 552.756 L552.756 47.2441 L47.2441 47.2441  Z\n",
       "  \" fill=\"#ffffff\" fill-rule=\"evenodd\" fill-opacity=\"1\"/>\n",
       "<defs>\n",
       "  <clipPath id=\"clip772\">\n",
       "    <rect x=\"47\" y=\"47\" width=\"507\" height=\"507\"/>\n",
       "  </clipPath>\n",
       "</defs>\n",
       "<polyline clip-path=\"url(#clip770)\" style=\"stroke:#000000; stroke-width:4; stroke-opacity:1; fill:none\" points=\"\n",
       "  47.2441,552.756 552.756,552.756 \n",
       "  \"/>\n",
       "<polyline clip-path=\"url(#clip770)\" style=\"stroke:#000000; stroke-width:4; stroke-opacity:1; fill:none\" points=\"\n",
       "  47.2441,47.2441 47.2441,552.756 \n",
       "  \"/>\n",
       "<g clip-path=\"url(#clip772)\">\n",
       "<image width=\"506\" height=\"506\" xlink:href=\"data:image/png;base64,\n",
       "iVBORw0KGgoAAAANSUhEUgAAAfoAAAH6CAYAAADvFY5JAAAIR0lEQVR4nO3XQWoEMRAEwZHZj8/L\n",
       "2/fxgvHBSJtEvKBANInWzMzFcdZauyfw4FTO407O407O87V7AADwf4QeAMKEHgDChB4AwoQeAMKE\n",
       "HgDChB4AwoQeAMKEHgDChB4AwoQeAMKEHgDChB4AwoQeAMKEHgDChB4AwoQeAMKEHgDChB4AwoQe\n",
       "AMKEHgDChB4AwoQeAMKEHgDChB4AwoQeAMKEHgDChB4AwoQeAMKEHgDChB4AwoQeAMKEHgDChB4A\n",
       "woQeAMKEHgDChB4AwoQeAMKEHgDChB4AwoQeAMKEHgDChB4AwoQeAMKEHgDChB4AwoQeAMKEHgDC\n",
       "hB4AwoQeAMKEHgDChB4AwoQeAMKEHgDChB4AwoQeAMKEHgDChB4AwoQeAMKEHgDChB4AwoQeAMKE\n",
       "HgDChB4AwoQeAMKEHgDChB4AwoQeAMKEHgDChB4AwoQeAMKEHgDChB4AwoQeAMKEHgDChB4AwoQe\n",
       "AMKEHgDChB4AwoQeAMKEHgDChB4AwoQeAMKEHgDChB4AwoQeAMKEHgDChB4AwoQeAMKEHgDChB4A\n",
       "woQeAMKEHgDChB4AwoQeAMKEHgDChB4AwoQeAMKEHgDChB4AwoQeAMKEHgDChB4AwoQeAMKEHgDC\n",
       "hB4AwoQeAMKEHgDChB4AwoQeAMKEHgDChB4AwoQeAMKEHgDChB4AwoQeAMKEHgDChB4AwoQeAMKE\n",
       "HgDChB4AwoQeAMKEHgDChB4AwoQeAMKEHgDChB4AwoQeAMKEHgDChB4AwoQeAMKEHgDChB4AwoQe\n",
       "AMKEHgDChB4AwoQeAMKEHgDChB4AwoQeAMKEHgDChB4AwoQeAMKEHgDChB4AwoQeAMKEHgDChB4A\n",
       "woQeAMKEHgDChB4AwoQeAMKEHgDChB4AwoQeAMKEHgDChB4AwoQeAMKEHgDChB4AwoQeAMKEHgDC\n",
       "hB4AwoQeAMKEHgDChB4AwoQeAMKEHgDChB4AwoQeAMKEHgDChB4AwoQeAMKEHgDChB4AwoQeAMKE\n",
       "HgDChB4AwoQeAMKEHgDChB4AwoQeAMKEHgDChB4AwoQeAMKEHgDChB4AwoQeAMKEHgDChB4AwoQe\n",
       "AMKEHgDChB4AwoQeAMKEHgDChB4AwoQeAMKEHgDChB4AwoQeAMKEHgDChB4Awl67B/DezOyewMN9\n",
       "37sn8OBO4Hd+9AAQJvQAECb0ABAm9AAQJvQAECb0ABAm9AAQJvQAECb0ABAm9AAQJvQAECb0ABAm\n",
       "9AAQJvQAECb0ABAm9AAQJvQAECb0ABAm9AAQJvQAECb0ABAm9AAQJvQAECb0ABAm9AAQJvQAECb0\n",
       "ABAm9AAQJvQAECb0ABAm9AAQJvQAECb0ABAm9AAQJvQAECb0ABAm9AAQJvQAECb0ABAm9AAQJvQA\n",
       "ECb0ABAm9AAQJvQAECb0ABAm9AAQJvQAECb0ABAm9AAQJvQAECb0ABAm9AAQJvQAECb0ABAm9AAQ\n",
       "JvQAECb0ABAm9AAQJvQAECb0ABAm9AAQJvQAECb0ABAm9AAQJvQAECb0ABAm9AAQJvQAECb0ABAm\n",
       "9AAQJvQAECb0ABAm9AAQJvQAECb0ABAm9AAQJvQAECb0ABAm9AAQJvQAECb0ABAm9AAQJvQAECb0\n",
       "ABAm9AAQJvQAECb0ABAm9AAQJvQAECb0ABAm9AAQJvQAECb0ABAm9AAQJvQAECb0ABAm9AAQJvQA\n",
       "ECb0ABAm9AAQtq7rmt0j+GnGswCfZ621ewIPfvQAECb0ABAm9AAQJvQAECb0ABAm9AAQJvQAECb0\n",
       "ABAm9AAQJvQAECb0ABAm9AAQJvQAECb0ABAm9AAQJvQAECb0ABAm9AAQJvQAECb0ABAm9AAQJvQA\n",
       "ECb0ABAm9AAQJvQAECb0ABAm9AAQJvQAECb0ABAm9AAQJvQAECb0ABAm9AAQJvQAECb0ABAm9AAQ\n",
       "JvQAECb0ABAm9AAQJvQAECb0ABAm9AAQJvQAECb0ABAm9AAQJvQAECb0ABAm9AAQJvQAECb0ABAm\n",
       "9AAQJvQAECb0ABAm9AAQJvQAECb0ABAm9AAQJvQAECb0ABAm9AAQJvQAECb0ABAm9AAQJvQAECb0\n",
       "ABAm9AAQJvQAECb0ABAm9AAQJvQAECb0ABAm9AAQJvQAECb0ABAm9AAQJvQAECb0ABAm9AAQJvQA\n",
       "ECb0ABAm9AAQJvQAECb0ABAm9AAQJvQAECb0ABAm9AAQJvQAECb0ABAm9AAQJvQAECb0ABAm9AAQ\n",
       "JvQAECb0ABAm9AAQJvQAECb0ABAm9AAQJvQAEPaamd0beGOttXsCwJ9pynn86AEgTOgBIEzoASBM\n",
       "6AEgTOgBIEzoASBM6AEgTOgBIEzoASBM6AEgTOgBIEzoASBM6AEgTOgBIEzoASBM6AEgTOgBIEzo\n",
       "ASBM6AEgTOgBIEzoASBM6AEgTOgBIEzoASBM6AEgTOgBIEzoASBM6AEgTOgBIEzoASBM6AEgTOgB\n",
       "IEzoASBM6AEgTOgBIEzoASBM6AEgTOgBIEzoASBM6AEgTOgBIEzoASBM6AEgTOgBIEzoASBM6AEg\n",
       "TOgBIEzoASBM6AEgTOgBIEzoASBM6AEgTOgBIEzoASBM6AEgTOgBIEzoASBM6AEgTOgBIEzoASBM\n",
       "6AEgTOgBIEzoASBM6AEgTOgBIEzoASBM6AEgTOgBIEzoASBM6AEgTOgBIEzoASBM6AEgTOgBIEzo\n",
       "ASBM6AEgTOgBIEzoASBM6AEgTOgBIEzoASBM6AEgTOgBIEzoASBM6AEgTOgBIEzoASBM6AEgTOgB\n",
       "IEzoASBM6AEgTOgBIEzoASBM6AEgTOgBIEzoASBM6AEgTOgBIEzoASBM6AEg7Bv8Dh9sZx/SMQAA\n",
       "AABJRU5ErkJggg==\n",
       "\" transform=\"translate(47, 47)\"/>\n",
       "</g>\n",
       "</svg>\n"
      ]
     },
     "execution_count": 283,
     "metadata": {},
     "output_type": "execute_result"
    }
   ],
   "source": [
    "imagem = [0 1 0 1 0 ; 0 1 0 1 0 ; 0 0 0.5 0 0 ; 1 0 0 0 1 ; 0 1 1 1 0]\n",
    "plot(Gray.(1 .- imagem), size=(150,150), axis=nothing)"
   ]
  },
  {
   "cell_type": "markdown",
   "id": "4dfa3da4",
   "metadata": {},
   "source": [
    "Podemos descobrir o posto da imagem através da função rank:"
   ]
  },
  {
   "cell_type": "code",
   "execution_count": 284,
   "id": "ab07fe8e",
   "metadata": {},
   "outputs": [
    {
     "data": {
      "text/plain": [
       "3"
      ]
     },
     "execution_count": 284,
     "metadata": {},
     "output_type": "execute_result"
    }
   ],
   "source": [
    "rank(imagem)"
   ]
  },
  {
   "cell_type": "markdown",
   "id": "c2abbaa2",
   "metadata": {},
   "source": [
    "Para níveis de compressão abaixo do posto da imagem, a nitidez é prejudicada:"
   ]
  },
  {
   "cell_type": "code",
   "execution_count": 285,
   "id": "18b87614",
   "metadata": {},
   "outputs": [
    {
     "data": {
      "image/svg+xml": [
       "<?xml version=\"1.0\" encoding=\"utf-8\"?>\n",
       "<svg xmlns=\"http://www.w3.org/2000/svg\" xmlns:xlink=\"http://www.w3.org/1999/xlink\" width=\"150\" height=\"150\" viewBox=\"0 0 600 600\">\n",
       "<defs>\n",
       "  <clipPath id=\"clip800\">\n",
       "    <rect x=\"0\" y=\"0\" width=\"600\" height=\"600\"/>\n",
       "  </clipPath>\n",
       "</defs>\n",
       "<path clip-path=\"url(#clip800)\" d=\"\n",
       "M0 600 L600 600 L600 0 L0 0  Z\n",
       "  \" fill=\"#ffffff\" fill-rule=\"evenodd\" fill-opacity=\"1\"/>\n",
       "<defs>\n",
       "  <clipPath id=\"clip801\">\n",
       "    <rect x=\"120\" y=\"60\" width=\"421\" height=\"421\"/>\n",
       "  </clipPath>\n",
       "</defs>\n",
       "<path clip-path=\"url(#clip800)\" d=\"\n",
       "M47.2441 552.756 L552.756 552.756 L552.756 47.2441 L47.2441 47.2441  Z\n",
       "  \" fill=\"#ffffff\" fill-rule=\"evenodd\" fill-opacity=\"1\"/>\n",
       "<defs>\n",
       "  <clipPath id=\"clip802\">\n",
       "    <rect x=\"47\" y=\"47\" width=\"507\" height=\"507\"/>\n",
       "  </clipPath>\n",
       "</defs>\n",
       "<polyline clip-path=\"url(#clip800)\" style=\"stroke:#000000; stroke-width:4; stroke-opacity:1; fill:none\" points=\"\n",
       "  47.2441,552.756 552.756,552.756 \n",
       "  \"/>\n",
       "<polyline clip-path=\"url(#clip800)\" style=\"stroke:#000000; stroke-width:4; stroke-opacity:1; fill:none\" points=\"\n",
       "  47.2441,47.2441 47.2441,552.756 \n",
       "  \"/>\n",
       "<g clip-path=\"url(#clip802)\">\n",
       "<image width=\"506\" height=\"506\" xlink:href=\"data:image/png;base64,\n",
       "iVBORw0KGgoAAAANSUhEUgAAAfoAAAH6CAYAAADvFY5JAAAIY0lEQVR4nO3XsU0DURREURYRO3Hg\n",
       "MreWLdOBEzfwyT+k6KGrcyqY7GqOtdb64N+53+/TE9hc1zU9gc15ntMT2Lxer+kJbD6nBwAAf0fo\n",
       "ASBM6AEgTOgBIEzoASBM6AEgTOgBIEzoASBM6AEgTOgBIEzoASBM6AEgTOgBIEzoASBM6AEgTOgB\n",
       "IEzoASBM6AEgTOgBIEzoASBM6AEgTOgBIEzoASBM6AEgTOgBIEzoASBM6AEgTOgBIEzoASBM6AEg\n",
       "TOgBIEzoASBM6AEgTOgBIEzoASBM6AEgTOgBIEzoASBM6AEgTOgBIEzoASBM6AEgTOgBIEzoASBM\n",
       "6AEgTOgBIEzoASBM6AEgTOgBIEzoASBM6AEgTOgBIEzoASBM6AEgTOgBIEzoASBM6AEgTOgBIEzo\n",
       "ASBM6AEgTOgBIEzoASBM6AEgTOgBIEzoASBM6AEgTOgBIEzoASBM6AEgTOgBIEzoASBM6AEgTOgB\n",
       "IEzoASBM6AEgTOgBIEzoASBM6AEgTOgBIEzoASBM6AEgTOgBIEzoASBM6AEgTOgBIEzoASBM6AEg\n",
       "TOgBIEzoASBM6AEgTOgBIEzoASBM6AEgTOgBIEzoASBM6AEgTOgBIEzoASBM6AEgTOgBIEzoASBM\n",
       "6AEgTOgBIEzoASBM6AEgTOgBIEzoASBM6AEgTOgBIEzoASBM6AEgTOgBIEzoASBM6AEgTOgBIEzo\n",
       "ASBM6AEgTOgBIEzoASBM6AEgTOgBIEzoASBM6AEgTOgBIEzoASBM6AEgTOgBIEzoASBM6AEgTOgB\n",
       "IEzoASBM6AEgTOgBIEzoASBM6AEgTOgBIEzoASBM6AEgTOgBIEzoASBM6AEgTOgBIEzoASBM6AEg\n",
       "TOgBIEzoASBM6AEgTOgBIEzoASBM6AEgTOgBIEzoASBM6AEgTOgBIEzoASBM6AEgTOgBIEzoASBM\n",
       "6AEgTOgBIEzoASBM6AEgTOgBIEzoASBM6AEgTOgBIEzoASBM6AEgTOgBIEzoASBM6AEgTOgBIEzo\n",
       "ASBM6AEgTOgBIEzoASBM6AEgTOgBIEzoASBM6AEgTOgBIEzoASBM6AEgTOgBIEzoASBM6AEgTOgB\n",
       "IEzoASBM6AEgTOgBIEzoASBM6AEgTOgBIEzoASBM6AEgTOgBIEzoASBM6AEgTOgBIEzoASBM6AEg\n",
       "TOgBIOxYa63pEfz0fD6nJ7C53W7TE9i83+/pCWwej8f0BDYePQCECT0AhAk9AIQJPQCECT0AhAk9\n",
       "AIQJPQCECT0AhAk9AIQJPQCECT0AhAk9AIQJPQCECT0AhAk9AIQJPQCECT0AhAk9AIQJPQCECT0A\n",
       "hAk9AIQJPQCECT0AhAk9AIQJPQCECT0AhAk9AIQJPQCECT0AhAk9AIQJPQCECT0AhAk9AIQJPQCE\n",
       "CT0AhAk9AIQJPQCECT0AhAk9AIQJPQCECT0AhAk9AIQJPQCECT0AhAk9AIQJPQCECT0AhAk9AIQJ\n",
       "PQCECT0AhAk9AIQJPQCECT0AhAk9AIQJPQCECT0AhAk9AIQJPQCECT0AhAk9AIQJPQCECT0AhAk9\n",
       "AIQJPQCECT0AhAk9AIQJPQCECT0AhAk9AIQJPQCECT0AhAk9AIQJPQCECT0AhAk9AIQJPQCECT0A\n",
       "hAk9AIQJPQCECT0AhAk9AIQJPQCECT0AhAk9AIQJPQCECT0AhAk9AIQJPQCECT0AhAk9AIQJPQCE\n",
       "CT0AhAk9AIQJPQCECT0AhAk9AIQJPQCECT0AhAk9AIQJPQCEHWutNT0CAPgbHj0AhAk9AIQJPQCE\n",
       "CT0AhAk9AIQJPQCECT0AhAk9AIQJPQCECT0AhAk9AIQJPQCECT0AhAk9AIQJPQCECT0AhAk9AIQJ\n",
       "PQCECT0AhAk9AIQJPQCECT0AhAk9AIQJPQCECT0AhAk9AIQJPQCECT0AhAk9AIQJPQCECT0AhAk9\n",
       "AIQJPQCECT0AhAk9AIQJPQCECT0AhAk9AIQJPQCECT0AhAk9AIQJPQCECT0AhAk9AIQJPQCECT0A\n",
       "hAk9AIQJPQCECT0AhAk9AIQJPQCECT0AhAk9AIQJPQCECT0AhAk9AIQJPQCECT0AhAk9AIQJPQCE\n",
       "CT0AhAk9AIQJPQCECT0AhAk9AIQJPQCECT0AhAk9AIQJPQCECT0AhAk9AIQJPQCECT0AhAk9AIQJ\n",
       "PQCECT0AhAk9AIQJPQCECT0AhAk9AIQJPQCECT0AhAk9AIQJPQCECT0AhAk9AIQJPQCECT0AhAk9\n",
       "AIQJPQCECT0AhAk9AIQJPQCECT0AhAk9AIQJPQCECT0AhAk9AIQJPQCECT0AhH1ND+B3x3FMT2Bz\n",
       "Xdf0BDbneU5PYLPWmp7AxqMHgDChB4AwoQeAMKEHgDChB4AwoQeAMKEHgDChB4AwoQeAMKEHgDCh\n",
       "B4AwoQeAMKEHgDChB4AwoQeAMKEHgDChB4AwoQeAMKEHgDChB4AwoQeAMKEHgDChB4AwoQeAMKEH\n",
       "gDChB4AwoQeAMKEHgDChB4AwoQeAMKEHgDChB4AwoQeAMKEHgDChB4AwoQeAMKEHgDChB4AwoQeA\n",
       "MKEHgDChB4AwoQeAMKEHgDChB4AwoQeAMKEHgDChB4AwoQeAMKEHgDChB4AwoQeAMKEHgDChB4Aw\n",
       "oQeAMKEHgDChB4AwoQeAMKEHgDChB4AwoQeAMKEHgDChB4AwoQeAMKEHgDChB4AwoQeAMKEHgDCh\n",
       "B4AwoQeAMKEHgDChB4AwoQeAMKEHgDChB4AwoQeAMKEHgDChB4AwoQeAMKEHgDChB4AwoQeAMKEH\n",
       "gDChB4AwoQeAMKEHgDChB4AwoQeAMKEHgDChB4AwoQeAMKEHgDChB4AwoQeAMKEHgDChB4AwoQeA\n",
       "MKEHgDChB4AwoQeAMKEHgLBvYpAh6ILrj2UAAAAASUVORK5CYII=\n",
       "\" transform=\"translate(47, 47)\"/>\n",
       "</g>\n",
       "</svg>\n"
      ]
     },
     "execution_count": 285,
     "metadata": {},
     "output_type": "execute_result"
    }
   ],
   "source": [
    "B,c = compressao(imagem, 1)\n",
    "plot(Gray.(1 .- B*c'), size=(150,150), axis=nothing)"
   ]
  },
  {
   "cell_type": "code",
   "execution_count": 286,
   "id": "af720b4b",
   "metadata": {},
   "outputs": [
    {
     "data": {
      "image/svg+xml": [
       "<?xml version=\"1.0\" encoding=\"utf-8\"?>\n",
       "<svg xmlns=\"http://www.w3.org/2000/svg\" xmlns:xlink=\"http://www.w3.org/1999/xlink\" width=\"150\" height=\"150\" viewBox=\"0 0 600 600\">\n",
       "<defs>\n",
       "  <clipPath id=\"clip830\">\n",
       "    <rect x=\"0\" y=\"0\" width=\"600\" height=\"600\"/>\n",
       "  </clipPath>\n",
       "</defs>\n",
       "<path clip-path=\"url(#clip830)\" d=\"\n",
       "M0 600 L600 600 L600 0 L0 0  Z\n",
       "  \" fill=\"#ffffff\" fill-rule=\"evenodd\" fill-opacity=\"1\"/>\n",
       "<defs>\n",
       "  <clipPath id=\"clip831\">\n",
       "    <rect x=\"120\" y=\"60\" width=\"421\" height=\"421\"/>\n",
       "  </clipPath>\n",
       "</defs>\n",
       "<path clip-path=\"url(#clip830)\" d=\"\n",
       "M47.2441 552.756 L552.756 552.756 L552.756 47.2441 L47.2441 47.2441  Z\n",
       "  \" fill=\"#ffffff\" fill-rule=\"evenodd\" fill-opacity=\"1\"/>\n",
       "<defs>\n",
       "  <clipPath id=\"clip832\">\n",
       "    <rect x=\"47\" y=\"47\" width=\"507\" height=\"507\"/>\n",
       "  </clipPath>\n",
       "</defs>\n",
       "<polyline clip-path=\"url(#clip830)\" style=\"stroke:#000000; stroke-width:4; stroke-opacity:1; fill:none\" points=\"\n",
       "  47.2441,552.756 552.756,552.756 \n",
       "  \"/>\n",
       "<polyline clip-path=\"url(#clip830)\" style=\"stroke:#000000; stroke-width:4; stroke-opacity:1; fill:none\" points=\"\n",
       "  47.2441,47.2441 47.2441,552.756 \n",
       "  \"/>\n",
       "<g clip-path=\"url(#clip832)\">\n",
       "<image width=\"506\" height=\"506\" xlink:href=\"data:image/png;base64,\n",
       "iVBORw0KGgoAAAANSUhEUgAAAfoAAAH6CAYAAADvFY5JAAAIb0lEQVR4nO3XsW1CQRRFQdZyTEJA\n",
       "mb+WXyYBCQ2s88WptfhopoIrveDojTnnvPBxbrfb7gkszvPcPYHFcRy7J7B4Pp+7J7D42j0AAPg7\n",
       "Qg8AYUIPAGFCDwBhQg8AYUIPAGFCDwBhQg8AYUIPAGFCDwBhQg8AYUIPAGFCDwBhQg8AYUIPAGFC\n",
       "DwBhQg8AYUIPAGFCDwBhQg8AYUIPAGFCDwBhQg8AYUIPAGFCDwBhQg8AYUIPAGFCDwBhQg8AYUIP\n",
       "AGFCDwBhQg8AYUIPAGFCDwBhQg8AYUIPAGFCDwBhQg8AYUIPAGFCDwBhQg8AYUIPAGFCDwBhQg8A\n",
       "YUIPAGFCDwBhQg8AYUIPAGFCDwBhQg8AYUIPAGFCDwBhQg8AYUIPAGFCDwBhQg8AYUIPAGFCDwBh\n",
       "Qg8AYUIPAGFCDwBhQg8AYUIPAGFCDwBhQg8AYUIPAGFCDwBhQg8AYUIPAGFCDwBhQg8AYUIPAGFC\n",
       "DwBhQg8AYUIPAGFCDwBhQg8AYUIPAGFCDwBhQg8AYUIPAGFCDwBhQg8AYUIPAGFCDwBhQg8AYUIP\n",
       "AGFCDwBhQg8AYUIPAGFCDwBhQg8AYUIPAGFCDwBhQg8AYUIPAGFCDwBhQg8AYUIPAGFCDwBhQg8A\n",
       "YUIPAGFCDwBhQg8AYUIPAGFCDwBhQg8AYUIPAGFCDwBhQg8AYUIPAGFCDwBhQg8AYUIPAGFCDwBh\n",
       "Qg8AYUIPAGFCDwBhQg8AYUIPAGFCDwBhQg8AYUIPAGFCDwBhQg8AYUIPAGFCDwBhQg8AYUIPAGFC\n",
       "DwBhQg8AYUIPAGFCDwBhQg8AYUIPAGFCDwBhQg8AYUIPAGFCDwBhQg8AYUIPAGFCDwBhQg8AYUIP\n",
       "AGFCDwBhQg8AYUIPAGFCDwBhQg8AYUIPAGFCDwBhQg8AYUIPAGFCDwBhQg8AYUIPAGFCDwBhQg8A\n",
       "YUIPAGFCDwBhQg8AYUIPAGFCDwBhQg8AYUIPAGFCDwBhQg8AYUIPAGFCDwBhQg8AYUIPAGFCDwBh\n",
       "Qg8AYUIPAGFCDwBhQg8AYUIPAGFCDwBhQg8AYUIPAGFCDwBhQg8AYUIPAGFCDwBhQg8AYUIPAGFC\n",
       "DwBhQg8AYUIPAGFCDwBhQg8AYUIPAGFCDwBhQg8AYUIPAGFCDwBhQg8AYUIPAGFCDwBhQg8AYUIP\n",
       "AGFCDwBhY845d4/g3ePx2D2BxfV63T2Bxev12j2Bxf1+3z2BhY8eAMKEHgDChB4AwoQeAMKEHgDC\n",
       "hB4AwoQeAMKEHgDChB4AwoQeAMKEHgDChB4AwoQeAMKEHgDChB4AwoQeAMKEHgDChB4AwoQeAMKE\n",
       "HgDChB4AwoQeAMKEHgDChB4AwoQeAMKEHgDChB4AwoQeAMKEHgDChB4AwoQeAMKEHgDChB4AwoQe\n",
       "AMKEHgDChB4AwoQeAMKEHgDChB4AwoQeAMKEHgDChB4AwoQeAMKEHgDChB4AwoQeAMKEHgDChB4A\n",
       "woQeAMKEHgDChB4AwoQeAMKEHgDChB4AwoQeAMKEHgDChB4AwoQeAMKEHgDChB4AwoQeAMKEHgDC\n",
       "hB4AwoQeAMKEHgDChB4AwoQeAMKEHgDChB4AwoQeAMKEHgDChB4AwoQeAMKEHgDChB4AwoQeAMKE\n",
       "HgDChB4AwoQeAMKEHgDChB4AwoQeAMKEHgDChB4AwoQeAMKEHgDChB4AwoQeAMKEHgDChB4AwoQe\n",
       "AMKEHgDChB4AwoQeAMKEHgDChB4AwoQeAMKEHgDChB4AwoQeAMLG5XKZu0fwbk5nAf6fMcbuCSx8\n",
       "9AAQJvQAECb0ABAm9AAQJvQAECb0ABAm9AAQJvQAECb0ABAm9AAQJvQAECb0ABAm9AAQJvQAECb0\n",
       "ABAm9AAQJvQAECb0ABAm9AAQJvQAECb0ABAm9AAQJvQAECb0ABAm9AAQJvQAECb0ABAm9AAQJvQA\n",
       "ECb0ABAm9AAQJvQAECb0ABAm9AAQJvQAECb0ABAm9AAQJvQAECb0ABAm9AAQJvQAECb0ABAm9AAQ\n",
       "JvQAECb0ABAm9AAQJvQAECb0ABAm9AAQJvQAECb0ABAm9AAQJvQAECb0ABAm9AAQJvQAECb0ABAm\n",
       "9AAQJvQAECb0ABAm9AAQJvQAECb0ABAm9AAQJvQAECb0ABAm9AAQJvQAECb0ABAm9AAQJvQAECb0\n",
       "ABAm9AAQJvQAECb0ABAm9AAQJvQAECb0ABAm9AAQJvQAECb0ABAm9AAQJvQAECb0ABAm9AAQJvQA\n",
       "ECb0ABAm9AAQJvQAECb0ABAm9AAQJvQAECb0ABAm9AAQJvQAECb0ABAm9AAQJvQAECb0ABAm9AAQ\n",
       "9j3n3L2BX4wxdk9gcZ7n7gksjuPYPYGFpnweHz0AhAk9AIQJPQCECT0AhAk9AIQJPQCECT0AhAk9\n",
       "AIQJPQCECT0AhAk9AIQJPQCECT0AhAk9AIQJPQCECT0AhAk9AIQJPQCECT0AhAk9AIQJPQCECT0A\n",
       "hAk9AIQJPQCECT0AhAk9AIQJPQCECT0AhAk9AIQJPQCECT0AhAk9AIQJPQCECT0AhAk9AIQJPQCE\n",
       "CT0AhAk9AIQJPQCECT0AhAk9AIQJPQCECT0AhAk9AIQJPQCECT0AhAk9AIQJPQCECT0AhAk9AIQJ\n",
       "PQCECT0AhAk9AIQJPQCECT0AhAk9AIQJPQCECT0AhAk9AIQJPQCECT0AhAk9AIQJPQCECT0AhAk9\n",
       "AIQJPQCECT0AhAk9AIQJPQCECT0AhAk9AIQJPQCECT0AhAk9AIQJPQCECT0AhAk9AIQJPQCECT0A\n",
       "hAk9AIQJPQCECT0AhAk9AIQJPQCECT0AhAk9AIQJPQCECT0AhAk9AIQJPQCECT0AhAk9AIQJPQCE\n",
       "CT0AhAk9AIQJPQCECT0AhAk9AIQJPQCECT0AhP0ANuEk6BAFMUgAAAAASUVORK5CYII=\n",
       "\" transform=\"translate(47, 47)\"/>\n",
       "</g>\n",
       "</svg>\n"
      ]
     },
     "execution_count": 286,
     "metadata": {},
     "output_type": "execute_result"
    }
   ],
   "source": [
    "B,c = compressao(imagem, 2)\n",
    "plot(Gray.(1 .- B*c'), size=(150,150), axis=nothing)"
   ]
  },
  {
   "cell_type": "markdown",
   "id": "f1d3e884",
   "metadata": {},
   "source": [
    "A partir do nível de compressão igual ao posto da imagem a nitidez é mantida como a original."
   ]
  },
  {
   "cell_type": "code",
   "execution_count": 287,
   "id": "f5c77a46",
   "metadata": {},
   "outputs": [
    {
     "data": {
      "image/svg+xml": [
       "<?xml version=\"1.0\" encoding=\"utf-8\"?>\n",
       "<svg xmlns=\"http://www.w3.org/2000/svg\" xmlns:xlink=\"http://www.w3.org/1999/xlink\" width=\"150\" height=\"150\" viewBox=\"0 0 600 600\">\n",
       "<defs>\n",
       "  <clipPath id=\"clip860\">\n",
       "    <rect x=\"0\" y=\"0\" width=\"600\" height=\"600\"/>\n",
       "  </clipPath>\n",
       "</defs>\n",
       "<path clip-path=\"url(#clip860)\" d=\"\n",
       "M0 600 L600 600 L600 0 L0 0  Z\n",
       "  \" fill=\"#ffffff\" fill-rule=\"evenodd\" fill-opacity=\"1\"/>\n",
       "<defs>\n",
       "  <clipPath id=\"clip861\">\n",
       "    <rect x=\"120\" y=\"60\" width=\"421\" height=\"421\"/>\n",
       "  </clipPath>\n",
       "</defs>\n",
       "<path clip-path=\"url(#clip860)\" d=\"\n",
       "M47.2441 552.756 L552.756 552.756 L552.756 47.2441 L47.2441 47.2441  Z\n",
       "  \" fill=\"#ffffff\" fill-rule=\"evenodd\" fill-opacity=\"1\"/>\n",
       "<defs>\n",
       "  <clipPath id=\"clip862\">\n",
       "    <rect x=\"47\" y=\"47\" width=\"507\" height=\"507\"/>\n",
       "  </clipPath>\n",
       "</defs>\n",
       "<polyline clip-path=\"url(#clip860)\" style=\"stroke:#000000; stroke-width:4; stroke-opacity:1; fill:none\" points=\"\n",
       "  47.2441,552.756 552.756,552.756 \n",
       "  \"/>\n",
       "<polyline clip-path=\"url(#clip860)\" style=\"stroke:#000000; stroke-width:4; stroke-opacity:1; fill:none\" points=\"\n",
       "  47.2441,47.2441 47.2441,552.756 \n",
       "  \"/>\n",
       "<g clip-path=\"url(#clip862)\">\n",
       "<image width=\"506\" height=\"506\" xlink:href=\"data:image/png;base64,\n",
       "iVBORw0KGgoAAAANSUhEUgAAAfoAAAH6CAYAAADvFY5JAAAIR0lEQVR4nO3XQWoEMRAEwZHZh8/P\n",
       "2/fxgvHBSJtEvKBANInWzMzFcdZauyfw4FTO407O407O87V7AADwf4QeAMKEHgDChB4AwoQeAMKE\n",
       "HgDChB4AwoQeAMKEHgDChB4AwoQeAMKEHgDChB4AwoQeAMKEHgDChB4AwoQeAMKEHgDChB4AwoQe\n",
       "AMKEHgDChB4AwoQeAMKEHgDChB4AwoQeAMKEHgDChB4AwoQeAMKEHgDChB4AwoQeAMKEHgDChB4A\n",
       "woQeAMKEHgDChB4AwoQeAMKEHgDChB4AwoQeAMKEHgDChB4AwoQeAMKEHgDChB4AwoQeAMKEHgDC\n",
       "hB4AwoQeAMKEHgDChB4AwoQeAMKEHgDChB4AwoQeAMKEHgDChB4AwoQeAMKEHgDChB4AwoQeAMKE\n",
       "HgDChB4AwoQeAMKEHgDChB4AwoQeAMKEHgDChB4AwoQeAMKEHgDChB4AwoQeAMKEHgDChB4AwoQe\n",
       "AMKEHgDChB4AwoQeAMKEHgDChB4AwoQeAMKEHgDChB4AwoQeAMKEHgDChB4AwoQeAMKEHgDChB4A\n",
       "woQeAMKEHgDChB4AwoQeAMKEHgDChB4AwoQeAMKEHgDChB4AwoQeAMKEHgDChB4AwoQeAMKEHgDC\n",
       "hB4AwoQeAMKEHgDChB4AwoQeAMKEHgDChB4AwoQeAMKEHgDChB4AwoQeAMKEHgDChB4AwoQeAMKE\n",
       "HgDChB4AwoQeAMKEHgDChB4AwoQeAMKEHgDChB4AwoQeAMKEHgDChB4AwoQeAMKEHgDChB4AwoQe\n",
       "AMKEHgDChB4AwoQeAMKEHgDChB4AwoQeAMKEHgDChB4AwoQeAMKEHgDChB4AwoQeAMKEHgDChB4A\n",
       "woQeAMKEHgDChB4AwoQeAMKEHgDChB4AwoQeAMKEHgDChB4AwoQeAMKEHgDChB4AwoQeAMKEHgDC\n",
       "hB4AwoQeAMKEHgDChB4AwoQeAMKEHgDChB4AwoQeAMKEHgDChB4AwoQeAMKEHgDChB4AwoQeAMKE\n",
       "HgDChB4AwoQeAMKEHgDChB4AwoQeAMKEHgDChB4AwoQeAMKEHgDChB4AwoQeAMKEHgDChB4AwoQe\n",
       "AMKEHgDChB4AwoQeAMKEHgDChB4AwoQeAMKEHgDChB4AwoQeAMKEHgDChB4Awl67B/DezOyewMN9\n",
       "37sn8OBO4Hd+9AAQJvQAECb0ABAm9AAQJvQAECb0ABAm9AAQJvQAECb0ABAm9AAQJvQAECb0ABAm\n",
       "9AAQJvQAECb0ABAm9AAQJvQAECb0ABAm9AAQJvQAECb0ABAm9AAQJvQAECb0ABAm9AAQJvQAECb0\n",
       "ABAm9AAQJvQAECb0ABAm9AAQJvQAECb0ABAm9AAQJvQAECb0ABAm9AAQJvQAECb0ABAm9AAQJvQA\n",
       "ECb0ABAm9AAQJvQAECb0ABAm9AAQJvQAECb0ABAm9AAQJvQAECb0ABAm9AAQJvQAECb0ABAm9AAQ\n",
       "JvQAECb0ABAm9AAQJvQAECb0ABAm9AAQJvQAECb0ABAm9AAQJvQAECb0ABAm9AAQJvQAECb0ABAm\n",
       "9AAQJvQAECb0ABAm9AAQJvQAECb0ABAm9AAQJvQAECb0ABAm9AAQJvQAECb0ABAm9AAQJvQAECb0\n",
       "ABAm9AAQJvQAECb0ABAm9AAQJvQAECb0ABAm9AAQJvQAECb0ABAm9AAQJvQAECb0ABAm9AAQJvQA\n",
       "ECb0ABAm9AAQtq7rmt0j+GnGswCfZ621ewIPfvQAECb0ABAm9AAQJvQAECb0ABAm9AAQJvQAECb0\n",
       "ABAm9AAQJvQAECb0ABAm9AAQJvQAECb0ABAm9AAQJvQAECb0ABAm9AAQJvQAECb0ABAm9AAQJvQA\n",
       "ECb0ABAm9AAQJvQAECb0ABAm9AAQJvQAECb0ABAm9AAQJvQAECb0ABAm9AAQJvQAECb0ABAm9AAQ\n",
       "JvQAECb0ABAm9AAQJvQAECb0ABAm9AAQJvQAECb0ABAm9AAQJvQAECb0ABAm9AAQJvQAECb0ABAm\n",
       "9AAQJvQAECb0ABAm9AAQJvQAECb0ABAm9AAQJvQAECb0ABAm9AAQJvQAECb0ABAm9AAQJvQAECb0\n",
       "ABAm9AAQJvQAECb0ABAm9AAQJvQAECb0ABAm9AAQJvQAECb0ABAm9AAQJvQAECb0ABAm9AAQJvQA\n",
       "ECb0ABAm9AAQJvQAECb0ABAm9AAQJvQAECb0ABAm9AAQJvQAECb0ABAm9AAQJvQAECb0ABAm9AAQ\n",
       "JvQAECb0ABAm9AAQJvQAECb0ABAm9AAQJvQAEPaamd0beGOttXsCwJ9pynn86AEgTOgBIEzoASBM\n",
       "6AEgTOgBIEzoASBM6AEgTOgBIEzoASBM6AEgTOgBIEzoASBM6AEgTOgBIEzoASBM6AEgTOgBIEzo\n",
       "ASBM6AEgTOgBIEzoASBM6AEgTOgBIEzoASBM6AEgTOgBIEzoASBM6AEgTOgBIEzoASBM6AEgTOgB\n",
       "IEzoASBM6AEgTOgBIEzoASBM6AEgTOgBIEzoASBM6AEgTOgBIEzoASBM6AEgTOgBIEzoASBM6AEg\n",
       "TOgBIEzoASBM6AEgTOgBIEzoASBM6AEgTOgBIEzoASBM6AEgTOgBIEzoASBM6AEgTOgBIEzoASBM\n",
       "6AEgTOgBIEzoASBM6AEgTOgBIEzoASBM6AEgTOgBIEzoASBM6AEgTOgBIEzoASBM6AEgTOgBIEzo\n",
       "ASBM6AEgTOgBIEzoASBM6AEgTOgBIEzoASBM6AEgTOgBIEzoASBM6AEgTOgBIEzoASBM6AEgTOgB\n",
       "IEzoASBM6AEgTOgBIEzoASBM6AEgTOgBIEzoASBM6AEgTOgBIEzoASBM6AEg7Bvtnx9pO8KEuAAA\n",
       "AABJRU5ErkJggg==\n",
       "\" transform=\"translate(47, 47)\"/>\n",
       "</g>\n",
       "</svg>\n"
      ]
     },
     "execution_count": 287,
     "metadata": {},
     "output_type": "execute_result"
    }
   ],
   "source": [
    "B,c = compressao(imagem, 3)\n",
    "plot(Gray.(1 .- B*c'), size=(150,150), axis=nothing)"
   ]
  },
  {
   "cell_type": "code",
   "execution_count": 288,
   "id": "d06822f9",
   "metadata": {},
   "outputs": [
    {
     "data": {
      "image/svg+xml": [
       "<?xml version=\"1.0\" encoding=\"utf-8\"?>\n",
       "<svg xmlns=\"http://www.w3.org/2000/svg\" xmlns:xlink=\"http://www.w3.org/1999/xlink\" width=\"150\" height=\"150\" viewBox=\"0 0 600 600\">\n",
       "<defs>\n",
       "  <clipPath id=\"clip890\">\n",
       "    <rect x=\"0\" y=\"0\" width=\"600\" height=\"600\"/>\n",
       "  </clipPath>\n",
       "</defs>\n",
       "<path clip-path=\"url(#clip890)\" d=\"\n",
       "M0 600 L600 600 L600 0 L0 0  Z\n",
       "  \" fill=\"#ffffff\" fill-rule=\"evenodd\" fill-opacity=\"1\"/>\n",
       "<defs>\n",
       "  <clipPath id=\"clip891\">\n",
       "    <rect x=\"120\" y=\"60\" width=\"421\" height=\"421\"/>\n",
       "  </clipPath>\n",
       "</defs>\n",
       "<path clip-path=\"url(#clip890)\" d=\"\n",
       "M47.2441 552.756 L552.756 552.756 L552.756 47.2441 L47.2441 47.2441  Z\n",
       "  \" fill=\"#ffffff\" fill-rule=\"evenodd\" fill-opacity=\"1\"/>\n",
       "<defs>\n",
       "  <clipPath id=\"clip892\">\n",
       "    <rect x=\"47\" y=\"47\" width=\"507\" height=\"507\"/>\n",
       "  </clipPath>\n",
       "</defs>\n",
       "<polyline clip-path=\"url(#clip890)\" style=\"stroke:#000000; stroke-width:4; stroke-opacity:1; fill:none\" points=\"\n",
       "  47.2441,552.756 552.756,552.756 \n",
       "  \"/>\n",
       "<polyline clip-path=\"url(#clip890)\" style=\"stroke:#000000; stroke-width:4; stroke-opacity:1; fill:none\" points=\"\n",
       "  47.2441,47.2441 47.2441,552.756 \n",
       "  \"/>\n",
       "<g clip-path=\"url(#clip892)\">\n",
       "<image width=\"506\" height=\"506\" xlink:href=\"data:image/png;base64,\n",
       "iVBORw0KGgoAAAANSUhEUgAAAfoAAAH6CAYAAADvFY5JAAAIR0lEQVR4nO3XQWoEMRAEwZHZj8/L\n",
       "2/fxgvHBSJtEvKBANInWzMzFcdZauyfw4FTO407O407O87V7AADwf4QeAMKEHgDChB4AwoQeAMKE\n",
       "HgDChB4AwoQeAMKEHgDChB4AwoQeAMKEHgDChB4AwoQeAMKEHgDChB4AwoQeAMKEHgDChB4AwoQe\n",
       "AMKEHgDChB4AwoQeAMKEHgDChB4AwoQeAMKEHgDChB4AwoQeAMKEHgDChB4AwoQeAMKEHgDChB4A\n",
       "woQeAMKEHgDChB4AwoQeAMKEHgDChB4AwoQeAMKEHgDChB4AwoQeAMKEHgDChB4AwoQeAMKEHgDC\n",
       "hB4AwoQeAMKEHgDChB4AwoQeAMKEHgDChB4AwoQeAMKEHgDChB4AwoQeAMKEHgDChB4AwoQeAMKE\n",
       "HgDChB4AwoQeAMKEHgDChB4AwoQeAMKEHgDChB4AwoQeAMKEHgDChB4AwoQeAMKEHgDChB4AwoQe\n",
       "AMKEHgDChB4AwoQeAMKEHgDChB4AwoQeAMKEHgDChB4AwoQeAMKEHgDChB4AwoQeAMKEHgDChB4A\n",
       "woQeAMKEHgDChB4AwoQeAMKEHgDChB4AwoQeAMKEHgDChB4AwoQeAMKEHgDChB4AwoQeAMKEHgDC\n",
       "hB4AwoQeAMKEHgDChB4AwoQeAMKEHgDChB4AwoQeAMKEHgDChB4AwoQeAMKEHgDChB4AwoQeAMKE\n",
       "HgDChB4AwoQeAMKEHgDChB4AwoQeAMKEHgDChB4AwoQeAMKEHgDChB4AwoQeAMKEHgDChB4AwoQe\n",
       "AMKEHgDChB4AwoQeAMKEHgDChB4AwoQeAMKEHgDChB4AwoQeAMKEHgDChB4AwoQeAMKEHgDChB4A\n",
       "woQeAMKEHgDChB4AwoQeAMKEHgDChB4AwoQeAMKEHgDChB4AwoQeAMKEHgDChB4AwoQeAMKEHgDC\n",
       "hB4AwoQeAMKEHgDChB4AwoQeAMKEHgDChB4AwoQeAMKEHgDChB4AwoQeAMKEHgDChB4AwoQeAMKE\n",
       "HgDChB4AwoQeAMKEHgDChB4AwoQeAMKEHgDChB4AwoQeAMKEHgDChB4AwoQeAMKEHgDChB4AwoQe\n",
       "AMKEHgDChB4AwoQeAMKEHgDChB4AwoQeAMKEHgDChB4AwoQeAMKEHgDChB4Awl67B/DezOyewMN9\n",
       "37sn8OBO4Hd+9AAQJvQAECb0ABAm9AAQJvQAECb0ABAm9AAQJvQAECb0ABAm9AAQJvQAECb0ABAm\n",
       "9AAQJvQAECb0ABAm9AAQJvQAECb0ABAm9AAQJvQAECb0ABAm9AAQJvQAECb0ABAm9AAQJvQAECb0\n",
       "ABAm9AAQJvQAECb0ABAm9AAQJvQAECb0ABAm9AAQJvQAECb0ABAm9AAQJvQAECb0ABAm9AAQJvQA\n",
       "ECb0ABAm9AAQJvQAECb0ABAm9AAQJvQAECb0ABAm9AAQJvQAECb0ABAm9AAQJvQAECb0ABAm9AAQ\n",
       "JvQAECb0ABAm9AAQJvQAECb0ABAm9AAQJvQAECb0ABAm9AAQJvQAECb0ABAm9AAQJvQAECb0ABAm\n",
       "9AAQJvQAECb0ABAm9AAQJvQAECb0ABAm9AAQJvQAECb0ABAm9AAQJvQAECb0ABAm9AAQJvQAECb0\n",
       "ABAm9AAQJvQAECb0ABAm9AAQJvQAECb0ABAm9AAQJvQAECb0ABAm9AAQJvQAECb0ABAm9AAQJvQA\n",
       "ECb0ABAm9AAQtq7rmt0j+GnGswCfZ621ewIPfvQAECb0ABAm9AAQJvQAECb0ABAm9AAQJvQAECb0\n",
       "ABAm9AAQJvQAECb0ABAm9AAQJvQAECb0ABAm9AAQJvQAECb0ABAm9AAQJvQAECb0ABAm9AAQJvQA\n",
       "ECb0ABAm9AAQJvQAECb0ABAm9AAQJvQAECb0ABAm9AAQJvQAECb0ABAm9AAQJvQAECb0ABAm9AAQ\n",
       "JvQAECb0ABAm9AAQJvQAECb0ABAm9AAQJvQAECb0ABAm9AAQJvQAECb0ABAm9AAQJvQAECb0ABAm\n",
       "9AAQJvQAECb0ABAm9AAQJvQAECb0ABAm9AAQJvQAECb0ABAm9AAQJvQAECb0ABAm9AAQJvQAECb0\n",
       "ABAm9AAQJvQAECb0ABAm9AAQJvQAECb0ABAm9AAQJvQAECb0ABAm9AAQJvQAECb0ABAm9AAQJvQA\n",
       "ECb0ABAm9AAQJvQAECb0ABAm9AAQJvQAECb0ABAm9AAQJvQAECb0ABAm9AAQJvQAECb0ABAm9AAQ\n",
       "JvQAECb0ABAm9AAQJvQAECb0ABAm9AAQJvQAEPaamd0beGOttXsCwJ9pynn86AEgTOgBIEzoASBM\n",
       "6AEgTOgBIEzoASBM6AEgTOgBIEzoASBM6AEgTOgBIEzoASBM6AEgTOgBIEzoASBM6AEgTOgBIEzo\n",
       "ASBM6AEgTOgBIEzoASBM6AEgTOgBIEzoASBM6AEgTOgBIEzoASBM6AEgTOgBIEzoASBM6AEgTOgB\n",
       "IEzoASBM6AEgTOgBIEzoASBM6AEgTOgBIEzoASBM6AEgTOgBIEzoASBM6AEgTOgBIEzoASBM6AEg\n",
       "TOgBIEzoASBM6AEgTOgBIEzoASBM6AEgTOgBIEzoASBM6AEgTOgBIEzoASBM6AEgTOgBIEzoASBM\n",
       "6AEgTOgBIEzoASBM6AEgTOgBIEzoASBM6AEgTOgBIEzoASBM6AEgTOgBIEzoASBM6AEgTOgBIEzo\n",
       "ASBM6AEgTOgBIEzoASBM6AEgTOgBIEzoASBM6AEgTOgBIEzoASBM6AEgTOgBIEzoASBM6AEgTOgB\n",
       "IEzoASBM6AEgTOgBIEzoASBM6AEgTOgBIEzoASBM6AEgTOgBIEzoASBM6AEg7Bv8Dh9sZx/SMQAA\n",
       "AABJRU5ErkJggg==\n",
       "\" transform=\"translate(47, 47)\"/>\n",
       "</g>\n",
       "</svg>\n"
      ]
     },
     "execution_count": 288,
     "metadata": {},
     "output_type": "execute_result"
    }
   ],
   "source": [
    "B,c = compressao(imagem, 4)\n",
    "plot(Gray.(1 .- B*c'), size=(150,150), axis=nothing)"
   ]
  },
  {
   "cell_type": "code",
   "execution_count": 299,
   "id": "5764c2d2",
   "metadata": {},
   "outputs": [
    {
     "data": {
      "image/svg+xml": [
       "<?xml version=\"1.0\" encoding=\"utf-8\"?>\n",
       "<svg xmlns=\"http://www.w3.org/2000/svg\" xmlns:xlink=\"http://www.w3.org/1999/xlink\" width=\"150\" height=\"150\" viewBox=\"0 0 600 600\">\n",
       "<defs>\n",
       "  <clipPath id=\"clip940\">\n",
       "    <rect x=\"0\" y=\"0\" width=\"600\" height=\"600\"/>\n",
       "  </clipPath>\n",
       "</defs>\n",
       "<path clip-path=\"url(#clip940)\" d=\"\n",
       "M0 600 L600 600 L600 0 L0 0  Z\n",
       "  \" fill=\"#ffffff\" fill-rule=\"evenodd\" fill-opacity=\"1\"/>\n",
       "<defs>\n",
       "  <clipPath id=\"clip941\">\n",
       "    <rect x=\"120\" y=\"60\" width=\"421\" height=\"421\"/>\n",
       "  </clipPath>\n",
       "</defs>\n",
       "<path clip-path=\"url(#clip940)\" d=\"\n",
       "M47.2441 552.756 L552.756 552.756 L552.756 47.2441 L47.2441 47.2441  Z\n",
       "  \" fill=\"#ffffff\" fill-rule=\"evenodd\" fill-opacity=\"1\"/>\n",
       "<defs>\n",
       "  <clipPath id=\"clip942\">\n",
       "    <rect x=\"47\" y=\"47\" width=\"507\" height=\"507\"/>\n",
       "  </clipPath>\n",
       "</defs>\n",
       "<polyline clip-path=\"url(#clip940)\" style=\"stroke:#000000; stroke-width:4; stroke-opacity:1; fill:none\" points=\"\n",
       "  47.2441,552.756 552.756,552.756 \n",
       "  \"/>\n",
       "<polyline clip-path=\"url(#clip940)\" style=\"stroke:#000000; stroke-width:4; stroke-opacity:1; fill:none\" points=\"\n",
       "  47.2441,47.2441 47.2441,552.756 \n",
       "  \"/>\n",
       "<g clip-path=\"url(#clip942)\">\n",
       "<image width=\"506\" height=\"506\" xlink:href=\"data:image/png;base64,\n",
       "iVBORw0KGgoAAAANSUhEUgAAAfoAAAH6CAYAAADvFY5JAAAIR0lEQVR4nO3XQWoEMRAEwZHZj8/L\n",
       "2/fxgvHBSJtEvKBANInWzMzFcdZauyfw4FTO407O407O87V7AADwf4QeAMKEHgDChB4AwoQeAMKE\n",
       "HgDChB4AwoQeAMKEHgDChB4AwoQeAMKEHgDChB4AwoQeAMKEHgDChB4AwoQeAMKEHgDChB4AwoQe\n",
       "AMKEHgDChB4AwoQeAMKEHgDChB4AwoQeAMKEHgDChB4AwoQeAMKEHgDChB4AwoQeAMKEHgDChB4A\n",
       "woQeAMKEHgDChB4AwoQeAMKEHgDChB4AwoQeAMKEHgDChB4AwoQeAMKEHgDChB4AwoQeAMKEHgDC\n",
       "hB4AwoQeAMKEHgDChB4AwoQeAMKEHgDChB4AwoQeAMKEHgDChB4AwoQeAMKEHgDChB4AwoQeAMKE\n",
       "HgDChB4AwoQeAMKEHgDChB4AwoQeAMKEHgDChB4AwoQeAMKEHgDChB4AwoQeAMKEHgDChB4AwoQe\n",
       "AMKEHgDChB4AwoQeAMKEHgDChB4AwoQeAMKEHgDChB4AwoQeAMKEHgDChB4AwoQeAMKEHgDChB4A\n",
       "woQeAMKEHgDChB4AwoQeAMKEHgDChB4AwoQeAMKEHgDChB4AwoQeAMKEHgDChB4AwoQeAMKEHgDC\n",
       "hB4AwoQeAMKEHgDChB4AwoQeAMKEHgDChB4AwoQeAMKEHgDChB4AwoQeAMKEHgDChB4AwoQeAMKE\n",
       "HgDChB4AwoQeAMKEHgDChB4AwoQeAMKEHgDChB4AwoQeAMKEHgDChB4AwoQeAMKEHgDChB4AwoQe\n",
       "AMKEHgDChB4AwoQeAMKEHgDChB4AwoQeAMKEHgDChB4AwoQeAMKEHgDChB4AwoQeAMKEHgDChB4A\n",
       "woQeAMKEHgDChB4AwoQeAMKEHgDChB4AwoQeAMKEHgDChB4AwoQeAMKEHgDChB4AwoQeAMKEHgDC\n",
       "hB4AwoQeAMKEHgDChB4AwoQeAMKEHgDChB4AwoQeAMKEHgDChB4AwoQeAMKEHgDChB4AwoQeAMKE\n",
       "HgDChB4AwoQeAMKEHgDChB4AwoQeAMKEHgDChB4AwoQeAMKEHgDChB4AwoQeAMKEHgDChB4AwoQe\n",
       "AMKEHgDChB4AwoQeAMKEHgDChB4AwoQeAMKEHgDChB4AwoQeAMKEHgDChB4Awl67B/DezOyewMN9\n",
       "37sn8OBO4Hd+9AAQJvQAECb0ABAm9AAQJvQAECb0ABAm9AAQJvQAECb0ABAm9AAQJvQAECb0ABAm\n",
       "9AAQJvQAECb0ABAm9AAQJvQAECb0ABAm9AAQJvQAECb0ABAm9AAQJvQAECb0ABAm9AAQJvQAECb0\n",
       "ABAm9AAQJvQAECb0ABAm9AAQJvQAECb0ABAm9AAQJvQAECb0ABAm9AAQJvQAECb0ABAm9AAQJvQA\n",
       "ECb0ABAm9AAQJvQAECb0ABAm9AAQJvQAECb0ABAm9AAQJvQAECb0ABAm9AAQJvQAECb0ABAm9AAQ\n",
       "JvQAECb0ABAm9AAQJvQAECb0ABAm9AAQJvQAECb0ABAm9AAQJvQAECb0ABAm9AAQJvQAECb0ABAm\n",
       "9AAQJvQAECb0ABAm9AAQJvQAECb0ABAm9AAQJvQAECb0ABAm9AAQJvQAECb0ABAm9AAQJvQAECb0\n",
       "ABAm9AAQJvQAECb0ABAm9AAQJvQAECb0ABAm9AAQJvQAECb0ABAm9AAQJvQAECb0ABAm9AAQJvQA\n",
       "ECb0ABAm9AAQtq7rmt0j+GnGswCfZ621ewIPfvQAECb0ABAm9AAQJvQAECb0ABAm9AAQJvQAECb0\n",
       "ABAm9AAQJvQAECb0ABAm9AAQJvQAECb0ABAm9AAQJvQAECb0ABAm9AAQJvQAECb0ABAm9AAQJvQA\n",
       "ECb0ABAm9AAQJvQAECb0ABAm9AAQJvQAECb0ABAm9AAQJvQAECb0ABAm9AAQJvQAECb0ABAm9AAQ\n",
       "JvQAECb0ABAm9AAQJvQAECb0ABAm9AAQJvQAECb0ABAm9AAQJvQAECb0ABAm9AAQJvQAECb0ABAm\n",
       "9AAQJvQAECb0ABAm9AAQJvQAECb0ABAm9AAQJvQAECb0ABAm9AAQJvQAECb0ABAm9AAQJvQAECb0\n",
       "ABAm9AAQJvQAECb0ABAm9AAQJvQAECb0ABAm9AAQJvQAECb0ABAm9AAQJvQAECb0ABAm9AAQJvQA\n",
       "ECb0ABAm9AAQJvQAECb0ABAm9AAQJvQAECb0ABAm9AAQJvQAECb0ABAm9AAQJvQAECb0ABAm9AAQ\n",
       "JvQAECb0ABAm9AAQJvQAECb0ABAm9AAQJvQAEPaamd0beGOttXsCwJ9pynn86AEgTOgBIEzoASBM\n",
       "6AEgTOgBIEzoASBM6AEgTOgBIEzoASBM6AEgTOgBIEzoASBM6AEgTOgBIEzoASBM6AEgTOgBIEzo\n",
       "ASBM6AEgTOgBIEzoASBM6AEgTOgBIEzoASBM6AEgTOgBIEzoASBM6AEgTOgBIEzoASBM6AEgTOgB\n",
       "IEzoASBM6AEgTOgBIEzoASBM6AEgTOgBIEzoASBM6AEgTOgBIEzoASBM6AEgTOgBIEzoASBM6AEg\n",
       "TOgBIEzoASBM6AEgTOgBIEzoASBM6AEgTOgBIEzoASBM6AEgTOgBIEzoASBM6AEgTOgBIEzoASBM\n",
       "6AEgTOgBIEzoASBM6AEgTOgBIEzoASBM6AEgTOgBIEzoASBM6AEgTOgBIEzoASBM6AEgTOgBIEzo\n",
       "ASBM6AEgTOgBIEzoASBM6AEgTOgBIEzoASBM6AEgTOgBIEzoASBM6AEgTOgBIEzoASBM6AEgTOgB\n",
       "IEzoASBM6AEgTOgBIEzoASBM6AEgTOgBIEzoASBM6AEgTOgBIEzoASBM6AEg7Bv8Dh9sZx/SMQAA\n",
       "AABJRU5ErkJggg==\n",
       "\" transform=\"translate(47, 47)\"/>\n",
       "</g>\n",
       "</svg>\n"
      ]
     },
     "execution_count": 299,
     "metadata": {},
     "output_type": "execute_result"
    }
   ],
   "source": [
    "B,c = compressao(imagem, 5)\n",
    "plot(Gray.(1 .- B*c'), size=(150,150), axis=nothing)"
   ]
  },
  {
   "cell_type": "markdown",
   "id": "05348895",
   "metadata": {},
   "source": [
    "## Questão 8."
   ]
  },
  {
   "cell_type": "code",
   "execution_count": 290,
   "id": "b9232f86",
   "metadata": {},
   "outputs": [],
   "source": [
    "using LinearAlgebra\n",
    "using Images\n",
    "using JLD"
   ]
  },
  {
   "cell_type": "markdown",
   "id": "8f72ca12",
   "metadata": {},
   "source": [
    "### Encontre (ou desenhe) uma imagem A, com mais ou menos $200 × 200$ pixels (pode ser um pouco maior), que\n",
    "\n",
    "#### (a) exija um nível de compressão maior que 3 e menor que 6 para recuperar pelo menos 99% de sua norma total.\n",
    "\n",
    "Escolhemos o logo da Xiaomi levemente modificado para que fique sem curvas, o que justifica o posto 4~5."
   ]
  },
  {
   "cell_type": "code",
   "execution_count": 291,
   "id": "43aff43b",
   "metadata": {},
   "outputs": [
    {
     "data": {
      "image/png": "[encoded data removed]",
      "text/plain": [
       "200×200 Array{Gray{N0f8},2} with eltype Gray{Normed{UInt8,8}}:\n",
       " Gray{N0f8}(0.541)  Gray{N0f8}(0.541)  …  Gray{N0f8}(0.541)\n",
       " Gray{N0f8}(0.541)  Gray{N0f8}(0.541)     Gray{N0f8}(0.541)\n",
       " Gray{N0f8}(0.541)  Gray{N0f8}(0.541)     Gray{N0f8}(0.541)\n",
       " Gray{N0f8}(0.541)  Gray{N0f8}(0.541)     Gray{N0f8}(0.541)\n",
       " Gray{N0f8}(0.541)  Gray{N0f8}(0.541)     Gray{N0f8}(0.541)\n",
       " Gray{N0f8}(0.541)  Gray{N0f8}(0.541)  …  Gray{N0f8}(0.541)\n",
       " Gray{N0f8}(0.541)  Gray{N0f8}(0.541)     Gray{N0f8}(0.541)\n",
       " Gray{N0f8}(0.541)  Gray{N0f8}(0.541)     Gray{N0f8}(0.541)\n",
       " Gray{N0f8}(0.541)  Gray{N0f8}(0.541)     Gray{N0f8}(0.541)\n",
       " Gray{N0f8}(0.541)  Gray{N0f8}(0.541)     Gray{N0f8}(0.541)\n",
       " Gray{N0f8}(0.541)  Gray{N0f8}(0.541)  …  Gray{N0f8}(0.541)\n",
       " Gray{N0f8}(0.541)  Gray{N0f8}(0.541)     Gray{N0f8}(0.541)\n",
       " Gray{N0f8}(0.541)  Gray{N0f8}(0.541)     Gray{N0f8}(0.541)\n",
       " ⋮                                     ⋱  \n",
       " Gray{N0f8}(0.541)  Gray{N0f8}(0.541)     Gray{N0f8}(0.541)\n",
       " Gray{N0f8}(0.541)  Gray{N0f8}(0.541)     Gray{N0f8}(0.541)\n",
       " Gray{N0f8}(0.541)  Gray{N0f8}(0.541)  …  Gray{N0f8}(0.541)\n",
       " Gray{N0f8}(0.541)  Gray{N0f8}(0.541)     Gray{N0f8}(0.541)\n",
       " Gray{N0f8}(0.541)  Gray{N0f8}(0.541)     Gray{N0f8}(0.541)\n",
       " Gray{N0f8}(0.541)  Gray{N0f8}(0.541)     Gray{N0f8}(0.541)\n",
       " Gray{N0f8}(0.541)  Gray{N0f8}(0.541)     Gray{N0f8}(0.541)\n",
       " Gray{N0f8}(0.541)  Gray{N0f8}(0.541)  …  Gray{N0f8}(0.541)\n",
       " Gray{N0f8}(0.541)  Gray{N0f8}(0.541)     Gray{N0f8}(0.541)\n",
       " Gray{N0f8}(0.541)  Gray{N0f8}(0.541)     Gray{N0f8}(0.541)\n",
       " Gray{N0f8}(0.541)  Gray{N0f8}(0.541)     Gray{N0f8}(0.541)\n",
       " Gray{N0f8}(0.541)  Gray{N0f8}(0.541)     Gray{N0f8}(0.541)"
      ]
     },
     "metadata": {},
     "output_type": "display_data"
    }
   ],
   "source": [
    "img = load(\"xiaomi.png\");\n",
    "display(Gray.(img))\n",
    "raw = channelview(Gray.(img[:,:]));"
   ]
  },
  {
   "cell_type": "code",
   "execution_count": 292,
   "id": "646feee6",
   "metadata": {},
   "outputs": [
    {
     "data": {
      "image/png": "[encoded data removed]",
      "text/plain": [
       "200×200 Array{Gray{Float64},2} with eltype Gray{Float64}:\n",
       " Gray{Float64}(0.540323)  Gray{Float64}(0.540323)  …  Gray{Float64}(0.540323)\n",
       " Gray{Float64}(0.540323)  Gray{Float64}(0.540323)     Gray{Float64}(0.540323)\n",
       " Gray{Float64}(0.540323)  Gray{Float64}(0.540323)     Gray{Float64}(0.540323)\n",
       " Gray{Float64}(0.540323)  Gray{Float64}(0.540323)     Gray{Float64}(0.540323)\n",
       " Gray{Float64}(0.540323)  Gray{Float64}(0.540323)     Gray{Float64}(0.540323)\n",
       " Gray{Float64}(0.540323)  Gray{Float64}(0.540323)  …  Gray{Float64}(0.540323)\n",
       " Gray{Float64}(0.540323)  Gray{Float64}(0.540323)     Gray{Float64}(0.540323)\n",
       " Gray{Float64}(0.540323)  Gray{Float64}(0.540323)     Gray{Float64}(0.540323)\n",
       " Gray{Float64}(0.540323)  Gray{Float64}(0.540323)     Gray{Float64}(0.540323)\n",
       " Gray{Float64}(0.540323)  Gray{Float64}(0.540323)     Gray{Float64}(0.540323)\n",
       " Gray{Float64}(0.540323)  Gray{Float64}(0.540323)  …  Gray{Float64}(0.540323)\n",
       " Gray{Float64}(0.540323)  Gray{Float64}(0.540323)     Gray{Float64}(0.540323)\n",
       " Gray{Float64}(0.540323)  Gray{Float64}(0.540323)     Gray{Float64}(0.540323)\n",
       " ⋮                                                 ⋱  \n",
       " Gray{Float64}(0.540323)  Gray{Float64}(0.540323)     Gray{Float64}(0.540323)\n",
       " Gray{Float64}(0.540323)  Gray{Float64}(0.540323)     Gray{Float64}(0.540323)\n",
       " Gray{Float64}(0.540323)  Gray{Float64}(0.540323)  …  Gray{Float64}(0.540323)\n",
       " Gray{Float64}(0.540323)  Gray{Float64}(0.540323)     Gray{Float64}(0.540323)\n",
       " Gray{Float64}(0.540323)  Gray{Float64}(0.540323)     Gray{Float64}(0.540323)\n",
       " Gray{Float64}(0.540323)  Gray{Float64}(0.540323)     Gray{Float64}(0.540323)\n",
       " Gray{Float64}(0.540323)  Gray{Float64}(0.540323)     Gray{Float64}(0.540323)\n",
       " Gray{Float64}(0.540323)  Gray{Float64}(0.540323)  …  Gray{Float64}(0.540323)\n",
       " Gray{Float64}(0.540323)  Gray{Float64}(0.540323)     Gray{Float64}(0.540323)\n",
       " Gray{Float64}(0.540323)  Gray{Float64}(0.540323)     Gray{Float64}(0.540323)\n",
       " Gray{Float64}(0.540323)  Gray{Float64}(0.540323)     Gray{Float64}(0.540323)\n",
       " Gray{Float64}(0.540323)  Gray{Float64}(0.540323)     Gray{Float64}(0.540323)"
      ]
     },
     "metadata": {},
     "output_type": "display_data"
    }
   ],
   "source": [
    "B,C=compressao(raw,2)\n",
    "display(Gray.(B*C'))"
   ]
  },
  {
   "cell_type": "code",
   "execution_count": 293,
   "id": "1a89c98d",
   "metadata": {},
   "outputs": [
    {
     "data": {
      "image/png": "[encoded data removed]",
      "text/plain": [
       "200×200 Array{Gray{Float64},2} with eltype Gray{Float64}:\n",
       " Gray{Float64}(0.541183)  Gray{Float64}(0.541183)  …  Gray{Float64}(0.541183)\n",
       " Gray{Float64}(0.541183)  Gray{Float64}(0.541183)     Gray{Float64}(0.541183)\n",
       " Gray{Float64}(0.541183)  Gray{Float64}(0.541183)     Gray{Float64}(0.541183)\n",
       " Gray{Float64}(0.541183)  Gray{Float64}(0.541183)     Gray{Float64}(0.541183)\n",
       " Gray{Float64}(0.541183)  Gray{Float64}(0.541183)     Gray{Float64}(0.541183)\n",
       " Gray{Float64}(0.541183)  Gray{Float64}(0.541183)  …  Gray{Float64}(0.541183)\n",
       " Gray{Float64}(0.541183)  Gray{Float64}(0.541183)     Gray{Float64}(0.541183)\n",
       " Gray{Float64}(0.541183)  Gray{Float64}(0.541183)     Gray{Float64}(0.541183)\n",
       " Gray{Float64}(0.541183)  Gray{Float64}(0.541183)     Gray{Float64}(0.541183)\n",
       " Gray{Float64}(0.541183)  Gray{Float64}(0.541183)     Gray{Float64}(0.541183)\n",
       " Gray{Float64}(0.541183)  Gray{Float64}(0.541183)  …  Gray{Float64}(0.541183)\n",
       " Gray{Float64}(0.541183)  Gray{Float64}(0.541183)     Gray{Float64}(0.541183)\n",
       " Gray{Float64}(0.541183)  Gray{Float64}(0.541183)     Gray{Float64}(0.541183)\n",
       " ⋮                                                 ⋱  \n",
       " Gray{Float64}(0.541183)  Gray{Float64}(0.541183)     Gray{Float64}(0.541183)\n",
       " Gray{Float64}(0.541183)  Gray{Float64}(0.541183)     Gray{Float64}(0.541183)\n",
       " Gray{Float64}(0.541183)  Gray{Float64}(0.541183)  …  Gray{Float64}(0.541183)\n",
       " Gray{Float64}(0.541183)  Gray{Float64}(0.541183)     Gray{Float64}(0.541183)\n",
       " Gray{Float64}(0.541183)  Gray{Float64}(0.541183)     Gray{Float64}(0.541183)\n",
       " Gray{Float64}(0.541183)  Gray{Float64}(0.541183)     Gray{Float64}(0.541183)\n",
       " Gray{Float64}(0.541183)  Gray{Float64}(0.541183)     Gray{Float64}(0.541183)\n",
       " Gray{Float64}(0.541183)  Gray{Float64}(0.541183)  …  Gray{Float64}(0.541183)\n",
       " Gray{Float64}(0.541183)  Gray{Float64}(0.541183)     Gray{Float64}(0.541183)\n",
       " Gray{Float64}(0.541183)  Gray{Float64}(0.541183)     Gray{Float64}(0.541183)\n",
       " Gray{Float64}(0.541183)  Gray{Float64}(0.541183)     Gray{Float64}(0.541183)\n",
       " Gray{Float64}(0.541183)  Gray{Float64}(0.541183)     Gray{Float64}(0.541183)"
      ]
     },
     "metadata": {},
     "output_type": "display_data"
    }
   ],
   "source": [
    "B,C=compressao(raw,4)\n",
    "display(Gray.(B*C'))"
   ]
  },
  {
   "cell_type": "markdown",
   "id": "3e6249d3",
   "metadata": {},
   "source": [
    "#### (b) exija um nível de compressão maior que 40 para recuperar pelo menos 99% de sua norma total.\n",
    "\n",
    "Escolhemos um qr code bem complicado para que necessite bastantes postos para restaurar a imagem."
   ]
  },
  {
   "cell_type": "code",
   "execution_count": 294,
   "id": "e3495f10",
   "metadata": {},
   "outputs": [
    {
     "data": {
      "image/png": "[encoded data removed]",
      "text/plain": [
       "200×200 Array{Gray{N0f8},2} with eltype Gray{Normed{UInt8,8}}:\n",
       " Gray{N0f8}(1.0)  Gray{N0f8}(1.0)  …  Gray{N0f8}(1.0)  Gray{N0f8}(1.0)\n",
       " Gray{N0f8}(1.0)  Gray{N0f8}(1.0)     Gray{N0f8}(1.0)  Gray{N0f8}(1.0)\n",
       " Gray{N0f8}(1.0)  Gray{N0f8}(1.0)     Gray{N0f8}(1.0)  Gray{N0f8}(1.0)\n",
       " Gray{N0f8}(1.0)  Gray{N0f8}(1.0)     Gray{N0f8}(1.0)  Gray{N0f8}(1.0)\n",
       " Gray{N0f8}(1.0)  Gray{N0f8}(1.0)     Gray{N0f8}(1.0)  Gray{N0f8}(1.0)\n",
       " Gray{N0f8}(1.0)  Gray{N0f8}(1.0)  …  Gray{N0f8}(1.0)  Gray{N0f8}(1.0)\n",
       " Gray{N0f8}(1.0)  Gray{N0f8}(1.0)     Gray{N0f8}(1.0)  Gray{N0f8}(1.0)\n",
       " Gray{N0f8}(1.0)  Gray{N0f8}(1.0)     Gray{N0f8}(1.0)  Gray{N0f8}(1.0)\n",
       " Gray{N0f8}(1.0)  Gray{N0f8}(1.0)     Gray{N0f8}(1.0)  Gray{N0f8}(1.0)\n",
       " Gray{N0f8}(1.0)  Gray{N0f8}(1.0)     Gray{N0f8}(1.0)  Gray{N0f8}(1.0)\n",
       " Gray{N0f8}(1.0)  Gray{N0f8}(1.0)  …  Gray{N0f8}(1.0)  Gray{N0f8}(1.0)\n",
       " Gray{N0f8}(1.0)  Gray{N0f8}(1.0)     Gray{N0f8}(1.0)  Gray{N0f8}(1.0)\n",
       " Gray{N0f8}(1.0)  Gray{N0f8}(1.0)     Gray{N0f8}(1.0)  Gray{N0f8}(1.0)\n",
       " ⋮                                 ⋱                   \n",
       " Gray{N0f8}(1.0)  Gray{N0f8}(1.0)     Gray{N0f8}(1.0)  Gray{N0f8}(1.0)\n",
       " Gray{N0f8}(1.0)  Gray{N0f8}(1.0)     Gray{N0f8}(1.0)  Gray{N0f8}(1.0)\n",
       " Gray{N0f8}(1.0)  Gray{N0f8}(1.0)  …  Gray{N0f8}(1.0)  Gray{N0f8}(1.0)\n",
       " Gray{N0f8}(1.0)  Gray{N0f8}(1.0)     Gray{N0f8}(1.0)  Gray{N0f8}(1.0)\n",
       " Gray{N0f8}(1.0)  Gray{N0f8}(1.0)     Gray{N0f8}(1.0)  Gray{N0f8}(1.0)\n",
       " Gray{N0f8}(1.0)  Gray{N0f8}(1.0)     Gray{N0f8}(1.0)  Gray{N0f8}(1.0)\n",
       " Gray{N0f8}(1.0)  Gray{N0f8}(1.0)     Gray{N0f8}(1.0)  Gray{N0f8}(1.0)\n",
       " Gray{N0f8}(1.0)  Gray{N0f8}(1.0)  …  Gray{N0f8}(1.0)  Gray{N0f8}(1.0)\n",
       " Gray{N0f8}(1.0)  Gray{N0f8}(1.0)     Gray{N0f8}(1.0)  Gray{N0f8}(1.0)\n",
       " Gray{N0f8}(1.0)  Gray{N0f8}(1.0)     Gray{N0f8}(1.0)  Gray{N0f8}(1.0)\n",
       " Gray{N0f8}(1.0)  Gray{N0f8}(1.0)     Gray{N0f8}(1.0)  Gray{N0f8}(1.0)\n",
       " Gray{N0f8}(1.0)  Gray{N0f8}(1.0)     Gray{N0f8}(1.0)  Gray{N0f8}(1.0)"
      ]
     },
     "metadata": {},
     "output_type": "display_data"
    }
   ],
   "source": [
    "img = load(\"qrCode.png\");\n",
    "display(Gray.(img))\n",
    "raw = channelview(Gray.(img[:,:]));"
   ]
  },
  {
   "cell_type": "code",
   "execution_count": 295,
   "id": "fb200a5e",
   "metadata": {},
   "outputs": [
    {
     "data": {
      "image/png": "[encoded data removed]",
      "text/plain": [
       "200×200 Array{Gray{Float64},2} with eltype Gray{Float64}:\n",
       " Gray{Float64}(1.11499)  Gray{Float64}(1.11499)  …  Gray{Float64}(1.11499)\n",
       " Gray{Float64}(1.11499)  Gray{Float64}(1.11499)     Gray{Float64}(1.11499)\n",
       " Gray{Float64}(1.11499)  Gray{Float64}(1.11499)     Gray{Float64}(1.11499)\n",
       " Gray{Float64}(1.11499)  Gray{Float64}(1.11499)     Gray{Float64}(1.11499)\n",
       " Gray{Float64}(1.11499)  Gray{Float64}(1.11499)     Gray{Float64}(1.11499)\n",
       " Gray{Float64}(1.11499)  Gray{Float64}(1.11499)  …  Gray{Float64}(1.11499)\n",
       " Gray{Float64}(1.11499)  Gray{Float64}(1.11499)     Gray{Float64}(1.11499)\n",
       " Gray{Float64}(1.11499)  Gray{Float64}(1.11499)     Gray{Float64}(1.11499)\n",
       " Gray{Float64}(1.11499)  Gray{Float64}(1.11499)     Gray{Float64}(1.11499)\n",
       " Gray{Float64}(1.11499)  Gray{Float64}(1.11499)     Gray{Float64}(1.11499)\n",
       " Gray{Float64}(1.11499)  Gray{Float64}(1.11499)  …  Gray{Float64}(1.11499)\n",
       " Gray{Float64}(1.11499)  Gray{Float64}(1.11499)     Gray{Float64}(1.11499)\n",
       " Gray{Float64}(1.11499)  Gray{Float64}(1.11499)     Gray{Float64}(1.11499)\n",
       " ⋮                                               ⋱  \n",
       " Gray{Float64}(1.11499)  Gray{Float64}(1.11499)     Gray{Float64}(1.11499)\n",
       " Gray{Float64}(1.11499)  Gray{Float64}(1.11499)     Gray{Float64}(1.11499)\n",
       " Gray{Float64}(1.11499)  Gray{Float64}(1.11499)  …  Gray{Float64}(1.11499)\n",
       " Gray{Float64}(1.11499)  Gray{Float64}(1.11499)     Gray{Float64}(1.11499)\n",
       " Gray{Float64}(1.11499)  Gray{Float64}(1.11499)     Gray{Float64}(1.11499)\n",
       " Gray{Float64}(1.11499)  Gray{Float64}(1.11499)     Gray{Float64}(1.11499)\n",
       " Gray{Float64}(1.11499)  Gray{Float64}(1.11499)     Gray{Float64}(1.11499)\n",
       " Gray{Float64}(1.11499)  Gray{Float64}(1.11499)  …  Gray{Float64}(1.11499)\n",
       " Gray{Float64}(1.11499)  Gray{Float64}(1.11499)     Gray{Float64}(1.11499)\n",
       " Gray{Float64}(1.11499)  Gray{Float64}(1.11499)     Gray{Float64}(1.11499)\n",
       " Gray{Float64}(1.11499)  Gray{Float64}(1.11499)     Gray{Float64}(1.11499)\n",
       " Gray{Float64}(1.11499)  Gray{Float64}(1.11499)     Gray{Float64}(1.11499)"
      ]
     },
     "metadata": {},
     "output_type": "display_data"
    }
   ],
   "source": [
    "B,C=compressao(raw,2)\n",
    "display(Gray.(B*C'))"
   ]
  },
  {
   "cell_type": "code",
   "execution_count": 296,
   "id": "6c3561f1",
   "metadata": {},
   "outputs": [
    {
     "data": {
      "image/png": "[encoded data removed]",
      "text/plain": [
       "200×200 Array{Gray{Float64},2} with eltype Gray{Float64}:\n",
       " Gray{Float64}(1.00197)  Gray{Float64}(1.00197)  …  Gray{Float64}(1.00197)\n",
       " Gray{Float64}(1.00197)  Gray{Float64}(1.00197)     Gray{Float64}(1.00197)\n",
       " Gray{Float64}(1.00197)  Gray{Float64}(1.00197)     Gray{Float64}(1.00197)\n",
       " Gray{Float64}(1.00197)  Gray{Float64}(1.00197)     Gray{Float64}(1.00197)\n",
       " Gray{Float64}(1.00197)  Gray{Float64}(1.00197)     Gray{Float64}(1.00197)\n",
       " Gray{Float64}(1.00197)  Gray{Float64}(1.00197)  …  Gray{Float64}(1.00197)\n",
       " Gray{Float64}(1.00197)  Gray{Float64}(1.00197)     Gray{Float64}(1.00197)\n",
       " Gray{Float64}(1.00197)  Gray{Float64}(1.00197)     Gray{Float64}(1.00197)\n",
       " Gray{Float64}(1.00197)  Gray{Float64}(1.00197)     Gray{Float64}(1.00197)\n",
       " Gray{Float64}(1.00197)  Gray{Float64}(1.00197)     Gray{Float64}(1.00197)\n",
       " Gray{Float64}(1.00197)  Gray{Float64}(1.00197)  …  Gray{Float64}(1.00197)\n",
       " Gray{Float64}(1.00197)  Gray{Float64}(1.00197)     Gray{Float64}(1.00197)\n",
       " Gray{Float64}(1.00197)  Gray{Float64}(1.00197)     Gray{Float64}(1.00197)\n",
       " ⋮                                               ⋱  \n",
       " Gray{Float64}(1.00197)  Gray{Float64}(1.00197)     Gray{Float64}(1.00197)\n",
       " Gray{Float64}(1.00197)  Gray{Float64}(1.00197)     Gray{Float64}(1.00197)\n",
       " Gray{Float64}(1.00197)  Gray{Float64}(1.00197)  …  Gray{Float64}(1.00197)\n",
       " Gray{Float64}(1.00197)  Gray{Float64}(1.00197)     Gray{Float64}(1.00197)\n",
       " Gray{Float64}(1.00197)  Gray{Float64}(1.00197)     Gray{Float64}(1.00197)\n",
       " Gray{Float64}(1.00197)  Gray{Float64}(1.00197)     Gray{Float64}(1.00197)\n",
       " Gray{Float64}(1.00197)  Gray{Float64}(1.00197)     Gray{Float64}(1.00197)\n",
       " Gray{Float64}(1.00197)  Gray{Float64}(1.00197)  …  Gray{Float64}(1.00197)\n",
       " Gray{Float64}(1.00197)  Gray{Float64}(1.00197)     Gray{Float64}(1.00197)\n",
       " Gray{Float64}(1.00197)  Gray{Float64}(1.00197)     Gray{Float64}(1.00197)\n",
       " Gray{Float64}(1.00197)  Gray{Float64}(1.00197)     Gray{Float64}(1.00197)\n",
       " Gray{Float64}(1.00197)  Gray{Float64}(1.00197)     Gray{Float64}(1.00197)"
      ]
     },
     "metadata": {},
     "output_type": "display_data"
    }
   ],
   "source": [
    "B,C=compressao(raw,20)\n",
    "display(Gray.(B*C'))"
   ]
  },
  {
   "cell_type": "code",
   "execution_count": 297,
   "id": "3d842931",
   "metadata": {},
   "outputs": [
    {
     "data": {
      "image/png": "[encoded data removed]",
      "text/plain": [
       "200×200 Array{Gray{Float64},2} with eltype Gray{Float64}:\n",
       " Gray{Float64}(1.0002)  Gray{Float64}(1.0002)  …  Gray{Float64}(1.0002)\n",
       " Gray{Float64}(1.0002)  Gray{Float64}(1.0002)     Gray{Float64}(1.0002)\n",
       " Gray{Float64}(1.0002)  Gray{Float64}(1.0002)     Gray{Float64}(1.0002)\n",
       " Gray{Float64}(1.0002)  Gray{Float64}(1.0002)     Gray{Float64}(1.0002)\n",
       " Gray{Float64}(1.0002)  Gray{Float64}(1.0002)     Gray{Float64}(1.0002)\n",
       " Gray{Float64}(1.0002)  Gray{Float64}(1.0002)  …  Gray{Float64}(1.0002)\n",
       " Gray{Float64}(1.0002)  Gray{Float64}(1.0002)     Gray{Float64}(1.0002)\n",
       " Gray{Float64}(1.0002)  Gray{Float64}(1.0002)     Gray{Float64}(1.0002)\n",
       " Gray{Float64}(1.0002)  Gray{Float64}(1.0002)     Gray{Float64}(1.0002)\n",
       " Gray{Float64}(1.0002)  Gray{Float64}(1.0002)     Gray{Float64}(1.0002)\n",
       " Gray{Float64}(1.0002)  Gray{Float64}(1.0002)  …  Gray{Float64}(1.0002)\n",
       " Gray{Float64}(1.0002)  Gray{Float64}(1.0002)     Gray{Float64}(1.0002)\n",
       " Gray{Float64}(1.0002)  Gray{Float64}(1.0002)     Gray{Float64}(1.0002)\n",
       " ⋮                                             ⋱  \n",
       " Gray{Float64}(1.0002)  Gray{Float64}(1.0002)     Gray{Float64}(1.0002)\n",
       " Gray{Float64}(1.0002)  Gray{Float64}(1.0002)     Gray{Float64}(1.0002)\n",
       " Gray{Float64}(1.0002)  Gray{Float64}(1.0002)  …  Gray{Float64}(1.0002)\n",
       " Gray{Float64}(1.0002)  Gray{Float64}(1.0002)     Gray{Float64}(1.0002)\n",
       " Gray{Float64}(1.0002)  Gray{Float64}(1.0002)     Gray{Float64}(1.0002)\n",
       " Gray{Float64}(1.0002)  Gray{Float64}(1.0002)     Gray{Float64}(1.0002)\n",
       " Gray{Float64}(1.0002)  Gray{Float64}(1.0002)     Gray{Float64}(1.0002)\n",
       " Gray{Float64}(1.0002)  Gray{Float64}(1.0002)  …  Gray{Float64}(1.0002)\n",
       " Gray{Float64}(1.0002)  Gray{Float64}(1.0002)     Gray{Float64}(1.0002)\n",
       " Gray{Float64}(1.0002)  Gray{Float64}(1.0002)     Gray{Float64}(1.0002)\n",
       " Gray{Float64}(1.0002)  Gray{Float64}(1.0002)     Gray{Float64}(1.0002)\n",
       " Gray{Float64}(1.0002)  Gray{Float64}(1.0002)     Gray{Float64}(1.0002)"
      ]
     },
     "metadata": {},
     "output_type": "display_data"
    }
   ],
   "source": [
    "B,C=compressao(raw,41)\n",
    "display(Gray.(B*C'))"
   ]
  },
  {
   "cell_type": "code",
   "execution_count": 298,
   "id": "f92d1a87",
   "metadata": {},
   "outputs": [
    {
     "data": {
      "image/png": "[encoded data removed]",
      "text/plain": [
       "200×200 Array{Gray{Float64},2} with eltype Gray{Float64}:\n",
       " Gray{Float64}(1.0)  Gray{Float64}(1.0)  …  Gray{Float64}(1.0)\n",
       " Gray{Float64}(1.0)  Gray{Float64}(1.0)     Gray{Float64}(1.0)\n",
       " Gray{Float64}(1.0)  Gray{Float64}(1.0)     Gray{Float64}(1.0)\n",
       " Gray{Float64}(1.0)  Gray{Float64}(1.0)     Gray{Float64}(1.0)\n",
       " Gray{Float64}(1.0)  Gray{Float64}(1.0)     Gray{Float64}(1.0)\n",
       " Gray{Float64}(1.0)  Gray{Float64}(1.0)  …  Gray{Float64}(1.0)\n",
       " Gray{Float64}(1.0)  Gray{Float64}(1.0)     Gray{Float64}(1.0)\n",
       " Gray{Float64}(1.0)  Gray{Float64}(1.0)     Gray{Float64}(1.0)\n",
       " Gray{Float64}(1.0)  Gray{Float64}(1.0)     Gray{Float64}(1.0)\n",
       " Gray{Float64}(1.0)  Gray{Float64}(1.0)     Gray{Float64}(1.0)\n",
       " Gray{Float64}(1.0)  Gray{Float64}(1.0)  …  Gray{Float64}(1.0)\n",
       " Gray{Float64}(1.0)  Gray{Float64}(1.0)     Gray{Float64}(1.0)\n",
       " Gray{Float64}(1.0)  Gray{Float64}(1.0)     Gray{Float64}(1.0)\n",
       " ⋮                                       ⋱  \n",
       " Gray{Float64}(1.0)  Gray{Float64}(1.0)     Gray{Float64}(1.0)\n",
       " Gray{Float64}(1.0)  Gray{Float64}(1.0)     Gray{Float64}(1.0)\n",
       " Gray{Float64}(1.0)  Gray{Float64}(1.0)  …  Gray{Float64}(1.0)\n",
       " Gray{Float64}(1.0)  Gray{Float64}(1.0)     Gray{Float64}(1.0)\n",
       " Gray{Float64}(1.0)  Gray{Float64}(1.0)     Gray{Float64}(1.0)\n",
       " Gray{Float64}(1.0)  Gray{Float64}(1.0)     Gray{Float64}(1.0)\n",
       " Gray{Float64}(1.0)  Gray{Float64}(1.0)     Gray{Float64}(1.0)\n",
       " Gray{Float64}(1.0)  Gray{Float64}(1.0)  …  Gray{Float64}(1.0)\n",
       " Gray{Float64}(1.0)  Gray{Float64}(1.0)     Gray{Float64}(1.0)\n",
       " Gray{Float64}(1.0)  Gray{Float64}(1.0)     Gray{Float64}(1.0)\n",
       " Gray{Float64}(1.0)  Gray{Float64}(1.0)     Gray{Float64}(1.0)\n",
       " Gray{Float64}(1.0)  Gray{Float64}(1.0)     Gray{Float64}(1.0)"
      ]
     },
     "metadata": {},
     "output_type": "display_data"
    }
   ],
   "source": [
    "B,C=compressao(raw,100)\n",
    "display(Gray.(B*C'))"
   ]
  },
  {
   "cell_type": "code",
   "execution_count": null,
   "id": "a4657e58",
   "metadata": {},
   "outputs": [],
   "source": []
  }
 ],
 "metadata": {
  "kernelspec": {
   "display_name": "Julia 1.6.0",
   "language": "julia",
   "name": "julia-1.6"
  },
  "language_info": {
   "file_extension": ".jl",
   "mimetype": "application/julia",
   "name": "julia",
   "version": "1.6.1"
  }
 },
 "nbformat": 4,
 "nbformat_minor": 5
}
